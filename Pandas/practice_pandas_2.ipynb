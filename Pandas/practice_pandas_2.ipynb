{
  "cells": [
    {
      "cell_type": "markdown",
      "metadata": {
        "id": "exkLCPgyK_Vl"
      },
      "source": [
        "# (실습) 데이터프레임 인덱싱"
      ]
    },
    {
      "cell_type": "markdown",
      "metadata": {
        "id": "4m0Li2ySLMa-"
      },
      "source": [
        "**필수 라이브러리**"
      ]
    },
    {
      "cell_type": "code",
      "execution_count": null,
      "metadata": {
        "id": "LKHxbN0QLGJE"
      },
      "outputs": [],
      "source": [
        "import numpy as np\n",
        "import pandas as pd"
      ]
    },
    {
      "cell_type": "markdown",
      "metadata": {
        "id": "UAmW-dG6BhUI"
      },
      "source": [
        "**문제 1**"
      ]
    },
    {
      "cell_type": "markdown",
      "metadata": {
        "id": "jhZpoc8kXA8u"
      },
      "source": [
        "(1) 아래의 딕셔너리 `data`를 이용하여 데이터프레임`df1`를 생성하여라."
      ]
    },
    {
      "cell_type": "code",
      "execution_count": null,
      "metadata": {
        "id": "Cu2UmLnGqTMf"
      },
      "outputs": [],
      "source": [
        "data = {'A' : [0, 5, 15, 20, 25, 30, 35, 40],\n",
        "        'B' : [1, 2, 3, 4, 5, 6, 7, 8]}"
      ]
    },
    {
      "cell_type": "code",
      "execution_count": null,
      "metadata": {
        "id": "Fpnz9hx8qTMg"
      },
      "outputs": [],
      "source": [
        "# 코드를 작성하여라.\n",
        "\n",
        "df1 = None"
      ]
    },
    {
      "cell_type": "markdown",
      "metadata": {
        "id": "3aRmp9PqqTMg"
      },
      "source": [
        "(2) 다음 두 리스트를 이용하여 `C`와 `D`열을 `df1`에 추가하여라."
      ]
    },
    {
      "cell_type": "code",
      "execution_count": null,
      "metadata": {
        "id": "u-2gZxvtLoUF"
      },
      "outputs": [],
      "source": [
        "C = [3, 3, 3, 3, 3, 3, 3, 3]\n",
        "D = [4, 2, 9, 1, 20, 3, 15, 17]"
      ]
    },
    {
      "cell_type": "code",
      "execution_count": null,
      "metadata": {
        "id": "vkDBExMtqTMg"
      },
      "outputs": [],
      "source": [
        "# 코드를 작성하여라.\n"
      ]
    },
    {
      "cell_type": "markdown",
      "metadata": {
        "id": "eC5wU_dKfeyZ"
      },
      "source": [
        "(3) `A`, `B`, `D`열에서 행 인덱스가 2, 3, 4인 자료를 추출하는 한줄 표현식을 작성하여라."
      ]
    },
    {
      "cell_type": "code",
      "execution_count": null,
      "metadata": {
        "id": "otgLxVqqqTMg"
      },
      "outputs": [],
      "source": [
        "# 코드를 작성하여라.\n"
      ]
    },
    {
      "cell_type": "markdown",
      "metadata": {
        "id": "NpreNqo_ZuBJ"
      },
      "source": [
        "(4) `df1`에 `K`열을 추가하여라. 이때, `K`열의 각 항목은 `B`열의 각 항목 곱하기 3이다."
      ]
    },
    {
      "cell_type": "code",
      "execution_count": null,
      "metadata": {
        "id": "NFxJOBCFqTMg"
      },
      "outputs": [],
      "source": [
        "# 코드를 작성하여라.\n"
      ]
    },
    {
      "cell_type": "markdown",
      "metadata": {
        "id": "wAbY_7heqTMg"
      },
      "source": [
        "(5) `df1`에 `R`열을 추가하여라.\n",
        "이때, `R`열의 각 항목은 균등분포에 따라 `[0, 1)` 구간에서 선택된 임의의 수로 구성된다.\n",
        "\n",
        "힌트: `numpy.random.rand()`"
      ]
    },
    {
      "cell_type": "code",
      "execution_count": null,
      "metadata": {
        "id": "zA9FUgV0qTMg"
      },
      "outputs": [],
      "source": [
        "# 코드를 작성하여라.\n"
      ]
    },
    {
      "cell_type": "markdown",
      "metadata": {
        "id": "7-xRPHKiqTMg"
      },
      "source": [
        "(6) `df1`에서 `C`열에 인덱스가 1, 3, 5인 자료의 값을 6으로 변경하여라."
      ]
    },
    {
      "cell_type": "code",
      "execution_count": null,
      "metadata": {
        "id": "sa5zIbIOqTMg"
      },
      "outputs": [],
      "source": [
        "# 코드를 작성하여라.\n"
      ]
    },
    {
      "cell_type": "code",
      "execution_count": null,
      "metadata": {
        "id": "mtAmXaGVqTMg",
        "outputId": "60a96952-3278-46ee-e02d-9cda5ee7d2ea"
      },
      "outputs": [
        {
          "data": {
            "text/html": [
              "<div>\n",
              "<style scoped>\n",
              "    .dataframe tbody tr th:only-of-type {\n",
              "        vertical-align: middle;\n",
              "    }\n",
              "\n",
              "    .dataframe tbody tr th {\n",
              "        vertical-align: top;\n",
              "    }\n",
              "\n",
              "    .dataframe thead th {\n",
              "        text-align: right;\n",
              "    }\n",
              "</style>\n",
              "<table border=\"1\" class=\"dataframe\">\n",
              "  <thead>\n",
              "    <tr style=\"text-align: right;\">\n",
              "      <th></th>\n",
              "      <th>A</th>\n",
              "      <th>B</th>\n",
              "      <th>C</th>\n",
              "      <th>D</th>\n",
              "      <th>K</th>\n",
              "      <th>R</th>\n",
              "    </tr>\n",
              "  </thead>\n",
              "  <tbody>\n",
              "    <tr>\n",
              "      <th>0</th>\n",
              "      <td>0</td>\n",
              "      <td>1</td>\n",
              "      <td>3</td>\n",
              "      <td>4</td>\n",
              "      <td>3</td>\n",
              "      <td>0.266891</td>\n",
              "    </tr>\n",
              "    <tr>\n",
              "      <th>1</th>\n",
              "      <td>5</td>\n",
              "      <td>2</td>\n",
              "      <td>6</td>\n",
              "      <td>2</td>\n",
              "      <td>6</td>\n",
              "      <td>0.152845</td>\n",
              "    </tr>\n",
              "    <tr>\n",
              "      <th>2</th>\n",
              "      <td>15</td>\n",
              "      <td>3</td>\n",
              "      <td>3</td>\n",
              "      <td>9</td>\n",
              "      <td>9</td>\n",
              "      <td>0.989870</td>\n",
              "    </tr>\n",
              "    <tr>\n",
              "      <th>3</th>\n",
              "      <td>20</td>\n",
              "      <td>4</td>\n",
              "      <td>6</td>\n",
              "      <td>1</td>\n",
              "      <td>12</td>\n",
              "      <td>0.776727</td>\n",
              "    </tr>\n",
              "    <tr>\n",
              "      <th>4</th>\n",
              "      <td>25</td>\n",
              "      <td>5</td>\n",
              "      <td>3</td>\n",
              "      <td>20</td>\n",
              "      <td>15</td>\n",
              "      <td>0.042458</td>\n",
              "    </tr>\n",
              "    <tr>\n",
              "      <th>5</th>\n",
              "      <td>30</td>\n",
              "      <td>6</td>\n",
              "      <td>6</td>\n",
              "      <td>3</td>\n",
              "      <td>18</td>\n",
              "      <td>0.193763</td>\n",
              "    </tr>\n",
              "    <tr>\n",
              "      <th>6</th>\n",
              "      <td>35</td>\n",
              "      <td>7</td>\n",
              "      <td>3</td>\n",
              "      <td>15</td>\n",
              "      <td>21</td>\n",
              "      <td>0.911126</td>\n",
              "    </tr>\n",
              "    <tr>\n",
              "      <th>7</th>\n",
              "      <td>40</td>\n",
              "      <td>8</td>\n",
              "      <td>3</td>\n",
              "      <td>17</td>\n",
              "      <td>24</td>\n",
              "      <td>0.046128</td>\n",
              "    </tr>\n",
              "  </tbody>\n",
              "</table>\n",
              "</div>"
            ],
            "text/plain": [
              "    A  B  C   D   K         R\n",
              "0   0  1  3   4   3  0.266891\n",
              "1   5  2  6   2   6  0.152845\n",
              "2  15  3  3   9   9  0.989870\n",
              "3  20  4  6   1  12  0.776727\n",
              "4  25  5  3  20  15  0.042458\n",
              "5  30  6  6   3  18  0.193763\n",
              "6  35  7  3  15  21  0.911126\n",
              "7  40  8  3  17  24  0.046128"
            ]
          },
          "execution_count": 8,
          "metadata": {},
          "output_type": "execute_result"
        }
      ],
      "source": [
        "df1.loc[[1, 3, 5], 'C'] = 6\n",
        "\n",
        "df1"
      ]
    },
    {
      "cell_type": "markdown",
      "metadata": {
        "id": "lVl2W8bQSs02"
      },
      "source": [
        "**문제 2**"
      ]
    },
    {
      "cell_type": "markdown",
      "metadata": {
        "id": "QyBcSUm9qTMg"
      },
      "source": [
        "아래 데이터프레임을 생성하기 위해 `pd.date_range()` 함수는 시간으로 구성된 인덱스 자료형을 생성한다.\n",
        "함수 호출에 사용된 키워드 인자의 의미는 다음과 같다.\n",
        "\n",
        "- `start=\"20130101`: 2013년 1월 1일부터 시작\n",
        "- `periods=6`: 첫째 인자로 지정된 시간부터 6 개의 시간 데이터 샘플 생성\n",
        "- `freq=\"D\"`: 시간 데이터 샘플을 일(day) 단위로 생성"
      ]
    },
    {
      "cell_type": "code",
      "execution_count": null,
      "metadata": {
        "id": "gHUJRk9_qTMg",
        "outputId": "60acf304-c380-4bf8-b37b-522520180c56"
      },
      "outputs": [
        {
          "data": {
            "text/plain": [
              "DatetimeIndex(['2013-01-01', '2013-01-02', '2013-01-03', '2013-01-04',\n",
              "               '2013-01-05', '2013-01-06'],\n",
              "              dtype='datetime64[ns]', freq='D')"
            ]
          },
          "execution_count": 9,
          "metadata": {},
          "output_type": "execute_result"
        }
      ],
      "source": [
        "dates = pd.date_range(start=\"20130101\", periods=6, freq=\"D\")\n",
        "dates"
      ]
    },
    {
      "cell_type": "code",
      "execution_count": null,
      "metadata": {
        "id": "HQpi7KAbqTMh",
        "outputId": "42fcfc00-f57d-48ce-f27d-ab50e23f656a"
      },
      "outputs": [
        {
          "data": {
            "text/html": [
              "<div>\n",
              "<style scoped>\n",
              "    .dataframe tbody tr th:only-of-type {\n",
              "        vertical-align: middle;\n",
              "    }\n",
              "\n",
              "    .dataframe tbody tr th {\n",
              "        vertical-align: top;\n",
              "    }\n",
              "\n",
              "    .dataframe thead th {\n",
              "        text-align: right;\n",
              "    }\n",
              "</style>\n",
              "<table border=\"1\" class=\"dataframe\">\n",
              "  <thead>\n",
              "    <tr style=\"text-align: right;\">\n",
              "      <th></th>\n",
              "      <th>A</th>\n",
              "      <th>B</th>\n",
              "      <th>C</th>\n",
              "      <th>D</th>\n",
              "    </tr>\n",
              "  </thead>\n",
              "  <tbody>\n",
              "    <tr>\n",
              "      <th>2013-01-01</th>\n",
              "      <td>1.764052</td>\n",
              "      <td>0.400157</td>\n",
              "      <td>0.978738</td>\n",
              "      <td>2.240893</td>\n",
              "    </tr>\n",
              "    <tr>\n",
              "      <th>2013-01-02</th>\n",
              "      <td>1.867558</td>\n",
              "      <td>-0.977278</td>\n",
              "      <td>0.950088</td>\n",
              "      <td>-0.151357</td>\n",
              "    </tr>\n",
              "    <tr>\n",
              "      <th>2013-01-03</th>\n",
              "      <td>-0.103219</td>\n",
              "      <td>0.410599</td>\n",
              "      <td>0.144044</td>\n",
              "      <td>1.454274</td>\n",
              "    </tr>\n",
              "    <tr>\n",
              "      <th>2013-01-04</th>\n",
              "      <td>0.761038</td>\n",
              "      <td>0.121675</td>\n",
              "      <td>0.443863</td>\n",
              "      <td>0.333674</td>\n",
              "    </tr>\n",
              "    <tr>\n",
              "      <th>2013-01-05</th>\n",
              "      <td>1.494079</td>\n",
              "      <td>-0.205158</td>\n",
              "      <td>0.313068</td>\n",
              "      <td>-0.854096</td>\n",
              "    </tr>\n",
              "    <tr>\n",
              "      <th>2013-01-06</th>\n",
              "      <td>-2.552990</td>\n",
              "      <td>0.653619</td>\n",
              "      <td>0.864436</td>\n",
              "      <td>-0.742165</td>\n",
              "    </tr>\n",
              "  </tbody>\n",
              "</table>\n",
              "</div>"
            ],
            "text/plain": [
              "                   A         B         C         D\n",
              "2013-01-01  1.764052  0.400157  0.978738  2.240893\n",
              "2013-01-02  1.867558 -0.977278  0.950088 -0.151357\n",
              "2013-01-03 -0.103219  0.410599  0.144044  1.454274\n",
              "2013-01-04  0.761038  0.121675  0.443863  0.333674\n",
              "2013-01-05  1.494079 -0.205158  0.313068 -0.854096\n",
              "2013-01-06 -2.552990  0.653619  0.864436 -0.742165"
            ]
          },
          "execution_count": 10,
          "metadata": {},
          "output_type": "execute_result"
        }
      ],
      "source": [
        "np.random.seed(0)\n",
        "\n",
        "df = pd.DataFrame(np.random.randn(6, 4), index=dates, columns=list(\"ABCD\"))\n",
        "df"
      ]
    },
    {
      "cell_type": "markdown",
      "metadata": {
        "id": "HLkR1y-JqTMh"
      },
      "source": [
        "(1) `'A'` 열만을 추출하여 시리즈를 생성하여라."
      ]
    },
    {
      "cell_type": "code",
      "execution_count": null,
      "metadata": {
        "id": "7Q-80diRqTMh"
      },
      "outputs": [],
      "source": [
        "# 한 줄 표현식을 작성하여라.\n"
      ]
    },
    {
      "cell_type": "markdown",
      "metadata": {
        "id": "4p0fAdjMqTMh"
      },
      "source": [
        "(2) 0번 행부터 2번 행까지만 포함하는 데이터프레임을 생성하여라."
      ]
    },
    {
      "cell_type": "code",
      "execution_count": null,
      "metadata": {
        "id": "-L60-l2HqTMh"
      },
      "outputs": [],
      "source": [
        "# 한 줄 표현식을 작성하여라.\n"
      ]
    },
    {
      "cell_type": "markdown",
      "metadata": {
        "id": "zceIH97nqTMh"
      },
      "source": [
        "(3) `df`의 인덱스는 `dates` 변수가 가리키는 날짜 인덱스를 사용한다."
      ]
    },
    {
      "cell_type": "code",
      "execution_count": null,
      "metadata": {
        "id": "ym8AtRPQqTMh",
        "outputId": "57e905b3-3afa-4812-e9a1-659936f08050"
      },
      "outputs": [
        {
          "data": {
            "text/plain": [
              "DatetimeIndex(['2013-01-01', '2013-01-02', '2013-01-03', '2013-01-04',\n",
              "               '2013-01-05', '2013-01-06'],\n",
              "              dtype='datetime64[ns]', freq='D')"
            ]
          },
          "execution_count": 15,
          "metadata": {},
          "output_type": "execute_result"
        }
      ],
      "source": [
        "df.index"
      ]
    },
    {
      "cell_type": "code",
      "execution_count": null,
      "metadata": {
        "id": "sedMRAc_qTMh",
        "outputId": "d1410c2b-2757-42bf-ce33-896460e8ae66"
      },
      "outputs": [
        {
          "data": {
            "text/plain": [
              "DatetimeIndex(['2013-01-01', '2013-01-02', '2013-01-03', '2013-01-04',\n",
              "               '2013-01-05', '2013-01-06'],\n",
              "              dtype='datetime64[ns]', freq='D')"
            ]
          },
          "execution_count": 16,
          "metadata": {},
          "output_type": "execute_result"
        }
      ],
      "source": [
        "dates"
      ]
    },
    {
      "cell_type": "markdown",
      "metadata": {
        "id": "sYVWAdTcqTMh"
      },
      "source": [
        "첫째 날짜, 즉 2013년 1월 1일의 데이터를 확인하는 한 줄 표현식을 작성하여라.\n",
        "단 `loc[]` 객체와 `dates` 변수를 이용해야 한다."
      ]
    },
    {
      "cell_type": "code",
      "execution_count": null,
      "metadata": {
        "id": "nGcPElPBqTMh"
      },
      "outputs": [],
      "source": [
        "# 한 줄 표현식을 작성하여라.\n"
      ]
    },
    {
      "cell_type": "markdown",
      "metadata": {
        "id": "xC43V6fpqTMh"
      },
      "source": [
        "(4) `'A'`와 `'B'` 두 열만 추출하는 한 줄 표현식을 작성하여라.\n",
        "단 `loc[]` 객체를 이용해야 한다."
      ]
    },
    {
      "cell_type": "code",
      "execution_count": null,
      "metadata": {
        "id": "VMGPGrTKqTMh"
      },
      "outputs": [],
      "source": [
        "# 한 줄 표현식을 작성하여라.\n"
      ]
    },
    {
      "cell_type": "markdown",
      "metadata": {
        "id": "CiMcGdp5qTMh"
      },
      "source": [
        "(5) 2013년 1월 2일부터 1월 4일까지를 대상으로 `A`, `B` 두 열만 추출하는 한 줄 표현식을 작성하여라.\n",
        "단 `loc[]` 객체를 이용해야 한다."
      ]
    },
    {
      "cell_type": "code",
      "execution_count": null,
      "metadata": {
        "id": "hyyq2wxIqTMh"
      },
      "outputs": [],
      "source": [
        "# 한 줄 표현식을 작성하여라.\n"
      ]
    },
    {
      "cell_type": "markdown",
      "metadata": {
        "id": "yawGw2glqTMh"
      },
      "source": [
        "(6) 2013년 1월 2일의 `A`, `B` 두 열만 추출하는 한 줄 표현식을 작성하여라.\n",
        "단 `loc[]` 객체를 이용해야 한다."
      ]
    },
    {
      "cell_type": "code",
      "execution_count": null,
      "metadata": {
        "id": "McJGqJq9qTMh"
      },
      "outputs": [],
      "source": [
        "# 한 줄 표현식을 작성하여라.\n"
      ]
    },
    {
      "cell_type": "markdown",
      "metadata": {
        "id": "ZdSEZtoVqTMh"
      },
      "source": [
        "(7) 2013년 1월 1일의 `A` 열만 추출하는 한 줄 표현식을 작성하여라.\n",
        "단 `loc[]` 객체를 이용해야 한다."
      ]
    },
    {
      "cell_type": "code",
      "execution_count": null,
      "metadata": {
        "id": "r2WzXSUpqTMh"
      },
      "outputs": [],
      "source": [
        "# 한 줄 표현식을 작성하여라.\n"
      ]
    },
    {
      "cell_type": "markdown",
      "metadata": {
        "id": "-2hN_bmKw8yy"
      },
      "source": [
        "(8) 3번 행만 추출하는 한 줄 표현식을 작성하여라.\n",
        "단 `iloc[]` 객체를 이용해야 한다."
      ]
    },
    {
      "cell_type": "code",
      "execution_count": null,
      "metadata": {
        "id": "RU4D3VI2qTMi"
      },
      "outputs": [],
      "source": [
        "# 한 줄 표현식을 작성하여라.\n"
      ]
    },
    {
      "cell_type": "markdown",
      "metadata": {
        "id": "XOoPOUzDUE4Z"
      },
      "source": [
        "(9) 3번부터 4번행을 대상으로 0번, 1변 열만 추출하는 한 줄 표현식을 작성하여라.\n",
        "단 `iloc[]` 객체를 이용해야 한다."
      ]
    },
    {
      "cell_type": "code",
      "execution_count": null,
      "metadata": {
        "id": "gnVZ6ejEqTMi"
      },
      "outputs": [],
      "source": [
        "# 한 줄 표현식을 작성하여라.\n"
      ]
    },
    {
      "cell_type": "markdown",
      "metadata": {
        "id": "3-TZIwk8USJ6"
      },
      "source": [
        "(10) 아래 두 리스트에 포함된 행과 열만 추출하는 한 줄 표현식을 작성하여라.\n",
        "단 `iloc[]` 객체와 팬시 인덱싱을 활용한다.\n",
        "\n",
        "- 행: `[1, 2, 4]`\n",
        "- 열: `[0, 2, 3, 1]`"
      ]
    },
    {
      "cell_type": "code",
      "execution_count": null,
      "metadata": {
        "id": "u0a5g9RpqTMi"
      },
      "outputs": [],
      "source": [
        "# 한 줄 표현식을 작성하여라.\n"
      ]
    },
    {
      "cell_type": "markdown",
      "metadata": {
        "id": "7U_nHSJvqTMi"
      },
      "source": [
        "(11) 홀수 행만 추출하는 한 줄 표현식을 작성하여라.\n",
        "단 `iloc[]` 객체를 이용해야 한다."
      ]
    },
    {
      "cell_type": "code",
      "execution_count": null,
      "metadata": {
        "id": "DfKUf8HdqTMi"
      },
      "outputs": [],
      "source": [
        "# 한 줄 표현식을 작성하여라.\n"
      ]
    },
    {
      "cell_type": "markdown",
      "metadata": {
        "id": "OWsQq1qtqTMi"
      },
      "source": [
        "(12) 1번, 2번 열만 추출하는 한 줄 표현식을 작성하여라.\n",
        "단 `iloc[]` 객체를 이용해야 한다."
      ]
    },
    {
      "cell_type": "code",
      "execution_count": null,
      "metadata": {
        "id": "FfzimSzeqTMi"
      },
      "outputs": [],
      "source": [
        "# 한 줄 표현식을 작성하여라.\n"
      ]
    },
    {
      "cell_type": "markdown",
      "metadata": {
        "id": "TEiEyP0eqTMi"
      },
      "source": [
        "(13) `A` 열의 항목이 양수인 행만 추출하여라.\n",
        "단, 단 `loc[]` 객체와 부울 마스크를 이용한다."
      ]
    },
    {
      "cell_type": "code",
      "execution_count": null,
      "metadata": {
        "id": "0-DgLlSqqTMi"
      },
      "outputs": [],
      "source": [
        "# 한 줄 표현식을 작성하여라.\n"
      ]
    },
    {
      "cell_type": "markdown",
      "metadata": {
        "id": "Vte681GdU74h"
      },
      "source": [
        "(14) 양수 항목만 그대로 두고 나머지는 모두 결측치로 처리된 데이터프렘임을\n",
        "가리키는 변수 `df_positive`를 선언하여라.\n",
        "\n",
        "힌트: 부울 마스크를 이용한다."
      ]
    },
    {
      "cell_type": "code",
      "execution_count": null,
      "metadata": {
        "id": "y90UXNFmqTMi"
      },
      "outputs": [],
      "source": [
        "# 코드를 작성하여라.\n"
      ]
    },
    {
      "cell_type": "markdown",
      "metadata": {
        "id": "pwu3EhgDqTMi"
      },
      "source": [
        "(15) `df_positive` 변수가 가리키는 데이터프렘에서 결측치가 하나라도 있는 열을 모두 삭제하여라"
      ]
    },
    {
      "cell_type": "code",
      "execution_count": null,
      "metadata": {
        "id": "pBxcffbsqTMi"
      },
      "outputs": [],
      "source": [
        "# 한 줄 표현식을 작성하여라.\n"
      ]
    },
    {
      "cell_type": "markdown",
      "metadata": {
        "id": "WipD-g8jqTMi"
      },
      "source": [
        "**문제 3**"
      ]
    },
    {
      "cell_type": "markdown",
      "metadata": {
        "id": "HMI1XX8TSSDB"
      },
      "source": [
        "아래 링크에 있는 `score.txt` 파일에는\n",
        "100명의 학생들의 국어, 영어, 수학, 사회, 과학 점수가 들어 있다.      \n",
        "이 자료를 담은 데이터프레임 `df_score`를 다음과 같이 만든다."
      ]
    },
    {
      "cell_type": "code",
      "execution_count": null,
      "metadata": {
        "id": "_S6v9ZuGqTMi"
      },
      "outputs": [],
      "source": [
        "score_url = \"https://raw.githubusercontent.com/codingalzi/datapy/master/practices/data/score.txt\""
      ]
    },
    {
      "cell_type": "code",
      "execution_count": null,
      "metadata": {
        "id": "RwVIynSYqTMi",
        "outputId": "57f1babb-03a7-4628-86ca-965ca3c98c3b"
      },
      "outputs": [
        {
          "data": {
            "text/html": [
              "<div>\n",
              "<style scoped>\n",
              "    .dataframe tbody tr th:only-of-type {\n",
              "        vertical-align: middle;\n",
              "    }\n",
              "\n",
              "    .dataframe tbody tr th {\n",
              "        vertical-align: top;\n",
              "    }\n",
              "\n",
              "    .dataframe thead th {\n",
              "        text-align: right;\n",
              "    }\n",
              "</style>\n",
              "<table border=\"1\" class=\"dataframe\">\n",
              "  <thead>\n",
              "    <tr style=\"text-align: right;\">\n",
              "      <th></th>\n",
              "      <th># 국어</th>\n",
              "      <th>영어</th>\n",
              "      <th>수학</th>\n",
              "      <th>사회</th>\n",
              "      <th>과학</th>\n",
              "    </tr>\n",
              "  </thead>\n",
              "  <tbody>\n",
              "    <tr>\n",
              "      <th>0</th>\n",
              "      <td>15</td>\n",
              "      <td>16</td>\n",
              "      <td>21</td>\n",
              "      <td>0</td>\n",
              "      <td>14</td>\n",
              "    </tr>\n",
              "    <tr>\n",
              "      <th>1</th>\n",
              "      <td>96</td>\n",
              "      <td>91</td>\n",
              "      <td>14</td>\n",
              "      <td>11</td>\n",
              "      <td>75</td>\n",
              "    </tr>\n",
              "    <tr>\n",
              "      <th>2</th>\n",
              "      <td>49</td>\n",
              "      <td>63</td>\n",
              "      <td>15</td>\n",
              "      <td>18</td>\n",
              "      <td>61</td>\n",
              "    </tr>\n",
              "    <tr>\n",
              "      <th>3</th>\n",
              "      <td>54</td>\n",
              "      <td>4</td>\n",
              "      <td>20</td>\n",
              "      <td>21</td>\n",
              "      <td>1</td>\n",
              "    </tr>\n",
              "    <tr>\n",
              "      <th>4</th>\n",
              "      <td>46</td>\n",
              "      <td>8</td>\n",
              "      <td>7</td>\n",
              "      <td>23</td>\n",
              "      <td>9</td>\n",
              "    </tr>\n",
              "    <tr>\n",
              "      <th>...</th>\n",
              "      <td>...</td>\n",
              "      <td>...</td>\n",
              "      <td>...</td>\n",
              "      <td>...</td>\n",
              "      <td>...</td>\n",
              "    </tr>\n",
              "    <tr>\n",
              "      <th>95</th>\n",
              "      <td>69</td>\n",
              "      <td>61</td>\n",
              "      <td>11</td>\n",
              "      <td>28</td>\n",
              "      <td>97</td>\n",
              "    </tr>\n",
              "    <tr>\n",
              "      <th>96</th>\n",
              "      <td>41</td>\n",
              "      <td>97</td>\n",
              "      <td>16</td>\n",
              "      <td>13</td>\n",
              "      <td>8</td>\n",
              "    </tr>\n",
              "    <tr>\n",
              "      <th>97</th>\n",
              "      <td>0</td>\n",
              "      <td>84</td>\n",
              "      <td>18</td>\n",
              "      <td>9</td>\n",
              "      <td>15</td>\n",
              "    </tr>\n",
              "    <tr>\n",
              "      <th>98</th>\n",
              "      <td>19</td>\n",
              "      <td>11</td>\n",
              "      <td>15</td>\n",
              "      <td>2</td>\n",
              "      <td>90</td>\n",
              "    </tr>\n",
              "    <tr>\n",
              "      <th>99</th>\n",
              "      <td>0</td>\n",
              "      <td>7</td>\n",
              "      <td>33</td>\n",
              "      <td>7</td>\n",
              "      <td>58</td>\n",
              "    </tr>\n",
              "  </tbody>\n",
              "</table>\n",
              "<p>100 rows × 5 columns</p>\n",
              "</div>"
            ],
            "text/plain": [
              "    # 국어   영어   수학   사회   과학\n",
              "0     15   16   21    0   14\n",
              "1     96   91   14   11   75\n",
              "2     49   63   15   18   61\n",
              "3     54    4   20   21    1\n",
              "4     46    8    7   23    9\n",
              "..   ...  ...  ...  ...  ...\n",
              "95    69   61   11   28   97\n",
              "96    41   97   16   13    8\n",
              "97     0   84   18    9   15\n",
              "98    19   11   15    2   90\n",
              "99     0    7   33    7   58\n",
              "\n",
              "[100 rows x 5 columns]"
            ]
          },
          "execution_count": 32,
          "metadata": {},
          "output_type": "execute_result"
        }
      ],
      "source": [
        "df_score = pd.read_csv(score_url, sep=',', header=0)\n",
        "df_score"
      ]
    },
    {
      "cell_type": "markdown",
      "metadata": {
        "id": "V3ngMMypqTMi"
      },
      "source": [
        "열 인덱스 라벨에 공백, `#` 기호 등이 포함되어 있기에 제거한다."
      ]
    },
    {
      "cell_type": "code",
      "execution_count": null,
      "metadata": {
        "id": "CJ38ZD3CqTMi",
        "outputId": "8e4d3593-dfd1-4067-bfe3-32f0b0b11c44"
      },
      "outputs": [
        {
          "data": {
            "text/plain": [
              "Index(['# 국어', ' 영어', ' 수학', ' 사회', ' 과학'], dtype='object')"
            ]
          },
          "execution_count": 33,
          "metadata": {},
          "output_type": "execute_result"
        }
      ],
      "source": [
        "df_score.columns"
      ]
    },
    {
      "cell_type": "code",
      "execution_count": null,
      "metadata": {
        "id": "Muv7HAyZqTMj",
        "outputId": "2f667a51-ad5f-4d0e-940d-d375ed61c7ee"
      },
      "outputs": [
        {
          "data": {
            "text/plain": [
              "Index(['국어', '영어', '수학', '사회', '과학'], dtype='object')"
            ]
          },
          "execution_count": 34,
          "metadata": {},
          "output_type": "execute_result"
        }
      ],
      "source": [
        "columns_stipped = df_score.columns.str.strip(\"# \")\n",
        "columns_stipped"
      ]
    },
    {
      "cell_type": "code",
      "execution_count": null,
      "metadata": {
        "id": "mSjvdutWqTMj",
        "outputId": "e4668c9b-0817-4498-e2c0-9b411cc27a7e"
      },
      "outputs": [
        {
          "data": {
            "text/html": [
              "<div>\n",
              "<style scoped>\n",
              "    .dataframe tbody tr th:only-of-type {\n",
              "        vertical-align: middle;\n",
              "    }\n",
              "\n",
              "    .dataframe tbody tr th {\n",
              "        vertical-align: top;\n",
              "    }\n",
              "\n",
              "    .dataframe thead th {\n",
              "        text-align: right;\n",
              "    }\n",
              "</style>\n",
              "<table border=\"1\" class=\"dataframe\">\n",
              "  <thead>\n",
              "    <tr style=\"text-align: right;\">\n",
              "      <th></th>\n",
              "      <th>국어</th>\n",
              "      <th>영어</th>\n",
              "      <th>수학</th>\n",
              "      <th>사회</th>\n",
              "      <th>과학</th>\n",
              "    </tr>\n",
              "  </thead>\n",
              "  <tbody>\n",
              "    <tr>\n",
              "      <th>0</th>\n",
              "      <td>15</td>\n",
              "      <td>16</td>\n",
              "      <td>21</td>\n",
              "      <td>0</td>\n",
              "      <td>14</td>\n",
              "    </tr>\n",
              "    <tr>\n",
              "      <th>1</th>\n",
              "      <td>96</td>\n",
              "      <td>91</td>\n",
              "      <td>14</td>\n",
              "      <td>11</td>\n",
              "      <td>75</td>\n",
              "    </tr>\n",
              "    <tr>\n",
              "      <th>2</th>\n",
              "      <td>49</td>\n",
              "      <td>63</td>\n",
              "      <td>15</td>\n",
              "      <td>18</td>\n",
              "      <td>61</td>\n",
              "    </tr>\n",
              "    <tr>\n",
              "      <th>3</th>\n",
              "      <td>54</td>\n",
              "      <td>4</td>\n",
              "      <td>20</td>\n",
              "      <td>21</td>\n",
              "      <td>1</td>\n",
              "    </tr>\n",
              "    <tr>\n",
              "      <th>4</th>\n",
              "      <td>46</td>\n",
              "      <td>8</td>\n",
              "      <td>7</td>\n",
              "      <td>23</td>\n",
              "      <td>9</td>\n",
              "    </tr>\n",
              "    <tr>\n",
              "      <th>...</th>\n",
              "      <td>...</td>\n",
              "      <td>...</td>\n",
              "      <td>...</td>\n",
              "      <td>...</td>\n",
              "      <td>...</td>\n",
              "    </tr>\n",
              "    <tr>\n",
              "      <th>95</th>\n",
              "      <td>69</td>\n",
              "      <td>61</td>\n",
              "      <td>11</td>\n",
              "      <td>28</td>\n",
              "      <td>97</td>\n",
              "    </tr>\n",
              "    <tr>\n",
              "      <th>96</th>\n",
              "      <td>41</td>\n",
              "      <td>97</td>\n",
              "      <td>16</td>\n",
              "      <td>13</td>\n",
              "      <td>8</td>\n",
              "    </tr>\n",
              "    <tr>\n",
              "      <th>97</th>\n",
              "      <td>0</td>\n",
              "      <td>84</td>\n",
              "      <td>18</td>\n",
              "      <td>9</td>\n",
              "      <td>15</td>\n",
              "    </tr>\n",
              "    <tr>\n",
              "      <th>98</th>\n",
              "      <td>19</td>\n",
              "      <td>11</td>\n",
              "      <td>15</td>\n",
              "      <td>2</td>\n",
              "      <td>90</td>\n",
              "    </tr>\n",
              "    <tr>\n",
              "      <th>99</th>\n",
              "      <td>0</td>\n",
              "      <td>7</td>\n",
              "      <td>33</td>\n",
              "      <td>7</td>\n",
              "      <td>58</td>\n",
              "    </tr>\n",
              "  </tbody>\n",
              "</table>\n",
              "<p>100 rows × 5 columns</p>\n",
              "</div>"
            ],
            "text/plain": [
              "    국어  영어  수학  사회  과학\n",
              "0   15  16  21   0  14\n",
              "1   96  91  14  11  75\n",
              "2   49  63  15  18  61\n",
              "3   54   4  20  21   1\n",
              "4   46   8   7  23   9\n",
              "..  ..  ..  ..  ..  ..\n",
              "95  69  61  11  28  97\n",
              "96  41  97  16  13   8\n",
              "97   0  84  18   9  15\n",
              "98  19  11  15   2  90\n",
              "99   0   7  33   7  58\n",
              "\n",
              "[100 rows x 5 columns]"
            ]
          },
          "execution_count": 35,
          "metadata": {},
          "output_type": "execute_result"
        }
      ],
      "source": [
        "df_score.columns = columns_stipped\n",
        "df_score"
      ]
    },
    {
      "cell_type": "markdown",
      "metadata": {
        "id": "Fi3xzuhHqTMj"
      },
      "source": [
        "(1) `df_score`의 처음부터 5개의 행을 확인하는 한 줄 표현식을 작성하여라."
      ]
    },
    {
      "cell_type": "code",
      "execution_count": null,
      "metadata": {
        "id": "Dh-NQ2C0qTMj"
      },
      "outputs": [],
      "source": [
        "# 한 줄 표현식을 작성하여라.\n"
      ]
    },
    {
      "cell_type": "markdown",
      "metadata": {
        "id": "dk_NeNxhqTMj"
      },
      "source": [
        "(2) `df_score`의 마지막 10개의 행을 확인하는 한 줄 표현식을 작성하여라."
      ]
    },
    {
      "cell_type": "code",
      "execution_count": null,
      "metadata": {
        "id": "qBnES386qTMj"
      },
      "outputs": [],
      "source": [
        "# 한 줄 표현식을 작성하여라.\n"
      ]
    },
    {
      "cell_type": "markdown",
      "metadata": {
        "id": "zYdW1oUQVmu5"
      },
      "source": [
        "(3) 국어 점수가 90점이상인 학생들의 데이터만 추출하는 한 줄 표현식을 작성하여라."
      ]
    },
    {
      "cell_type": "code",
      "execution_count": null,
      "metadata": {
        "id": "g8heCkK9qTMj"
      },
      "outputs": [],
      "source": [
        "# 한 줄 표현식을 작성하여라.\n"
      ]
    },
    {
      "cell_type": "markdown",
      "metadata": {
        "id": "Yz-xgw89TESs"
      },
      "source": [
        "(4) 각 과목에서 10점이하의 값들은 `np.nan`으로 변경하는 한 줄 표현식을 작성하여라."
      ]
    },
    {
      "cell_type": "code",
      "execution_count": null,
      "metadata": {
        "id": "ncurQ57OqTMj"
      },
      "outputs": [],
      "source": [
        "# 한 줄 표현식을 작성하여라.\n"
      ]
    },
    {
      "cell_type": "markdown",
      "metadata": {
        "id": "Vz1SXKNnTeyr"
      },
      "source": [
        "(5) 각 열에 있는 결측치의 개수는 몇 개인지 확인하는 한 줄 표현식을 작성하여라."
      ]
    },
    {
      "cell_type": "code",
      "execution_count": null,
      "metadata": {
        "id": "6z20HNVNqTMj"
      },
      "outputs": [],
      "source": [
        "# 한 줄 표현식을 작성하여라.\n"
      ]
    },
    {
      "cell_type": "markdown",
      "metadata": {
        "id": "lMNIWjUNTsC1"
      },
      "source": [
        "(6) 결측치의 비율이 20% 이하인 열(column)들만 담은 데이터프레을 가리키는`df_score_20` 변수를 선언하여라."
      ]
    },
    {
      "cell_type": "code",
      "execution_count": null,
      "metadata": {
        "id": "EdHyuy-iqTMj"
      },
      "outputs": [],
      "source": [
        "# 코드를 작성하여라.\n"
      ]
    },
    {
      "cell_type": "markdown",
      "metadata": {
        "id": "S4OTDgZEqTMj"
      },
      "source": [
        "(7) `df_score_20` 변수가 가리키는 데이터프레임의 결측치를 모두 10으로 채워는 한 줄 표현식을 작성하여라."
      ]
    },
    {
      "cell_type": "code",
      "execution_count": null,
      "metadata": {
        "id": "4zsNLoZjqTMj"
      },
      "outputs": [],
      "source": [
        "# 한 줄 표현식을 작성하여라.\n"
      ]
    }
  ],
  "metadata": {
    "colab": {
      "provenance": []
    },
    "kernelspec": {
      "display_name": "Python 3 (ipykernel)",
      "language": "python",
      "name": "python3"
    },
    "language_info": {
      "codemirror_mode": {
        "name": "ipython",
        "version": 3
      },
      "file_extension": ".py",
      "mimetype": "text/x-python",
      "name": "python",
      "nbconvert_exporter": "python",
      "pygments_lexer": "ipython3",
      "version": "3.11.5"
    }
  },
  "nbformat": 4,
  "nbformat_minor": 0
}