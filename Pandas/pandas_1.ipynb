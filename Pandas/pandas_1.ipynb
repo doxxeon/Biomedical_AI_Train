{
  "cells": [
    {
      "cell_type": "markdown",
      "metadata": {
        "id": "i5i3bpgJatZE"
      },
      "source": [
        "(sec:pandas_1)=\n",
        "# 판다스 데이터프레임"
      ]
    },
    {
      "cell_type": "markdown",
      "metadata": {
        "id": "H7b63-WOatZH"
      },
      "source": [
        "**주요 내용**"
      ]
    },
    {
      "cell_type": "markdown",
      "metadata": {
        "id": "6iux6tmuatZH"
      },
      "source": [
        "판다스 라이브러리가 제공하는 두 개의 모음 자료형을 소개한다.\n",
        "\n",
        "- `Series`\n",
        "- `DataFrame`"
      ]
    },
    {
      "cell_type": "markdown",
      "metadata": {
        "id": "AFfEpf_xatZH"
      },
      "source": [
        "**기본 설정**"
      ]
    },
    {
      "cell_type": "markdown",
      "metadata": {
        "id": "P2vHX8U8atZH"
      },
      "source": [
        "`pandas` 라이브러리는 보통 `pd` 라는 별칭으로 사용된다."
      ]
    },
    {
      "cell_type": "code",
      "execution_count": 64,
      "metadata": {},
      "outputs": [
        {
          "name": "stdout",
          "output_type": "stream",
          "text": [
            "Defaulting to user installation because normal site-packages is not writeable\n",
            "Requirement already satisfied: pandas in /Users/kimdohyeon/Library/Python/3.9/lib/python/site-packages (2.2.3)\n",
            "Requirement already satisfied: numpy>=1.22.4 in /Users/kimdohyeon/Library/Python/3.9/lib/python/site-packages (from pandas) (2.0.2)\n",
            "Requirement already satisfied: python-dateutil>=2.8.2 in /Users/kimdohyeon/Library/Python/3.9/lib/python/site-packages (from pandas) (2.9.0.post0)\n",
            "Requirement already satisfied: pytz>=2020.1 in /Users/kimdohyeon/Library/Python/3.9/lib/python/site-packages (from pandas) (2025.1)\n",
            "Requirement already satisfied: tzdata>=2022.7 in /Users/kimdohyeon/Library/Python/3.9/lib/python/site-packages (from pandas) (2025.1)\n",
            "Requirement already satisfied: six>=1.5 in /Users/kimdohyeon/Library/Python/3.9/lib/python/site-packages (from python-dateutil>=2.8.2->pandas) (1.17.0)\n",
            "Note: you may need to restart the kernel to use updated packages.\n"
          ]
        }
      ],
      "source": [
        "%pip install pandas"
      ]
    },
    {
      "cell_type": "code",
      "execution_count": 65,
      "metadata": {
        "id": "EdTnjXJ7atZI"
      },
      "outputs": [],
      "source": [
        "import pandas as pd\n",
        "import numpy as np"
      ]
    },
    {
      "cell_type": "markdown",
      "metadata": {
        "id": "h-QQhCN7atZI"
      },
      "source": [
        "랜덤 시드, 어레이 내부에 사용되는 부동소수점 정확도, 도표 크기 지정 옵션 등은 이전과 동일하다."
      ]
    },
    {
      "cell_type": "code",
      "execution_count": 66,
      "metadata": {
        "id": "wBc55TOeatZJ"
      },
      "outputs": [],
      "source": [
        "np.random.seed(12345)\n",
        "np.set_printoptions(precision=4, suppress=True)\n",
        "\n",
        "import matplotlib.pyplot as plt\n",
        "plt.rc('figure', figsize=(10, 6))"
      ]
    },
    {
      "cell_type": "markdown",
      "metadata": {
        "id": "dcN8E4VmatZJ"
      },
      "source": [
        "`Series`와 `DataFrame`을 표로 보여줄 때 사용되는 행의 수 60이다."
      ]
    },
    {
      "cell_type": "code",
      "execution_count": 67,
      "metadata": {
        "id": "AwIM8reTatZJ",
        "outputId": "aa6e6acf-27c5-437e-ca6a-57fe1e697d96"
      },
      "outputs": [
        {
          "data": {
            "text/plain": [
              "20"
            ]
          },
          "execution_count": 67,
          "metadata": {},
          "output_type": "execute_result"
        }
      ],
      "source": [
        "pd.options.display.max_rows"
      ]
    },
    {
      "cell_type": "markdown",
      "metadata": {
        "id": "Es3DEYF-atZK"
      },
      "source": [
        "보여지는 행의 수를 20으로 변경한다."
      ]
    },
    {
      "cell_type": "code",
      "execution_count": 68,
      "metadata": {
        "id": "PM6DcsXMatZK"
      },
      "outputs": [],
      "source": [
        "pd.set_option(\"display.max_rows\", 20)"
      ]
    },
    {
      "cell_type": "markdown",
      "metadata": {
        "id": "jXlBaDgdatZK"
      },
      "source": [
        "## 시리즈"
      ]
    },
    {
      "cell_type": "markdown",
      "metadata": {
        "id": "_OagO7e8atZK"
      },
      "source": [
        "판다스<font size='2'>Pandas</font>는 넘파이와 함께 데이터 분석 분야에서 가장 많이 활용되는 라이브러리다.\n",
        "판다스가 제공하는 두 개의 자료형 `Series`와 `DataFrame`은\n",
        "데이터를 다루기 위한 다양한 기능을 제공한다.\n",
        "넘파이 어레이는 수치형 데이터를 처리하는 데에 특화된 반면에\n",
        "판다스의 시리즈와 데이터프레임은 표(table) 형식으로 제공되는 모든 종류의 데이터를 다룬다.\n",
        "\n",
        "먼저 시리즈를 소개한다."
      ]
    },
    {
      "cell_type": "markdown",
      "metadata": {
        "id": "RdHtcukvatZK"
      },
      "source": [
        "### 시리즈 생성과 인덱스"
      ]
    },
    {
      "cell_type": "markdown",
      "metadata": {
        "id": "Ydv-32YTatZK"
      },
      "source": [
        "시리즈는 1차원 어레이와 동일한 구조를 갖는다.\n",
        "다만 인덱스<font size='2'>index</font>를 0, 1, 2 등이 아닌 임의의 값으로 지정할 수 있다.\n",
        "시리즈를 생성하기 위해 리스트, 넘파이 1차원 어레이, 사전 등을 이용할 수 있다."
      ]
    },
    {
      "cell_type": "markdown",
      "metadata": {
        "id": "IwIVrqARatZK"
      },
      "source": [
        "**리스트와 어레이 활용**"
      ]
    },
    {
      "cell_type": "markdown",
      "metadata": {
        "id": "em21b4O8atZL"
      },
      "source": [
        "1차원 리스트 또는 어레이를 이용하여 간단하게 시리즈를 생성할 수 있다.\n",
        "`dtype`은 시리즈에 포함된 항목들의 자료형을 가리키며 모든 항목은 포함하는 자료형을 가리킨다."
      ]
    },
    {
      "cell_type": "markdown",
      "metadata": {
        "id": "hDdreS3BatZL"
      },
      "source": [
        "아래 코드는 리스트를 이용하여 시리즈를 생성한다.\n",
        "인덱스를 별도로 지정하지 않으면 리스트, 넘파이 어레이 등에서 사용된 정수 인덱스가 사용된다."
      ]
    },
    {
      "cell_type": "code",
      "execution_count": 69,
      "metadata": {
        "id": "iKJGKV4HatZL",
        "outputId": "9cf57e9b-7730-4101-a54b-a075061c3bbe"
      },
      "outputs": [
        {
          "data": {
            "text/plain": [
              "0    4\n",
              "1    7\n",
              "2   -5\n",
              "3    3\n",
              "dtype: int64"
            ]
          },
          "execution_count": 69,
          "metadata": {},
          "output_type": "execute_result"
        }
      ],
      "source": [
        "ojb1 = pd.Series([4, 7, -5, 3])\n",
        "ojb1"
      ]
    },
    {
      "cell_type": "markdown",
      "metadata": {
        "id": "zjPeuuMAatZL"
      },
      "source": [
        "1차원 어레이도 이용할 수 있다."
      ]
    },
    {
      "cell_type": "code",
      "execution_count": 70,
      "metadata": {
        "id": "ufUVThmQatZL",
        "outputId": "8c20fa8a-3ead-476b-8fa8-9238f5323052"
      },
      "outputs": [
        {
          "data": {
            "text/plain": [
              "0    4\n",
              "1    7\n",
              "2   -5\n",
              "3    3\n",
              "dtype: int64"
            ]
          },
          "execution_count": 70,
          "metadata": {},
          "output_type": "execute_result"
        }
      ],
      "source": [
        "ojb1 = pd.Series(np.array([4, 7, -5, 3]))\n",
        "ojb1"
      ]
    },
    {
      "cell_type": "markdown",
      "metadata": {
        "id": "n0Y2MXTXatZL"
      },
      "source": [
        "**사전 활용**"
      ]
    },
    {
      "cell_type": "markdown",
      "metadata": {
        "id": "H13NFuC0atZL"
      },
      "source": [
        "사전을 이용하여 시리즈를 생성할 수 있다.\n",
        "이때 키(key)는 인덱스로, 값은 항목으로 지정된다."
      ]
    },
    {
      "cell_type": "code",
      "execution_count": 71,
      "metadata": {
        "id": "3SLCWnKTatZL",
        "outputId": "d0bccefb-f87f-4ebf-e9bf-a57c87a989df"
      },
      "outputs": [
        {
          "data": {
            "text/plain": [
              "Ohio      35000\n",
              "Texas     71000\n",
              "Oregon    16000\n",
              "Utah       5000\n",
              "dtype: int64"
            ]
          },
          "execution_count": 71,
          "metadata": {},
          "output_type": "execute_result"
        }
      ],
      "source": [
        "sdata = {'Ohio': 35000, 'Texas': 71000, 'Oregon': 16000, 'Utah': 5000}\n",
        "obj3 = pd.Series(sdata)\n",
        "obj3"
      ]
    },
    {
      "cell_type": "markdown",
      "metadata": {
        "id": "5H4tYhmEatZM"
      },
      "source": [
        "사전을 이용하더라도 인덱스로 구성된 리스트를 이용하여 따로 지정할 수 있다.\n",
        "그러면 사전에 키로 사용되지 않은 인덱스는 누락되었다는 의미로 `NaN`이 표시된다.\n",
        "또한 인덱스 리스트에 포함되지 않는 (사전의) 키는 시리즈에 포함되지 않는다.\n",
        "\n",
        "* `California`: `sdata` 사전에 키로 사용되지 않았기에 `Nan`으로 지정\n",
        "* `Utah`: `states` 리스트에 포함되지 않았기에 생성된 시리즈에 사용되지 않음."
      ]
    },
    {
      "cell_type": "code",
      "execution_count": 72,
      "metadata": {
        "id": "BsYqEez-atZM",
        "outputId": "6c360961-c22f-4b9b-a862-a09c84dae966"
      },
      "outputs": [
        {
          "data": {
            "text/plain": [
              "California        NaN\n",
              "Ohio          35000.0\n",
              "Oregon        16000.0\n",
              "Texas         71000.0\n",
              "dtype: float64"
            ]
          },
          "execution_count": 72,
          "metadata": {},
          "output_type": "execute_result"
        }
      ],
      "source": [
        "states = ['California', 'Ohio', 'Oregon', 'Texas']\n",
        "\n",
        "obj4 = pd.Series(sdata, index=states)\n",
        "obj4"
      ]
    },
    {
      "cell_type": "markdown",
      "metadata": {
        "id": "x5eCAEAFatZM"
      },
      "source": [
        "### `name` 속성과 `values` 속성"
      ]
    },
    {
      "cell_type": "markdown",
      "metadata": {
        "id": "PTkenvdRatZM"
      },
      "source": [
        "**`name` 속성**"
      ]
    },
    {
      "cell_type": "markdown",
      "metadata": {
        "id": "UgFtWIXSatZM"
      },
      "source": [
        "`Series` 객체와 시리즈의 `Index` 객체 모두 `name` 속성을 이용하여\n",
        "사용되는 값들에 대한 정보를 저장한다.\n",
        "\n",
        "아래 코드는 시리즈와 시리즈에 사용된 인덱스에 이름 속성을 지정한다.\n",
        "\n",
        "- 시리즈 이름은 population(인구): `name='population'`\n",
        "- 시리즈의 인덱스의 이름은 state(주 이름): `Index.name='state'`"
      ]
    },
    {
      "cell_type": "code",
      "execution_count": 73,
      "metadata": {
        "id": "dALbyoieatZM",
        "outputId": "80fbeecb-42f9-47ea-b16c-f906a3734d9b"
      },
      "outputs": [
        {
          "data": {
            "text/plain": [
              "state\n",
              "California        NaN\n",
              "Ohio          35000.0\n",
              "Oregon        16000.0\n",
              "Texas         71000.0\n",
              "Name: population, dtype: float64"
            ]
          },
          "execution_count": 73,
          "metadata": {},
          "output_type": "execute_result"
        }
      ],
      "source": [
        "obj4.name = 'population'\n",
        "obj4.index.name = 'state'\n",
        "obj4"
      ]
    },
    {
      "cell_type": "markdown",
      "metadata": {
        "id": "Eu6ji_LKatZM"
      },
      "source": [
        "**`values` 속성**"
      ]
    },
    {
      "cell_type": "markdown",
      "metadata": {
        "id": "t2trBquvatZM"
      },
      "source": [
        "`values` 속성은 시리즈의 항목으로 구성된 1차원 어레이를 가리킨다."
      ]
    },
    {
      "cell_type": "code",
      "execution_count": 74,
      "metadata": {
        "id": "067n5eKhatZN",
        "outputId": "9bf9a748-fbde-4f56-8eb9-e6081b361d36"
      },
      "outputs": [
        {
          "data": {
            "text/plain": [
              "array([ 4,  7, -5,  3])"
            ]
          },
          "execution_count": 74,
          "metadata": {},
          "output_type": "execute_result"
        }
      ],
      "source": [
        "ojb1.values"
      ]
    },
    {
      "cell_type": "markdown",
      "metadata": {
        "id": "6H_19le-atZN"
      },
      "source": [
        "### `index` 속성"
      ]
    },
    {
      "cell_type": "markdown",
      "metadata": {
        "id": "Y88HAdvaatZN"
      },
      "source": [
        "`index` 속성은 인덱스로 사용된 값들로 구성된 `Index` 객체를 가리킨다.\n",
        "자동으로 생성된 경우 정수 인덱스는 `range`와 유사한 `RangeIndex` 자료형으로 지정된다."
      ]
    },
    {
      "cell_type": "code",
      "execution_count": 75,
      "metadata": {
        "id": "vtTdApTfatZN",
        "outputId": "544f78cc-0f76-4d8f-b405-3b3a6b34dd21"
      },
      "outputs": [
        {
          "data": {
            "text/plain": [
              "0    4\n",
              "1    7\n",
              "2   -5\n",
              "3    3\n",
              "dtype: int64"
            ]
          },
          "execution_count": 75,
          "metadata": {},
          "output_type": "execute_result"
        }
      ],
      "source": [
        "ojb1"
      ]
    },
    {
      "cell_type": "code",
      "execution_count": 76,
      "metadata": {
        "id": "w7rI5wqtatZN",
        "outputId": "772d2fe0-1371-4e7a-e0ed-74f2d0ebc00c"
      },
      "outputs": [
        {
          "data": {
            "text/plain": [
              "RangeIndex(start=0, stop=4, step=1)"
            ]
          },
          "execution_count": 76,
          "metadata": {},
          "output_type": "execute_result"
        }
      ],
      "source": [
        "ojb1.index"
      ]
    },
    {
      "cell_type": "markdown",
      "metadata": {
        "id": "mPR6SvPcatZO"
      },
      "source": [
        "`index` 속성을 변경하는 방식으로 기존에 사용된 인덱스를 완전히 새로운 인덱스로 대체할 수도 있다."
      ]
    },
    {
      "cell_type": "code",
      "execution_count": 77,
      "metadata": {
        "id": "7JI0zpahatZO",
        "outputId": "14dfb053-df5a-4916-c311-b1d95261f94f"
      },
      "outputs": [
        {
          "data": {
            "text/plain": [
              "Bob      4\n",
              "Steve    7\n",
              "Jeff    -5\n",
              "Ryan     3\n",
              "dtype: int64"
            ]
          },
          "execution_count": 77,
          "metadata": {},
          "output_type": "execute_result"
        }
      ],
      "source": [
        "ojb1.index = ['Bob', 'Steve', 'Jeff', 'Ryan']\n",
        "ojb1"
      ]
    },
    {
      "cell_type": "markdown",
      "metadata": {
        "id": "7M-yq6cAatZO"
      },
      "source": [
        "처음부터 인덱스를 지정하면서 시리즈를 생성할 수 있다.\n",
        "\n",
        "* `index` 키워드 인자: 항목의 수와 동일한 길이를 갖는 리스트.\n",
        "    리스트에 포함된 항목 순서대로 인덱스 지정.\n",
        "    \n",
        "인덱스가 인덱스 리스트에 사용된 순서대로 지정됨에 주의하라."
      ]
    },
    {
      "cell_type": "code",
      "execution_count": 78,
      "metadata": {
        "id": "RoDPuyf2atZO",
        "outputId": "45771d1a-b6c3-4fa4-d6ab-46a37e2e8f50"
      },
      "outputs": [
        {
          "data": {
            "text/plain": [
              "d    4\n",
              "b    7\n",
              "a   -5\n",
              "c    3\n",
              "dtype: int64"
            ]
          },
          "execution_count": 78,
          "metadata": {},
          "output_type": "execute_result"
        }
      ],
      "source": [
        "obj2 = pd.Series([4, 7, -5, 3], index=['d', 'b', 'a', 'c'])\n",
        "obj2"
      ]
    },
    {
      "cell_type": "markdown",
      "metadata": {
        "id": "CCislTzlatZO"
      },
      "source": [
        "**`in` 연산자**"
      ]
    },
    {
      "cell_type": "markdown",
      "metadata": {
        "id": "DSt1foP3atZO"
      },
      "source": [
        "인덱스 라벨의 사용 사용 여부를 판단한다."
      ]
    },
    {
      "cell_type": "code",
      "execution_count": 79,
      "metadata": {
        "id": "jBOfC6UtatZO",
        "outputId": "3560802d-f627-43f5-9f58-bbe708bc30f8"
      },
      "outputs": [
        {
          "data": {
            "text/plain": [
              "d    4\n",
              "b    7\n",
              "a   -5\n",
              "c    3\n",
              "dtype: int64"
            ]
          },
          "execution_count": 79,
          "metadata": {},
          "output_type": "execute_result"
        }
      ],
      "source": [
        "obj2"
      ]
    },
    {
      "cell_type": "code",
      "execution_count": 80,
      "metadata": {
        "id": "wHFWZdnjatZP",
        "outputId": "d0a8ac59-0503-4d60-e1f2-b97863cb2db1"
      },
      "outputs": [
        {
          "data": {
            "text/plain": [
              "True"
            ]
          },
          "execution_count": 80,
          "metadata": {},
          "output_type": "execute_result"
        }
      ],
      "source": [
        "'b' in obj2"
      ]
    },
    {
      "cell_type": "code",
      "execution_count": 81,
      "metadata": {
        "id": "vayYgK-oatZP",
        "outputId": "a919737b-720c-488a-bc8d-4c4733cee151"
      },
      "outputs": [
        {
          "data": {
            "text/plain": [
              "False"
            ]
          },
          "execution_count": 81,
          "metadata": {},
          "output_type": "execute_result"
        }
      ],
      "source": [
        "'e' in obj2"
      ]
    },
    {
      "cell_type": "markdown",
      "metadata": {
        "id": "AIO4T1rAatZP"
      },
      "source": [
        "**`Index` 객체**"
      ]
    },
    {
      "cell_type": "markdown",
      "metadata": {
        "id": "5XW1wWmxatZP"
      },
      "source": [
        "`index` 키워드로 지정된 인덱스는 `index` 속성이 가리키며 `Index` 객체로 저장된다."
      ]
    },
    {
      "cell_type": "code",
      "execution_count": 82,
      "metadata": {
        "id": "y4nZiY49atZP",
        "outputId": "f12f982c-ff47-4534-ae75-8f652ce91072"
      },
      "outputs": [
        {
          "data": {
            "text/plain": [
              "Index(['d', 'b', 'a', 'c'], dtype='object')"
            ]
          },
          "execution_count": 82,
          "metadata": {},
          "output_type": "execute_result"
        }
      ],
      "source": [
        "idx = obj2.index\n",
        "idx"
      ]
    },
    {
      "cell_type": "markdown",
      "metadata": {
        "id": "AVv7bWeiatZP"
      },
      "source": [
        "인덱스 객체는 1차원 어레이와 유사하게 동작한다.\n",
        "예를 들어, 인덱싱과 슬라이싱은 리스트 또는 1차원 어레이의 경우와 동일하게 작동한다."
      ]
    },
    {
      "cell_type": "code",
      "execution_count": 83,
      "metadata": {
        "id": "9pfwLUEqatZP",
        "outputId": "d6600596-0493-44fd-c71a-abcc93e44098"
      },
      "outputs": [
        {
          "data": {
            "text/plain": [
              "'b'"
            ]
          },
          "execution_count": 83,
          "metadata": {},
          "output_type": "execute_result"
        }
      ],
      "source": [
        "idx[1]"
      ]
    },
    {
      "cell_type": "code",
      "execution_count": 84,
      "metadata": {
        "id": "KhwMD1_JatZP",
        "outputId": "336cc6b0-3c88-494c-b97f-553f9c5c8922"
      },
      "outputs": [
        {
          "data": {
            "text/plain": [
              "Index(['b', 'a', 'c'], dtype='object')"
            ]
          },
          "execution_count": 84,
          "metadata": {},
          "output_type": "execute_result"
        }
      ],
      "source": [
        "idx[1:]"
      ]
    },
    {
      "cell_type": "markdown",
      "metadata": {
        "id": "0CNTZKZuatZP"
      },
      "source": [
        "하지만 시리즈와 데이터프레임의 인덱스로 사용되는\n",
        "`Index`, `RangeIndex` 객체 등은 모두 수정을 허용하지 않는 불변<font size='2'>immutable</font> 자료형이다.\n",
        "아래처럼 인덱싱을 이용하여 항목을 변경하려 하면 `TypeError`가 발생한다."
      ]
    },
    {
      "cell_type": "code",
      "execution_count": 85,
      "metadata": {
        "id": "7TuWO3tUatZP",
        "outputId": "bccbd133-c392-4ca0-da73-061cf633d80c"
      },
      "outputs": [],
      "source": [
        "# idx[1] = 'd'"
      ]
    },
    {
      "cell_type": "markdown",
      "metadata": {
        "id": "I9UPqEvAatZP"
      },
      "source": [
        "### 시리즈 리인덱싱"
      ]
    },
    {
      "cell_type": "markdown",
      "metadata": {
        "id": "vOAK4lzpatZP"
      },
      "source": [
        "`reindex()` 메서드를 이용하여 주어진 시리즈의 `index`를\n",
        "이용하여 새로운 `Index` 객체를 갖는 새로운 시리즈를 생성한다.\n",
        "설명을 위해 `obj2`를 이용한다."
      ]
    },
    {
      "cell_type": "code",
      "execution_count": 86,
      "metadata": {
        "id": "vdjXxW4VatZP",
        "outputId": "74d2ff1f-49c1-4784-eaa6-9cba1fdf9d05"
      },
      "outputs": [
        {
          "data": {
            "text/plain": [
              "d    4\n",
              "b    7\n",
              "a   -5\n",
              "c    3\n",
              "dtype: int64"
            ]
          },
          "execution_count": 86,
          "metadata": {},
          "output_type": "execute_result"
        }
      ],
      "source": [
        "obj2\n"
      ]
    },
    {
      "cell_type": "markdown",
      "metadata": {
        "id": "QG_xrA7XatZP"
      },
      "source": [
        "새로운 인덱스가 추가되면 `NaN`이 사용된다."
      ]
    },
    {
      "cell_type": "code",
      "execution_count": 87,
      "metadata": {
        "id": "S2o536lAatZP",
        "outputId": "4b6e3004-c804-43ca-8245-18d45915ded8"
      },
      "outputs": [
        {
          "data": {
            "text/plain": [
              "a   -5.0\n",
              "b    7.0\n",
              "c    3.0\n",
              "d    4.0\n",
              "e    NaN\n",
              "dtype: float64"
            ]
          },
          "execution_count": 87,
          "metadata": {},
          "output_type": "execute_result"
        }
      ],
      "source": [
        "obj2_reindexed = obj2.reindex(['a', 'b', 'c', 'd', 'e'])\n",
        "obj2_reindexed"
      ]
    },
    {
      "cell_type": "markdown",
      "metadata": {
        "id": "7fXgEOkQatZQ"
      },
      "source": [
        "지정되지 않은 인덱스는 무시된다."
      ]
    },
    {
      "cell_type": "code",
      "execution_count": 88,
      "metadata": {
        "id": "8qOj3KWFatZQ",
        "outputId": "90c08418-87ec-4e0a-dfe8-0f0987ade77a"
      },
      "outputs": [
        {
          "data": {
            "text/plain": [
              "a   -5.0\n",
              "c    3.0\n",
              "d    4.0\n",
              "e    NaN\n",
              "dtype: float64"
            ]
          },
          "execution_count": 88,
          "metadata": {},
          "output_type": "execute_result"
        }
      ],
      "source": [
        "obj2_reindexed = obj2.reindex(['a', 'c', 'd', 'e'])\n",
        "obj2_reindexed"
      ]
    },
    {
      "cell_type": "markdown",
      "metadata": {
        "id": "m_0zsPnjatZQ"
      },
      "source": [
        "중복 인덱스 활용도 가능하다."
      ]
    },
    {
      "cell_type": "code",
      "execution_count": 89,
      "metadata": {
        "id": "w1cywXe2atZQ",
        "outputId": "50a7b052-30b7-4c8c-f5dc-d875832cbe9c"
      },
      "outputs": [
        {
          "data": {
            "text/plain": [
              "a   -5.0\n",
              "a   -5.0\n",
              "d    4.0\n",
              "e    NaN\n",
              "dtype: float64"
            ]
          },
          "execution_count": 89,
          "metadata": {},
          "output_type": "execute_result"
        }
      ],
      "source": [
        "obj2_reindexed = obj2.reindex(['a', 'a', 'd', 'e'])\n",
        "obj2_reindexed"
      ]
    },
    {
      "cell_type": "markdown",
      "metadata": {
        "id": "RhMHLHAjatZQ"
      },
      "source": [
        "### 시리즈 리인덱싱과 결측치"
      ]
    },
    {
      "cell_type": "markdown",
      "metadata": {
        "id": "6SPyfQAJatZQ"
      },
      "source": [
        "리인덱싱 과정에서 결측치가 발생할 때 여러 방식으로 채울 수 있다."
      ]
    },
    {
      "cell_type": "markdown",
      "metadata": {
        "id": "_m1vOy6NatZQ"
      },
      "source": [
        "**`method` 키워드 인자 활용**"
      ]
    },
    {
      "cell_type": "markdown",
      "metadata": {
        "id": "CierRA0tatZQ"
      },
      "source": [
        "인덱스가 오름 또는 내림 차순으로 정렬되어 있는 경우에\n",
        "`method` 키워드 인자를 이용하여 결측치를 주변 값으로 채울 수 있다.\n",
        "설명을 위해 아래 시리즈를 이용한다."
      ]
    },
    {
      "cell_type": "code",
      "execution_count": 90,
      "metadata": {
        "id": "NQK7-KDcatZQ",
        "outputId": "e40ec7d6-c089-4c7f-aa39-a4543b22770a"
      },
      "outputs": [
        {
          "data": {
            "text/plain": [
              "0      blue\n",
              "2    purple\n",
              "5    yellow\n",
              "dtype: object"
            ]
          },
          "execution_count": 90,
          "metadata": {},
          "output_type": "execute_result"
        }
      ],
      "source": [
        "obj5 = pd.Series(['blue', 'purple', 'yellow'], index=[0, 2, 5])\n",
        "obj5"
      ]
    },
    {
      "cell_type": "markdown",
      "metadata": {
        "id": "chS6FkrXatZQ"
      },
      "source": [
        "- `method=ffill`: 결측치를 위쪽으로 가장 가깝게 위치한 값으로 채운다.\n",
        "    위쪽에 위치한 값이 없으면 결측치가 된다."
      ]
    },
    {
      "cell_type": "code",
      "execution_count": 91,
      "metadata": {
        "id": "9r57gmj8atZQ",
        "outputId": "dd13dc1a-4468-4e56-bf95-ae8bc0b62342"
      },
      "outputs": [
        {
          "data": {
            "text/plain": [
              "-1       NaN\n",
              "0       blue\n",
              "1       blue\n",
              "2     purple\n",
              "3     purple\n",
              "4     purple\n",
              "5     yellow\n",
              "dtype: object"
            ]
          },
          "execution_count": 91,
          "metadata": {},
          "output_type": "execute_result"
        }
      ],
      "source": [
        "obj5.reindex(range(-1, 6), method='ffill')"
      ]
    },
    {
      "cell_type": "markdown",
      "metadata": {
        "id": "oxyq__eBatZQ"
      },
      "source": [
        "- `method=bfill`: 결측치를 아랫쪽으로 가장 가깝게 위치한 값으로 채운다."
      ]
    },
    {
      "cell_type": "code",
      "execution_count": 92,
      "metadata": {
        "id": "5Cd0CAgTatZQ",
        "outputId": "7183b4bd-748d-4ce1-a459-a912b274ac70"
      },
      "outputs": [
        {
          "data": {
            "text/plain": [
              "-1      blue\n",
              "0       blue\n",
              "1     purple\n",
              "2     purple\n",
              "3     yellow\n",
              "4     yellow\n",
              "5     yellow\n",
              "dtype: object"
            ]
          },
          "execution_count": 92,
          "metadata": {},
          "output_type": "execute_result"
        }
      ],
      "source": [
        "obj5.reindex(range(-1, 6), method='bfill')"
      ]
    },
    {
      "cell_type": "markdown",
      "metadata": {
        "id": "KoXTMzbCatZQ"
      },
      "source": [
        "- `method=nearest`: 결측치를 가장 가깝게 위치한 값으로 채운다.\n",
        "    1번 인덱스 행의 항목이 0번이 아닌 2번 인덱스 행의 항목으로 채워진 것처럼\n",
        "    아래와 위쪽에 위치한 두 값의 거리가 같으면 아랫쪽에서 선택한다."
      ]
    },
    {
      "cell_type": "code",
      "execution_count": 93,
      "metadata": {
        "id": "rfYqLaXTatZQ",
        "outputId": "b013c708-1d53-4402-a5f7-65722bcbe027"
      },
      "outputs": [
        {
          "data": {
            "text/plain": [
              "-1      blue\n",
              "0       blue\n",
              "1     purple\n",
              "2     purple\n",
              "3     purple\n",
              "4     yellow\n",
              "5     yellow\n",
              "dtype: object"
            ]
          },
          "execution_count": 93,
          "metadata": {},
          "output_type": "execute_result"
        }
      ],
      "source": [
        "obj5.reindex(range(-1, 6), method='nearest')"
      ]
    },
    {
      "cell_type": "markdown",
      "metadata": {
        "id": "11iwJpBMatZQ"
      },
      "source": [
        "**결측치 채우기 2: `fill_value` 키워드 인자**"
      ]
    },
    {
      "cell_type": "markdown",
      "metadata": {
        "id": "DUE7VVZDatZQ"
      },
      "source": [
        "리인덱싱 과정에서 발생하는 모든 결측치를 지정된 값으로 대체할 수 있다.\n",
        "기본값은 `NaN` 이다."
      ]
    },
    {
      "cell_type": "code",
      "execution_count": 94,
      "metadata": {
        "id": "ch3VKU0vatZQ",
        "outputId": "9746ec87-032c-4bfc-eeb6-7f5e69bc0f3e"
      },
      "outputs": [
        {
          "data": {
            "text/plain": [
              "-1    No Color\n",
              "0         blue\n",
              "1     No Color\n",
              "2       purple\n",
              "3     No Color\n",
              "4     No Color\n",
              "5       yellow\n",
              "dtype: object"
            ]
          },
          "execution_count": 94,
          "metadata": {},
          "output_type": "execute_result"
        }
      ],
      "source": [
        "obj5.reindex(range(-1, 6), fill_value='No Color')"
      ]
    },
    {
      "cell_type": "markdown",
      "metadata": {
        "id": "uDhSSctfatZQ"
      },
      "source": [
        "## 데이터프레임"
      ]
    },
    {
      "cell_type": "markdown",
      "metadata": {
        "id": "6Tc9Y7TSatZQ"
      },
      "source": [
        "**데이데프레임**<font size='2'>DataFrame</font>은 인덱스를 공유하는 여러 개의 시리즈를 다루는 객체다.\n",
        "아래 그림은 세 개의 시리즈를 하나의 데이터프레임으로 만든 결과를 보여준다."
      ]
    },
    {
      "cell_type": "markdown",
      "metadata": {
        "id": "0R-UoWn2atZR"
      },
      "source": [
        "<p><div align=\"center\"><img src=\"https://raw.githubusercontent.com/codingalzi/pydata/master/notebooks/images/series-dataframe01.png\" style=\"width:700px;\"></div></p>"
      ]
    },
    {
      "cell_type": "markdown",
      "metadata": {
        "id": "Z4D-FfggatZR"
      },
      "source": [
        "위 이미지에 있는 세 개의 시리즈는 다음과 같으며,\n",
        "`name` 속성을 이용하여 각 시리즈의 이름도 함께 지정한다."
      ]
    },
    {
      "cell_type": "code",
      "execution_count": 95,
      "metadata": {
        "id": "0NzRKeB-atZR",
        "outputId": "f6caa524-c4d1-4c70-87c8-dd65c1e14e6a"
      },
      "outputs": [
        {
          "data": {
            "text/plain": [
              "0    4\n",
              "1    5\n",
              "2    6\n",
              "3    3\n",
              "4    1\n",
              "Name: Mango, dtype: int64"
            ]
          },
          "execution_count": 95,
          "metadata": {},
          "output_type": "execute_result"
        }
      ],
      "source": [
        "series1 = pd.Series([4, 5, 6, 3 , 1], name=\"Mango\")\n",
        "series1"
      ]
    },
    {
      "cell_type": "code",
      "execution_count": 96,
      "metadata": {
        "id": "n4lGUd20atZR",
        "outputId": "840d0e11-916d-44d6-b484-094828f96a30"
      },
      "outputs": [
        {
          "data": {
            "text/plain": [
              "0    5\n",
              "1    4\n",
              "2    3\n",
              "3    0\n",
              "4    2\n",
              "Name: Apple, dtype: int64"
            ]
          },
          "execution_count": 96,
          "metadata": {},
          "output_type": "execute_result"
        }
      ],
      "source": [
        "series2 = pd.Series([5, 4, 3, 0, 2], name=\"Apple\")\n",
        "series2"
      ]
    },
    {
      "cell_type": "code",
      "execution_count": 97,
      "metadata": {
        "id": "wna42WzSatZR",
        "outputId": "684f0114-0438-4ffe-c043-d7600f4c81f3"
      },
      "outputs": [
        {
          "data": {
            "text/plain": [
              "0    2\n",
              "1    3\n",
              "2    5\n",
              "3    2\n",
              "4    7\n",
              "Name: Banana, dtype: int64"
            ]
          },
          "execution_count": 97,
          "metadata": {},
          "output_type": "execute_result"
        }
      ],
      "source": [
        "series3 = pd.Series([2, 3, 5, 2, 7], name=\"Banana\")\n",
        "series3"
      ]
    },
    {
      "cell_type": "markdown",
      "metadata": {
        "id": "IuZyM-4oatZR"
      },
      "source": [
        "### 데이터프레임 생성"
      ]
    },
    {
      "cell_type": "markdown",
      "metadata": {
        "id": "PziB0Dq_atZR"
      },
      "source": [
        "**`pd.concat()` 함수 활용**"
      ]
    },
    {
      "cell_type": "markdown",
      "metadata": {
        "id": "_mab__CoatZR"
      },
      "source": [
        "`pd.concat()` 함수도 여러 개의 시리즈를 묶어 하나의 데이터프레임을 생성한다.\n",
        "단, 축을 이용하여 묶는 방식을 지정한다.\n",
        "위 그림에서처럼 옆으로 묶으려면 열 단위로 묶는다는 의미에서 `axis=1`로 지정한다.\n",
        "각 열의 이름은 해당 시리즈의 `name`이 가리키는 값으로 지정된다."
      ]
    },
    {
      "cell_type": "code",
      "execution_count": 98,
      "metadata": {
        "id": "B98nWXf6atZR",
        "outputId": "2ebc0751-49af-40d1-92dc-fb6eca61442f"
      },
      "outputs": [
        {
          "data": {
            "text/html": [
              "<div>\n",
              "<style scoped>\n",
              "    .dataframe tbody tr th:only-of-type {\n",
              "        vertical-align: middle;\n",
              "    }\n",
              "\n",
              "    .dataframe tbody tr th {\n",
              "        vertical-align: top;\n",
              "    }\n",
              "\n",
              "    .dataframe thead th {\n",
              "        text-align: right;\n",
              "    }\n",
              "</style>\n",
              "<table border=\"1\" class=\"dataframe\">\n",
              "  <thead>\n",
              "    <tr style=\"text-align: right;\">\n",
              "      <th></th>\n",
              "      <th>Mango</th>\n",
              "      <th>Apple</th>\n",
              "      <th>Banana</th>\n",
              "    </tr>\n",
              "  </thead>\n",
              "  <tbody>\n",
              "    <tr>\n",
              "      <th>0</th>\n",
              "      <td>4</td>\n",
              "      <td>5</td>\n",
              "      <td>2</td>\n",
              "    </tr>\n",
              "    <tr>\n",
              "      <th>1</th>\n",
              "      <td>5</td>\n",
              "      <td>4</td>\n",
              "      <td>3</td>\n",
              "    </tr>\n",
              "    <tr>\n",
              "      <th>2</th>\n",
              "      <td>6</td>\n",
              "      <td>3</td>\n",
              "      <td>5</td>\n",
              "    </tr>\n",
              "    <tr>\n",
              "      <th>3</th>\n",
              "      <td>3</td>\n",
              "      <td>0</td>\n",
              "      <td>2</td>\n",
              "    </tr>\n",
              "    <tr>\n",
              "      <th>4</th>\n",
              "      <td>1</td>\n",
              "      <td>2</td>\n",
              "      <td>7</td>\n",
              "    </tr>\n",
              "  </tbody>\n",
              "</table>\n",
              "</div>"
            ],
            "text/plain": [
              "   Mango  Apple  Banana\n",
              "0      4      5       2\n",
              "1      5      4       3\n",
              "2      6      3       5\n",
              "3      3      0       2\n",
              "4      1      2       7"
            ]
          },
          "execution_count": 98,
          "metadata": {},
          "output_type": "execute_result"
        }
      ],
      "source": [
        "fruits = pd.concat([series1, series2, series3], axis=1)\n",
        "fruits"
      ]
    },
    {
      "cell_type": "markdown",
      "metadata": {
        "id": "ye5zN0uEatZR"
      },
      "source": [
        "엑셀 파일로 보면 다음과 같다.\n",
        "단, 인덱스가 1이 아닌 0부터 출발함에 주의한다."
      ]
    },
    {
      "cell_type": "markdown",
      "metadata": {
        "id": "NXPc-mQmatZR"
      },
      "source": [
        "<p><div align=\"center\"><img src=\"https://raw.githubusercontent.com/codingalzi/datapy/master/jupyter-book/images/excel-fruits.png\" style=\"width:450px;\"></div></p>"
      ]
    },
    {
      "cell_type": "markdown",
      "metadata": {
        "id": "GD-FkKQbatZR"
      },
      "source": [
        "데이터프레임은 행과 열에 각각에 대해 `Index` 객체를 사용한다."
      ]
    },
    {
      "cell_type": "markdown",
      "metadata": {
        "id": "K7lsUlMwatZR"
      },
      "source": [
        "- 행 인덱스"
      ]
    },
    {
      "cell_type": "code",
      "execution_count": 99,
      "metadata": {
        "id": "t5HaoMMoatZR",
        "outputId": "cd3a85b1-5949-4ba4-9df2-f20701b90adb"
      },
      "outputs": [
        {
          "data": {
            "text/plain": [
              "RangeIndex(start=0, stop=5, step=1)"
            ]
          },
          "execution_count": 99,
          "metadata": {},
          "output_type": "execute_result"
        }
      ],
      "source": [
        "fruits.index"
      ]
    },
    {
      "cell_type": "markdown",
      "metadata": {
        "id": "HW5mLdQVatZR"
      },
      "source": [
        "- 열 인덱스"
      ]
    },
    {
      "cell_type": "code",
      "execution_count": 100,
      "metadata": {
        "id": "GaZGGzTfatZR",
        "outputId": "3b8108f2-fe19-485e-c932-cfdab3d5741d"
      },
      "outputs": [
        {
          "data": {
            "text/plain": [
              "Index(['Mango', 'Apple', 'Banana'], dtype='object')"
            ]
          },
          "execution_count": 100,
          "metadata": {},
          "output_type": "execute_result"
        }
      ],
      "source": [
        "fruits.columns"
      ]
    },
    {
      "cell_type": "markdown",
      "metadata": {
        "id": "vJHqB9lbatZR"
      },
      "source": [
        "**2차원 넘파이 어레이 활용**"
      ]
    },
    {
      "cell_type": "markdown",
      "metadata": {
        "id": "P1XZdGjcatZR"
      },
      "source": [
        "행과 열의 인덱스를 지정하면서 데이터프레임을 선언할 수 있다."
      ]
    },
    {
      "cell_type": "code",
      "execution_count": 101,
      "metadata": {
        "id": "J2wVub3katZS",
        "outputId": "0c9485ba-6403-43f0-b983-e6b06a5253bc"
      },
      "outputs": [
        {
          "data": {
            "text/html": [
              "<div>\n",
              "<style scoped>\n",
              "    .dataframe tbody tr th:only-of-type {\n",
              "        vertical-align: middle;\n",
              "    }\n",
              "\n",
              "    .dataframe tbody tr th {\n",
              "        vertical-align: top;\n",
              "    }\n",
              "\n",
              "    .dataframe thead th {\n",
              "        text-align: right;\n",
              "    }\n",
              "</style>\n",
              "<table border=\"1\" class=\"dataframe\">\n",
              "  <thead>\n",
              "    <tr style=\"text-align: right;\">\n",
              "      <th></th>\n",
              "      <th>year</th>\n",
              "      <th>state</th>\n",
              "      <th>p</th>\n",
              "      <th>four</th>\n",
              "    </tr>\n",
              "  </thead>\n",
              "  <tbody>\n",
              "    <tr>\n",
              "      <th>Ohio</th>\n",
              "      <td>0</td>\n",
              "      <td>1</td>\n",
              "      <td>2</td>\n",
              "      <td>3</td>\n",
              "    </tr>\n",
              "    <tr>\n",
              "      <th>Colorado</th>\n",
              "      <td>4</td>\n",
              "      <td>5</td>\n",
              "      <td>6</td>\n",
              "      <td>7</td>\n",
              "    </tr>\n",
              "    <tr>\n",
              "      <th>Utah</th>\n",
              "      <td>8</td>\n",
              "      <td>9</td>\n",
              "      <td>10</td>\n",
              "      <td>11</td>\n",
              "    </tr>\n",
              "    <tr>\n",
              "      <th>New York</th>\n",
              "      <td>12</td>\n",
              "      <td>13</td>\n",
              "      <td>14</td>\n",
              "      <td>15</td>\n",
              "    </tr>\n",
              "  </tbody>\n",
              "</table>\n",
              "</div>"
            ],
            "text/plain": [
              "          year  state   p  four\n",
              "Ohio         0      1   2     3\n",
              "Colorado     4      5   6     7\n",
              "Utah         8      9  10    11\n",
              "New York    12     13  14    15"
            ]
          },
          "execution_count": 101,
          "metadata": {},
          "output_type": "execute_result"
        }
      ],
      "source": [
        "data = pd.DataFrame(np.arange(16).reshape((4, 4)),\n",
        "                    index=['Ohio', 'Colorado', 'Utah', 'New York'],\n",
        "                    columns=['year', 'state', 'p', 'four'])\n",
        "data"
      ]
    },
    {
      "cell_type": "markdown",
      "metadata": {
        "id": "GsiNufpNatZS"
      },
      "source": [
        "- 행 인덱스"
      ]
    },
    {
      "cell_type": "code",
      "execution_count": 102,
      "metadata": {
        "id": "tyqddD9RatZS",
        "outputId": "183f7b44-f417-4f96-b52c-92aa578df69e"
      },
      "outputs": [
        {
          "data": {
            "text/plain": [
              "Index(['Ohio', 'Colorado', 'Utah', 'New York'], dtype='object')"
            ]
          },
          "execution_count": 102,
          "metadata": {},
          "output_type": "execute_result"
        }
      ],
      "source": [
        "data.index"
      ]
    },
    {
      "cell_type": "markdown",
      "metadata": {
        "id": "xdCyLMwcatZS"
      },
      "source": [
        "- 열 인덱스"
      ]
    },
    {
      "cell_type": "code",
      "execution_count": 103,
      "metadata": {
        "id": "krzcJ4JHatZS",
        "outputId": "8806465a-7b94-4951-88b5-9a3c33f78abb"
      },
      "outputs": [
        {
          "data": {
            "text/plain": [
              "Index(['year', 'state', 'p', 'four'], dtype='object')"
            ]
          },
          "execution_count": 103,
          "metadata": {},
          "output_type": "execute_result"
        }
      ],
      "source": [
        "data.columns"
      ]
    },
    {
      "cell_type": "markdown",
      "metadata": {
        "id": "d47rCfeJatZS"
      },
      "source": [
        "**사전 활용**"
      ]
    },
    {
      "cell_type": "markdown",
      "metadata": {
        "id": "j-x3K59xatZS"
      },
      "source": [
        "리스트를 값으로 갖는 사전을 이용하여 데이터프레임을 생성할 수 있다.\n",
        "\n",
        "아래 코드에서 `dict2`는 `state`(주 이름), `year`(년도), `pop`(인구)을 키(key)로 사용하며,\n",
        "해당 특성에 해당하는 데이터로 구성된 리스트를 값으로 갖는 사전 객체이다."
      ]
    },
    {
      "cell_type": "code",
      "execution_count": 104,
      "metadata": {
        "id": "6CT2__BmatZS"
      },
      "outputs": [],
      "source": [
        "dict2 = {'state': ['Ohio', 'Ohio', 'Ohio', 'Nevada', 'Nevada', 'Nevada', 'NY', 'NY', 'NY'],\n",
        "         'year': [2000, 2001, 2002, 2001, 2002, 2003, 2002, 2003, 2004],\n",
        "         'pop': [1.5, 1.7, 3.6, 2.4, 2.9, 3.2, 8.3, 8.4, 8.5]}"
      ]
    },
    {
      "cell_type": "markdown",
      "metadata": {
        "id": "GF6B7KJxatZS"
      },
      "source": [
        "위 사전 객체를 데이터프레임으로 변환하면 다음과 같다."
      ]
    },
    {
      "cell_type": "code",
      "execution_count": 105,
      "metadata": {
        "id": "RxTNFS6RatZS",
        "outputId": "a3f32daf-c219-43d3-d9d9-d322eb36a591"
      },
      "outputs": [
        {
          "data": {
            "text/html": [
              "<div>\n",
              "<style scoped>\n",
              "    .dataframe tbody tr th:only-of-type {\n",
              "        vertical-align: middle;\n",
              "    }\n",
              "\n",
              "    .dataframe tbody tr th {\n",
              "        vertical-align: top;\n",
              "    }\n",
              "\n",
              "    .dataframe thead th {\n",
              "        text-align: right;\n",
              "    }\n",
              "</style>\n",
              "<table border=\"1\" class=\"dataframe\">\n",
              "  <thead>\n",
              "    <tr style=\"text-align: right;\">\n",
              "      <th></th>\n",
              "      <th>state</th>\n",
              "      <th>year</th>\n",
              "      <th>pop</th>\n",
              "    </tr>\n",
              "  </thead>\n",
              "  <tbody>\n",
              "    <tr>\n",
              "      <th>0</th>\n",
              "      <td>Ohio</td>\n",
              "      <td>2000</td>\n",
              "      <td>1.5</td>\n",
              "    </tr>\n",
              "    <tr>\n",
              "      <th>1</th>\n",
              "      <td>Ohio</td>\n",
              "      <td>2001</td>\n",
              "      <td>1.7</td>\n",
              "    </tr>\n",
              "    <tr>\n",
              "      <th>2</th>\n",
              "      <td>Ohio</td>\n",
              "      <td>2002</td>\n",
              "      <td>3.6</td>\n",
              "    </tr>\n",
              "    <tr>\n",
              "      <th>3</th>\n",
              "      <td>Nevada</td>\n",
              "      <td>2001</td>\n",
              "      <td>2.4</td>\n",
              "    </tr>\n",
              "    <tr>\n",
              "      <th>4</th>\n",
              "      <td>Nevada</td>\n",
              "      <td>2002</td>\n",
              "      <td>2.9</td>\n",
              "    </tr>\n",
              "    <tr>\n",
              "      <th>5</th>\n",
              "      <td>Nevada</td>\n",
              "      <td>2003</td>\n",
              "      <td>3.2</td>\n",
              "    </tr>\n",
              "    <tr>\n",
              "      <th>6</th>\n",
              "      <td>NY</td>\n",
              "      <td>2002</td>\n",
              "      <td>8.3</td>\n",
              "    </tr>\n",
              "    <tr>\n",
              "      <th>7</th>\n",
              "      <td>NY</td>\n",
              "      <td>2003</td>\n",
              "      <td>8.4</td>\n",
              "    </tr>\n",
              "    <tr>\n",
              "      <th>8</th>\n",
              "      <td>NY</td>\n",
              "      <td>2004</td>\n",
              "      <td>8.5</td>\n",
              "    </tr>\n",
              "  </tbody>\n",
              "</table>\n",
              "</div>"
            ],
            "text/plain": [
              "    state  year  pop\n",
              "0    Ohio  2000  1.5\n",
              "1    Ohio  2001  1.7\n",
              "2    Ohio  2002  3.6\n",
              "3  Nevada  2001  2.4\n",
              "4  Nevada  2002  2.9\n",
              "5  Nevada  2003  3.2\n",
              "6      NY  2002  8.3\n",
              "7      NY  2003  8.4\n",
              "8      NY  2004  8.5"
            ]
          },
          "execution_count": 105,
          "metadata": {},
          "output_type": "execute_result"
        }
      ],
      "source": [
        "frame2 = pd.DataFrame(dict2)\n",
        "frame2"
      ]
    },
    {
      "cell_type": "markdown",
      "metadata": {
        "id": "LJneqbX9atZS"
      },
      "source": [
        "**중첩 사전 활용**"
      ]
    },
    {
      "cell_type": "markdown",
      "metadata": {
        "id": "woEulA0natZS"
      },
      "source": [
        "데이터프레임을 생성함에 있어서의 핵심은 2차원 행렬 모양을 갖느냐이기에\n",
        "각 열에 해당하는 값으로 리스트, 어레이, 사전, 시리즈 등이 사용될 수 있다.\n",
        "\n",
        "따라서 아래 모양의 중첩 사전을 활용하여 데이터프레임을 생성할 수 있다.\n",
        "그러면 최상위 키는 열의 이름으로, 내부에 사용된 키는 행의 인덱스로 사용된다."
      ]
    },
    {
      "cell_type": "code",
      "execution_count": 106,
      "metadata": {
        "id": "6Dk2UIcRatZS"
      },
      "outputs": [],
      "source": [
        "dict3 = {'Nevada': {2001: 2.4, 2002: 2.9},\n",
        "         'Ohio': {2000: 1.5, 2001: 1.7, 2002: 3.6}}"
      ]
    },
    {
      "cell_type": "markdown",
      "metadata": {
        "id": "CqrBy03tatZS"
      },
      "source": [
        "위 중첩 사전을 이용하여 데이터프레임을 생성하면 다음과 같다.\n",
        "다만, 두 사전의 키가 다름에 주의하라.\n",
        "예를 들어, 2000 인덱스 행의 Nevada의 경우는 결측치로 처리된다."
      ]
    },
    {
      "cell_type": "code",
      "execution_count": 107,
      "metadata": {
        "id": "hYd_BsuSatZS",
        "outputId": "8c8d947f-56de-4d9e-d0f9-8e60a3cc360d"
      },
      "outputs": [
        {
          "data": {
            "text/html": [
              "<div>\n",
              "<style scoped>\n",
              "    .dataframe tbody tr th:only-of-type {\n",
              "        vertical-align: middle;\n",
              "    }\n",
              "\n",
              "    .dataframe tbody tr th {\n",
              "        vertical-align: top;\n",
              "    }\n",
              "\n",
              "    .dataframe thead th {\n",
              "        text-align: right;\n",
              "    }\n",
              "</style>\n",
              "<table border=\"1\" class=\"dataframe\">\n",
              "  <thead>\n",
              "    <tr style=\"text-align: right;\">\n",
              "      <th></th>\n",
              "      <th>Nevada</th>\n",
              "      <th>Ohio</th>\n",
              "    </tr>\n",
              "  </thead>\n",
              "  <tbody>\n",
              "    <tr>\n",
              "      <th>2001</th>\n",
              "      <td>2.4</td>\n",
              "      <td>1.7</td>\n",
              "    </tr>\n",
              "    <tr>\n",
              "      <th>2002</th>\n",
              "      <td>2.9</td>\n",
              "      <td>3.6</td>\n",
              "    </tr>\n",
              "    <tr>\n",
              "      <th>2000</th>\n",
              "      <td>NaN</td>\n",
              "      <td>1.5</td>\n",
              "    </tr>\n",
              "  </tbody>\n",
              "</table>\n",
              "</div>"
            ],
            "text/plain": [
              "      Nevada  Ohio\n",
              "2001     2.4   1.7\n",
              "2002     2.9   3.6\n",
              "2000     NaN   1.5"
            ]
          },
          "execution_count": 107,
          "metadata": {},
          "output_type": "execute_result"
        }
      ],
      "source": [
        "frame3 = pd.DataFrame(dict3)\n",
        "frame3"
      ]
    },
    {
      "cell_type": "markdown",
      "metadata": {
        "id": "FTtdjPrEatZS"
      },
      "source": [
        "### `name` 속성과 `values` 속성"
      ]
    },
    {
      "cell_type": "markdown",
      "metadata": {
        "id": "Vi0tL0SZatZS"
      },
      "source": [
        "**`name` 속성**"
      ]
    },
    {
      "cell_type": "markdown",
      "metadata": {
        "id": "JdzH6c3matZT"
      },
      "source": [
        "시리즈의 경우와 동일한 방식으로 행과 열의 이름을 지정할 수 있다."
      ]
    },
    {
      "cell_type": "code",
      "execution_count": 108,
      "metadata": {
        "id": "RqdDwSDzatZT",
        "outputId": "c9657907-5776-47a4-9e6f-ec3a81a89a08"
      },
      "outputs": [
        {
          "data": {
            "text/html": [
              "<div>\n",
              "<style scoped>\n",
              "    .dataframe tbody tr th:only-of-type {\n",
              "        vertical-align: middle;\n",
              "    }\n",
              "\n",
              "    .dataframe tbody tr th {\n",
              "        vertical-align: top;\n",
              "    }\n",
              "\n",
              "    .dataframe thead th {\n",
              "        text-align: right;\n",
              "    }\n",
              "</style>\n",
              "<table border=\"1\" class=\"dataframe\">\n",
              "  <thead>\n",
              "    <tr style=\"text-align: right;\">\n",
              "      <th>state</th>\n",
              "      <th>Nevada</th>\n",
              "      <th>Ohio</th>\n",
              "    </tr>\n",
              "    <tr>\n",
              "      <th>year</th>\n",
              "      <th></th>\n",
              "      <th></th>\n",
              "    </tr>\n",
              "  </thead>\n",
              "  <tbody>\n",
              "    <tr>\n",
              "      <th>2001</th>\n",
              "      <td>2.4</td>\n",
              "      <td>1.7</td>\n",
              "    </tr>\n",
              "    <tr>\n",
              "      <th>2002</th>\n",
              "      <td>2.9</td>\n",
              "      <td>3.6</td>\n",
              "    </tr>\n",
              "    <tr>\n",
              "      <th>2000</th>\n",
              "      <td>NaN</td>\n",
              "      <td>1.5</td>\n",
              "    </tr>\n",
              "  </tbody>\n",
              "</table>\n",
              "</div>"
            ],
            "text/plain": [
              "state  Nevada  Ohio\n",
              "year               \n",
              "2001      2.4   1.7\n",
              "2002      2.9   3.6\n",
              "2000      NaN   1.5"
            ]
          },
          "execution_count": 108,
          "metadata": {},
          "output_type": "execute_result"
        }
      ],
      "source": [
        "frame3.index.name = 'year'      # 행 이름 지정\n",
        "frame3.columns.name = 'state'   # 열 이름 지정\n",
        "frame3"
      ]
    },
    {
      "cell_type": "markdown",
      "metadata": {
        "id": "88lAgKWVatZT"
      },
      "source": [
        "**`values` 속성**"
      ]
    },
    {
      "cell_type": "markdown",
      "metadata": {
        "id": "1twfKfnZatZT"
      },
      "source": [
        "항목들로 이루어진 2차원 어레이는 `values` 속성이 가리킨다."
      ]
    },
    {
      "cell_type": "code",
      "execution_count": 109,
      "metadata": {
        "id": "e1GfH0QOatZT",
        "outputId": "6d96e66a-681e-40a8-ea15-616d362eabc8"
      },
      "outputs": [
        {
          "data": {
            "text/plain": [
              "array([[2.4, 1.7],\n",
              "       [2.9, 3.6],\n",
              "       [nan, 1.5]])"
            ]
          },
          "execution_count": 109,
          "metadata": {},
          "output_type": "execute_result"
        }
      ],
      "source": [
        "frame3.values"
      ]
    },
    {
      "cell_type": "code",
      "execution_count": 110,
      "metadata": {
        "id": "FxRR57VaatZT",
        "outputId": "74fea8e6-0f1d-4453-f1e8-aa6dabcdc502"
      },
      "outputs": [
        {
          "data": {
            "text/plain": [
              "array([['Ohio', 2000, 1.5],\n",
              "       ['Ohio', 2001, 1.7],\n",
              "       ['Ohio', 2002, 3.6],\n",
              "       ['Nevada', 2001, 2.4],\n",
              "       ['Nevada', 2002, 2.9],\n",
              "       ['Nevada', 2003, 3.2],\n",
              "       ['NY', 2002, 8.3],\n",
              "       ['NY', 2003, 8.4],\n",
              "       ['NY', 2004, 8.5]], dtype=object)"
            ]
          },
          "execution_count": 110,
          "metadata": {},
          "output_type": "execute_result"
        }
      ],
      "source": [
        "frame2.values"
      ]
    },
    {
      "cell_type": "markdown",
      "metadata": {
        "id": "X6zPKDIJatZT"
      },
      "source": [
        "### `columns` 속성과 `index` 속성"
      ]
    },
    {
      "cell_type": "markdown",
      "metadata": {
        "id": "ELtKCkRmatZT"
      },
      "source": [
        "앞서 언급한 대로 데이터프레임은 행과 열 각각에 대해 `Index` 객체를 사용한다."
      ]
    },
    {
      "cell_type": "markdown",
      "metadata": {
        "id": "K53gCTWcatZT"
      },
      "source": [
        "**`columns` 속성**"
      ]
    },
    {
      "cell_type": "markdown",
      "metadata": {
        "id": "o0X1QWwmatZT"
      },
      "source": [
        "`columns` 속성을 이용하여 열의 순서를 지정할 수 있다."
      ]
    },
    {
      "cell_type": "code",
      "execution_count": 111,
      "metadata": {
        "id": "MNvkZ-c5atZT",
        "outputId": "3e5036ae-a5ff-449c-ca8a-a9d5311c1715"
      },
      "outputs": [
        {
          "data": {
            "text/plain": [
              "{'state': ['Ohio',\n",
              "  'Ohio',\n",
              "  'Ohio',\n",
              "  'Nevada',\n",
              "  'Nevada',\n",
              "  'Nevada',\n",
              "  'NY',\n",
              "  'NY',\n",
              "  'NY'],\n",
              " 'year': [2000, 2001, 2002, 2001, 2002, 2003, 2002, 2003, 2004],\n",
              " 'pop': [1.5, 1.7, 3.6, 2.4, 2.9, 3.2, 8.3, 8.4, 8.5]}"
            ]
          },
          "execution_count": 111,
          "metadata": {},
          "output_type": "execute_result"
        }
      ],
      "source": [
        "dict2"
      ]
    },
    {
      "cell_type": "code",
      "execution_count": 112,
      "metadata": {
        "id": "Sz5mfH-_atZT",
        "outputId": "2d56e199-73de-4a96-9154-a8eee082d69c"
      },
      "outputs": [
        {
          "data": {
            "text/html": [
              "<div>\n",
              "<style scoped>\n",
              "    .dataframe tbody tr th:only-of-type {\n",
              "        vertical-align: middle;\n",
              "    }\n",
              "\n",
              "    .dataframe tbody tr th {\n",
              "        vertical-align: top;\n",
              "    }\n",
              "\n",
              "    .dataframe thead th {\n",
              "        text-align: right;\n",
              "    }\n",
              "</style>\n",
              "<table border=\"1\" class=\"dataframe\">\n",
              "  <thead>\n",
              "    <tr style=\"text-align: right;\">\n",
              "      <th></th>\n",
              "      <th>year</th>\n",
              "      <th>state</th>\n",
              "      <th>pop</th>\n",
              "    </tr>\n",
              "  </thead>\n",
              "  <tbody>\n",
              "    <tr>\n",
              "      <th>0</th>\n",
              "      <td>2000</td>\n",
              "      <td>Ohio</td>\n",
              "      <td>1.5</td>\n",
              "    </tr>\n",
              "    <tr>\n",
              "      <th>1</th>\n",
              "      <td>2001</td>\n",
              "      <td>Ohio</td>\n",
              "      <td>1.7</td>\n",
              "    </tr>\n",
              "    <tr>\n",
              "      <th>2</th>\n",
              "      <td>2002</td>\n",
              "      <td>Ohio</td>\n",
              "      <td>3.6</td>\n",
              "    </tr>\n",
              "    <tr>\n",
              "      <th>3</th>\n",
              "      <td>2001</td>\n",
              "      <td>Nevada</td>\n",
              "      <td>2.4</td>\n",
              "    </tr>\n",
              "    <tr>\n",
              "      <th>4</th>\n",
              "      <td>2002</td>\n",
              "      <td>Nevada</td>\n",
              "      <td>2.9</td>\n",
              "    </tr>\n",
              "    <tr>\n",
              "      <th>5</th>\n",
              "      <td>2003</td>\n",
              "      <td>Nevada</td>\n",
              "      <td>3.2</td>\n",
              "    </tr>\n",
              "    <tr>\n",
              "      <th>6</th>\n",
              "      <td>2002</td>\n",
              "      <td>NY</td>\n",
              "      <td>8.3</td>\n",
              "    </tr>\n",
              "    <tr>\n",
              "      <th>7</th>\n",
              "      <td>2003</td>\n",
              "      <td>NY</td>\n",
              "      <td>8.4</td>\n",
              "    </tr>\n",
              "    <tr>\n",
              "      <th>8</th>\n",
              "      <td>2004</td>\n",
              "      <td>NY</td>\n",
              "      <td>8.5</td>\n",
              "    </tr>\n",
              "  </tbody>\n",
              "</table>\n",
              "</div>"
            ],
            "text/plain": [
              "   year   state  pop\n",
              "0  2000    Ohio  1.5\n",
              "1  2001    Ohio  1.7\n",
              "2  2002    Ohio  3.6\n",
              "3  2001  Nevada  2.4\n",
              "4  2002  Nevada  2.9\n",
              "5  2003  Nevada  3.2\n",
              "6  2002      NY  8.3\n",
              "7  2003      NY  8.4\n",
              "8  2004      NY  8.5"
            ]
          },
          "execution_count": 112,
          "metadata": {},
          "output_type": "execute_result"
        }
      ],
      "source": [
        "pd.DataFrame(dict2, columns=['year', 'state', 'pop'])"
      ]
    },
    {
      "cell_type": "markdown",
      "metadata": {
        "id": "9G5pXDrfatZT"
      },
      "source": [
        "새로운 열을 추가할 수도 있다.\n",
        "이름만 지정할 경우 항목은 모두 `NaN`으로 처리된다."
      ]
    },
    {
      "cell_type": "code",
      "execution_count": 113,
      "metadata": {
        "id": "hML1Hjx7atZT",
        "outputId": "93c18c34-cb70-43ad-bef8-94b5a1cc9fa7"
      },
      "outputs": [
        {
          "data": {
            "text/html": [
              "<div>\n",
              "<style scoped>\n",
              "    .dataframe tbody tr th:only-of-type {\n",
              "        vertical-align: middle;\n",
              "    }\n",
              "\n",
              "    .dataframe tbody tr th {\n",
              "        vertical-align: top;\n",
              "    }\n",
              "\n",
              "    .dataframe thead th {\n",
              "        text-align: right;\n",
              "    }\n",
              "</style>\n",
              "<table border=\"1\" class=\"dataframe\">\n",
              "  <thead>\n",
              "    <tr style=\"text-align: right;\">\n",
              "      <th></th>\n",
              "      <th>year</th>\n",
              "      <th>state</th>\n",
              "      <th>pop</th>\n",
              "      <th>debt</th>\n",
              "    </tr>\n",
              "  </thead>\n",
              "  <tbody>\n",
              "    <tr>\n",
              "      <th>0</th>\n",
              "      <td>2000</td>\n",
              "      <td>Ohio</td>\n",
              "      <td>1.5</td>\n",
              "      <td>NaN</td>\n",
              "    </tr>\n",
              "    <tr>\n",
              "      <th>1</th>\n",
              "      <td>2001</td>\n",
              "      <td>Ohio</td>\n",
              "      <td>1.7</td>\n",
              "      <td>NaN</td>\n",
              "    </tr>\n",
              "    <tr>\n",
              "      <th>2</th>\n",
              "      <td>2002</td>\n",
              "      <td>Ohio</td>\n",
              "      <td>3.6</td>\n",
              "      <td>NaN</td>\n",
              "    </tr>\n",
              "    <tr>\n",
              "      <th>3</th>\n",
              "      <td>2001</td>\n",
              "      <td>Nevada</td>\n",
              "      <td>2.4</td>\n",
              "      <td>NaN</td>\n",
              "    </tr>\n",
              "    <tr>\n",
              "      <th>4</th>\n",
              "      <td>2002</td>\n",
              "      <td>Nevada</td>\n",
              "      <td>2.9</td>\n",
              "      <td>NaN</td>\n",
              "    </tr>\n",
              "    <tr>\n",
              "      <th>5</th>\n",
              "      <td>2003</td>\n",
              "      <td>Nevada</td>\n",
              "      <td>3.2</td>\n",
              "      <td>NaN</td>\n",
              "    </tr>\n",
              "    <tr>\n",
              "      <th>6</th>\n",
              "      <td>2002</td>\n",
              "      <td>NY</td>\n",
              "      <td>8.3</td>\n",
              "      <td>NaN</td>\n",
              "    </tr>\n",
              "    <tr>\n",
              "      <th>7</th>\n",
              "      <td>2003</td>\n",
              "      <td>NY</td>\n",
              "      <td>8.4</td>\n",
              "      <td>NaN</td>\n",
              "    </tr>\n",
              "    <tr>\n",
              "      <th>8</th>\n",
              "      <td>2004</td>\n",
              "      <td>NY</td>\n",
              "      <td>8.5</td>\n",
              "      <td>NaN</td>\n",
              "    </tr>\n",
              "  </tbody>\n",
              "</table>\n",
              "</div>"
            ],
            "text/plain": [
              "   year   state  pop debt\n",
              "0  2000    Ohio  1.5  NaN\n",
              "1  2001    Ohio  1.7  NaN\n",
              "2  2002    Ohio  3.6  NaN\n",
              "3  2001  Nevada  2.4  NaN\n",
              "4  2002  Nevada  2.9  NaN\n",
              "5  2003  Nevada  3.2  NaN\n",
              "6  2002      NY  8.3  NaN\n",
              "7  2003      NY  8.4  NaN\n",
              "8  2004      NY  8.5  NaN"
            ]
          },
          "execution_count": 113,
          "metadata": {},
          "output_type": "execute_result"
        }
      ],
      "source": [
        "frame2 = pd.DataFrame(dict2, columns=['year', 'state', 'pop', 'debt'])\n",
        "frame2"
      ]
    },
    {
      "cell_type": "markdown",
      "metadata": {
        "id": "-JU3zqVDatZT"
      },
      "source": [
        "`columns` 속성을 확인하면 다음과 같다."
      ]
    },
    {
      "cell_type": "code",
      "execution_count": 114,
      "metadata": {
        "id": "y9UFBfmMatZT",
        "outputId": "703fc86d-bf07-4c15-a237-ddd87c9240ef"
      },
      "outputs": [
        {
          "data": {
            "text/plain": [
              "Index(['year', 'state', 'pop', 'debt'], dtype='object')"
            ]
          },
          "execution_count": 114,
          "metadata": {},
          "output_type": "execute_result"
        }
      ],
      "source": [
        "frame2.columns"
      ]
    },
    {
      "cell_type": "markdown",
      "metadata": {
        "id": "dfC6T1TcatZT"
      },
      "source": [
        "**`index` 속성**"
      ]
    },
    {
      "cell_type": "markdown",
      "metadata": {
        "id": "u6zpMB4patZT"
      },
      "source": [
        "인덱스를 지정하려면 `index` 속성을 이용한다."
      ]
    },
    {
      "cell_type": "code",
      "execution_count": 115,
      "metadata": {
        "id": "rdudaaa3atZT",
        "outputId": "c2574924-e325-4af8-c85d-4cfbcfda06f4"
      },
      "outputs": [
        {
          "data": {
            "text/html": [
              "<div>\n",
              "<style scoped>\n",
              "    .dataframe tbody tr th:only-of-type {\n",
              "        vertical-align: middle;\n",
              "    }\n",
              "\n",
              "    .dataframe tbody tr th {\n",
              "        vertical-align: top;\n",
              "    }\n",
              "\n",
              "    .dataframe thead th {\n",
              "        text-align: right;\n",
              "    }\n",
              "</style>\n",
              "<table border=\"1\" class=\"dataframe\">\n",
              "  <thead>\n",
              "    <tr style=\"text-align: right;\">\n",
              "      <th></th>\n",
              "      <th>state</th>\n",
              "      <th>year</th>\n",
              "      <th>pop</th>\n",
              "    </tr>\n",
              "  </thead>\n",
              "  <tbody>\n",
              "    <tr>\n",
              "      <th>one</th>\n",
              "      <td>Ohio</td>\n",
              "      <td>2000</td>\n",
              "      <td>1.5</td>\n",
              "    </tr>\n",
              "    <tr>\n",
              "      <th>two</th>\n",
              "      <td>Ohio</td>\n",
              "      <td>2001</td>\n",
              "      <td>1.7</td>\n",
              "    </tr>\n",
              "    <tr>\n",
              "      <th>three</th>\n",
              "      <td>Ohio</td>\n",
              "      <td>2002</td>\n",
              "      <td>3.6</td>\n",
              "    </tr>\n",
              "    <tr>\n",
              "      <th>four</th>\n",
              "      <td>Nevada</td>\n",
              "      <td>2001</td>\n",
              "      <td>2.4</td>\n",
              "    </tr>\n",
              "    <tr>\n",
              "      <th>five</th>\n",
              "      <td>Nevada</td>\n",
              "      <td>2002</td>\n",
              "      <td>2.9</td>\n",
              "    </tr>\n",
              "    <tr>\n",
              "      <th>six</th>\n",
              "      <td>Nevada</td>\n",
              "      <td>2003</td>\n",
              "      <td>3.2</td>\n",
              "    </tr>\n",
              "    <tr>\n",
              "      <th>seven</th>\n",
              "      <td>NY</td>\n",
              "      <td>2002</td>\n",
              "      <td>8.3</td>\n",
              "    </tr>\n",
              "    <tr>\n",
              "      <th>eight</th>\n",
              "      <td>NY</td>\n",
              "      <td>2003</td>\n",
              "      <td>8.4</td>\n",
              "    </tr>\n",
              "    <tr>\n",
              "      <th>nine</th>\n",
              "      <td>NY</td>\n",
              "      <td>2004</td>\n",
              "      <td>8.5</td>\n",
              "    </tr>\n",
              "  </tbody>\n",
              "</table>\n",
              "</div>"
            ],
            "text/plain": [
              "        state  year  pop\n",
              "one      Ohio  2000  1.5\n",
              "two      Ohio  2001  1.7\n",
              "three    Ohio  2002  3.6\n",
              "four   Nevada  2001  2.4\n",
              "five   Nevada  2002  2.9\n",
              "six    Nevada  2003  3.2\n",
              "seven      NY  2002  8.3\n",
              "eight      NY  2003  8.4\n",
              "nine       NY  2004  8.5"
            ]
          },
          "execution_count": 115,
          "metadata": {},
          "output_type": "execute_result"
        }
      ],
      "source": [
        "frame2 = pd.DataFrame(dict2, index=['one', 'two', 'three', 'four',\n",
        "                             'five', 'six', 'seven', 'eight', 'nine'])\n",
        "frame2"
      ]
    },
    {
      "cell_type": "markdown",
      "metadata": {
        "id": "kzcXIiDlatZT"
      },
      "source": [
        "물론 `columns`, `index` 등 여러 속성을 동시에 지정할 수도 있다."
      ]
    },
    {
      "cell_type": "code",
      "execution_count": 116,
      "metadata": {
        "id": "XYLtGWsAatZT",
        "outputId": "3679b25e-3827-4eaa-a0d2-4950dd8c3ac5"
      },
      "outputs": [
        {
          "data": {
            "text/html": [
              "<div>\n",
              "<style scoped>\n",
              "    .dataframe tbody tr th:only-of-type {\n",
              "        vertical-align: middle;\n",
              "    }\n",
              "\n",
              "    .dataframe tbody tr th {\n",
              "        vertical-align: top;\n",
              "    }\n",
              "\n",
              "    .dataframe thead th {\n",
              "        text-align: right;\n",
              "    }\n",
              "</style>\n",
              "<table border=\"1\" class=\"dataframe\">\n",
              "  <thead>\n",
              "    <tr style=\"text-align: right;\">\n",
              "      <th></th>\n",
              "      <th>year</th>\n",
              "      <th>state</th>\n",
              "      <th>pop</th>\n",
              "      <th>debt</th>\n",
              "    </tr>\n",
              "  </thead>\n",
              "  <tbody>\n",
              "    <tr>\n",
              "      <th>one</th>\n",
              "      <td>2000</td>\n",
              "      <td>Ohio</td>\n",
              "      <td>1.5</td>\n",
              "      <td>NaN</td>\n",
              "    </tr>\n",
              "    <tr>\n",
              "      <th>two</th>\n",
              "      <td>2001</td>\n",
              "      <td>Ohio</td>\n",
              "      <td>1.7</td>\n",
              "      <td>NaN</td>\n",
              "    </tr>\n",
              "    <tr>\n",
              "      <th>three</th>\n",
              "      <td>2002</td>\n",
              "      <td>Ohio</td>\n",
              "      <td>3.6</td>\n",
              "      <td>NaN</td>\n",
              "    </tr>\n",
              "    <tr>\n",
              "      <th>four</th>\n",
              "      <td>2001</td>\n",
              "      <td>Nevada</td>\n",
              "      <td>2.4</td>\n",
              "      <td>NaN</td>\n",
              "    </tr>\n",
              "    <tr>\n",
              "      <th>five</th>\n",
              "      <td>2002</td>\n",
              "      <td>Nevada</td>\n",
              "      <td>2.9</td>\n",
              "      <td>NaN</td>\n",
              "    </tr>\n",
              "    <tr>\n",
              "      <th>six</th>\n",
              "      <td>2003</td>\n",
              "      <td>Nevada</td>\n",
              "      <td>3.2</td>\n",
              "      <td>NaN</td>\n",
              "    </tr>\n",
              "    <tr>\n",
              "      <th>seven</th>\n",
              "      <td>2002</td>\n",
              "      <td>NY</td>\n",
              "      <td>8.3</td>\n",
              "      <td>NaN</td>\n",
              "    </tr>\n",
              "    <tr>\n",
              "      <th>eight</th>\n",
              "      <td>2003</td>\n",
              "      <td>NY</td>\n",
              "      <td>8.4</td>\n",
              "      <td>NaN</td>\n",
              "    </tr>\n",
              "    <tr>\n",
              "      <th>nine</th>\n",
              "      <td>2004</td>\n",
              "      <td>NY</td>\n",
              "      <td>8.5</td>\n",
              "      <td>NaN</td>\n",
              "    </tr>\n",
              "  </tbody>\n",
              "</table>\n",
              "</div>"
            ],
            "text/plain": [
              "       year   state  pop debt\n",
              "one    2000    Ohio  1.5  NaN\n",
              "two    2001    Ohio  1.7  NaN\n",
              "three  2002    Ohio  3.6  NaN\n",
              "four   2001  Nevada  2.4  NaN\n",
              "five   2002  Nevada  2.9  NaN\n",
              "six    2003  Nevada  3.2  NaN\n",
              "seven  2002      NY  8.3  NaN\n",
              "eight  2003      NY  8.4  NaN\n",
              "nine   2004      NY  8.5  NaN"
            ]
          },
          "execution_count": 116,
          "metadata": {},
          "output_type": "execute_result"
        }
      ],
      "source": [
        "frame2 = pd.DataFrame(dict2, columns=['year', 'state', 'pop', 'debt'],\n",
        "                      index=['one', 'two', 'three', 'four',\n",
        "                             'five', 'six', 'seven', 'eight', 'nine'])\n",
        "frame2"
      ]
    },
    {
      "cell_type": "markdown",
      "metadata": {
        "id": "QTyTxQs9atZT"
      },
      "source": [
        "**rename() 메서드**"
      ]
    },
    {
      "cell_type": "markdown",
      "metadata": {
        "id": "j7IwnLyBatZT"
      },
      "source": [
        "행 또는 열 라벨의 이름을 사전 객체를 이용하여 수정할 수 있다.\n",
        "예를들어, 아래 코드는 행 라벨 `'one'`과 `'three'`가 대문자로 시작하는 행 라벨을 사용하는 데이터프레임을 생성한다."
      ]
    },
    {
      "cell_type": "code",
      "execution_count": 117,
      "metadata": {
        "id": "eUgKZ344atZT",
        "outputId": "a2f492f3-2323-4821-a161-f59e7c49a829"
      },
      "outputs": [
        {
          "data": {
            "text/html": [
              "<div>\n",
              "<style scoped>\n",
              "    .dataframe tbody tr th:only-of-type {\n",
              "        vertical-align: middle;\n",
              "    }\n",
              "\n",
              "    .dataframe tbody tr th {\n",
              "        vertical-align: top;\n",
              "    }\n",
              "\n",
              "    .dataframe thead th {\n",
              "        text-align: right;\n",
              "    }\n",
              "</style>\n",
              "<table border=\"1\" class=\"dataframe\">\n",
              "  <thead>\n",
              "    <tr style=\"text-align: right;\">\n",
              "      <th></th>\n",
              "      <th>year</th>\n",
              "      <th>state</th>\n",
              "      <th>pop</th>\n",
              "      <th>debt</th>\n",
              "    </tr>\n",
              "  </thead>\n",
              "  <tbody>\n",
              "    <tr>\n",
              "      <th>ONE</th>\n",
              "      <td>2000</td>\n",
              "      <td>Ohio</td>\n",
              "      <td>1.5</td>\n",
              "      <td>NaN</td>\n",
              "    </tr>\n",
              "    <tr>\n",
              "      <th>two</th>\n",
              "      <td>2001</td>\n",
              "      <td>Ohio</td>\n",
              "      <td>1.7</td>\n",
              "      <td>NaN</td>\n",
              "    </tr>\n",
              "    <tr>\n",
              "      <th>THREE</th>\n",
              "      <td>2002</td>\n",
              "      <td>Ohio</td>\n",
              "      <td>3.6</td>\n",
              "      <td>NaN</td>\n",
              "    </tr>\n",
              "    <tr>\n",
              "      <th>four</th>\n",
              "      <td>2001</td>\n",
              "      <td>Nevada</td>\n",
              "      <td>2.4</td>\n",
              "      <td>NaN</td>\n",
              "    </tr>\n",
              "    <tr>\n",
              "      <th>five</th>\n",
              "      <td>2002</td>\n",
              "      <td>Nevada</td>\n",
              "      <td>2.9</td>\n",
              "      <td>NaN</td>\n",
              "    </tr>\n",
              "    <tr>\n",
              "      <th>six</th>\n",
              "      <td>2003</td>\n",
              "      <td>Nevada</td>\n",
              "      <td>3.2</td>\n",
              "      <td>NaN</td>\n",
              "    </tr>\n",
              "    <tr>\n",
              "      <th>seven</th>\n",
              "      <td>2002</td>\n",
              "      <td>NY</td>\n",
              "      <td>8.3</td>\n",
              "      <td>NaN</td>\n",
              "    </tr>\n",
              "    <tr>\n",
              "      <th>eight</th>\n",
              "      <td>2003</td>\n",
              "      <td>NY</td>\n",
              "      <td>8.4</td>\n",
              "      <td>NaN</td>\n",
              "    </tr>\n",
              "    <tr>\n",
              "      <th>nine</th>\n",
              "      <td>2004</td>\n",
              "      <td>NY</td>\n",
              "      <td>8.5</td>\n",
              "      <td>NaN</td>\n",
              "    </tr>\n",
              "  </tbody>\n",
              "</table>\n",
              "</div>"
            ],
            "text/plain": [
              "       year   state  pop debt\n",
              "ONE    2000    Ohio  1.5  NaN\n",
              "two    2001    Ohio  1.7  NaN\n",
              "THREE  2002    Ohio  3.6  NaN\n",
              "four   2001  Nevada  2.4  NaN\n",
              "five   2002  Nevada  2.9  NaN\n",
              "six    2003  Nevada  3.2  NaN\n",
              "seven  2002      NY  8.3  NaN\n",
              "eight  2003      NY  8.4  NaN\n",
              "nine   2004      NY  8.5  NaN"
            ]
          },
          "execution_count": 117,
          "metadata": {},
          "output_type": "execute_result"
        }
      ],
      "source": [
        "frame2_index = frame2.rename(index={'one':'ONE', 'three':'THREE'})\n",
        "frame2_index"
      ]
    },
    {
      "cell_type": "markdown",
      "metadata": {
        "id": "hvwuvQuEatZU"
      },
      "source": [
        "반면에 아래 코드는 대문자만 사용하는 열 라벨을 갖는 데이터프레임을 생성한다."
      ]
    },
    {
      "cell_type": "code",
      "execution_count": 118,
      "metadata": {
        "id": "oiRHXJ_QatZU",
        "outputId": "9cfd3ed7-7d63-4f68-d9da-858f6cc83cf3"
      },
      "outputs": [
        {
          "data": {
            "text/html": [
              "<div>\n",
              "<style scoped>\n",
              "    .dataframe tbody tr th:only-of-type {\n",
              "        vertical-align: middle;\n",
              "    }\n",
              "\n",
              "    .dataframe tbody tr th {\n",
              "        vertical-align: top;\n",
              "    }\n",
              "\n",
              "    .dataframe thead th {\n",
              "        text-align: right;\n",
              "    }\n",
              "</style>\n",
              "<table border=\"1\" class=\"dataframe\">\n",
              "  <thead>\n",
              "    <tr style=\"text-align: right;\">\n",
              "      <th></th>\n",
              "      <th>YEAR</th>\n",
              "      <th>STATE</th>\n",
              "      <th>POP</th>\n",
              "      <th>DEBT</th>\n",
              "    </tr>\n",
              "  </thead>\n",
              "  <tbody>\n",
              "    <tr>\n",
              "      <th>one</th>\n",
              "      <td>2000</td>\n",
              "      <td>Ohio</td>\n",
              "      <td>1.5</td>\n",
              "      <td>NaN</td>\n",
              "    </tr>\n",
              "    <tr>\n",
              "      <th>two</th>\n",
              "      <td>2001</td>\n",
              "      <td>Ohio</td>\n",
              "      <td>1.7</td>\n",
              "      <td>NaN</td>\n",
              "    </tr>\n",
              "    <tr>\n",
              "      <th>three</th>\n",
              "      <td>2002</td>\n",
              "      <td>Ohio</td>\n",
              "      <td>3.6</td>\n",
              "      <td>NaN</td>\n",
              "    </tr>\n",
              "    <tr>\n",
              "      <th>four</th>\n",
              "      <td>2001</td>\n",
              "      <td>Nevada</td>\n",
              "      <td>2.4</td>\n",
              "      <td>NaN</td>\n",
              "    </tr>\n",
              "    <tr>\n",
              "      <th>five</th>\n",
              "      <td>2002</td>\n",
              "      <td>Nevada</td>\n",
              "      <td>2.9</td>\n",
              "      <td>NaN</td>\n",
              "    </tr>\n",
              "    <tr>\n",
              "      <th>six</th>\n",
              "      <td>2003</td>\n",
              "      <td>Nevada</td>\n",
              "      <td>3.2</td>\n",
              "      <td>NaN</td>\n",
              "    </tr>\n",
              "    <tr>\n",
              "      <th>seven</th>\n",
              "      <td>2002</td>\n",
              "      <td>NY</td>\n",
              "      <td>8.3</td>\n",
              "      <td>NaN</td>\n",
              "    </tr>\n",
              "    <tr>\n",
              "      <th>eight</th>\n",
              "      <td>2003</td>\n",
              "      <td>NY</td>\n",
              "      <td>8.4</td>\n",
              "      <td>NaN</td>\n",
              "    </tr>\n",
              "    <tr>\n",
              "      <th>nine</th>\n",
              "      <td>2004</td>\n",
              "      <td>NY</td>\n",
              "      <td>8.5</td>\n",
              "      <td>NaN</td>\n",
              "    </tr>\n",
              "  </tbody>\n",
              "</table>\n",
              "</div>"
            ],
            "text/plain": [
              "       YEAR   STATE  POP DEBT\n",
              "one    2000    Ohio  1.5  NaN\n",
              "two    2001    Ohio  1.7  NaN\n",
              "three  2002    Ohio  3.6  NaN\n",
              "four   2001  Nevada  2.4  NaN\n",
              "five   2002  Nevada  2.9  NaN\n",
              "six    2003  Nevada  3.2  NaN\n",
              "seven  2002      NY  8.3  NaN\n",
              "eight  2003      NY  8.4  NaN\n",
              "nine   2004      NY  8.5  NaN"
            ]
          },
          "execution_count": 118,
          "metadata": {},
          "output_type": "execute_result"
        }
      ],
      "source": [
        "frame2_columns = frame2.rename(columns={'year':'YEAR', 'state':'STATE', 'pop':'POP', 'debt':'DEBT'})\n",
        "frame2_columns"
      ]
    },
    {
      "cell_type": "markdown",
      "metadata": {
        "id": "rMkjnVMeatZU"
      },
      "source": [
        "행 라벨과 열 라벨이 동시에 수정된 데이터프레임을 생성할 수도 있다."
      ]
    },
    {
      "cell_type": "code",
      "execution_count": 119,
      "metadata": {
        "id": "507CdETIatZU",
        "outputId": "8e31e876-8f2f-4d3c-cc8e-ab8108245f87"
      },
      "outputs": [
        {
          "data": {
            "text/html": [
              "<div>\n",
              "<style scoped>\n",
              "    .dataframe tbody tr th:only-of-type {\n",
              "        vertical-align: middle;\n",
              "    }\n",
              "\n",
              "    .dataframe tbody tr th {\n",
              "        vertical-align: top;\n",
              "    }\n",
              "\n",
              "    .dataframe thead th {\n",
              "        text-align: right;\n",
              "    }\n",
              "</style>\n",
              "<table border=\"1\" class=\"dataframe\">\n",
              "  <thead>\n",
              "    <tr style=\"text-align: right;\">\n",
              "      <th></th>\n",
              "      <th>YEAR</th>\n",
              "      <th>STATE</th>\n",
              "      <th>POP</th>\n",
              "      <th>DEBT</th>\n",
              "    </tr>\n",
              "  </thead>\n",
              "  <tbody>\n",
              "    <tr>\n",
              "      <th>ONE</th>\n",
              "      <td>2000</td>\n",
              "      <td>Ohio</td>\n",
              "      <td>1.5</td>\n",
              "      <td>NaN</td>\n",
              "    </tr>\n",
              "    <tr>\n",
              "      <th>two</th>\n",
              "      <td>2001</td>\n",
              "      <td>Ohio</td>\n",
              "      <td>1.7</td>\n",
              "      <td>NaN</td>\n",
              "    </tr>\n",
              "    <tr>\n",
              "      <th>THREE</th>\n",
              "      <td>2002</td>\n",
              "      <td>Ohio</td>\n",
              "      <td>3.6</td>\n",
              "      <td>NaN</td>\n",
              "    </tr>\n",
              "    <tr>\n",
              "      <th>four</th>\n",
              "      <td>2001</td>\n",
              "      <td>Nevada</td>\n",
              "      <td>2.4</td>\n",
              "      <td>NaN</td>\n",
              "    </tr>\n",
              "    <tr>\n",
              "      <th>five</th>\n",
              "      <td>2002</td>\n",
              "      <td>Nevada</td>\n",
              "      <td>2.9</td>\n",
              "      <td>NaN</td>\n",
              "    </tr>\n",
              "    <tr>\n",
              "      <th>six</th>\n",
              "      <td>2003</td>\n",
              "      <td>Nevada</td>\n",
              "      <td>3.2</td>\n",
              "      <td>NaN</td>\n",
              "    </tr>\n",
              "    <tr>\n",
              "      <th>seven</th>\n",
              "      <td>2002</td>\n",
              "      <td>NY</td>\n",
              "      <td>8.3</td>\n",
              "      <td>NaN</td>\n",
              "    </tr>\n",
              "    <tr>\n",
              "      <th>eight</th>\n",
              "      <td>2003</td>\n",
              "      <td>NY</td>\n",
              "      <td>8.4</td>\n",
              "      <td>NaN</td>\n",
              "    </tr>\n",
              "    <tr>\n",
              "      <th>nine</th>\n",
              "      <td>2004</td>\n",
              "      <td>NY</td>\n",
              "      <td>8.5</td>\n",
              "      <td>NaN</td>\n",
              "    </tr>\n",
              "  </tbody>\n",
              "</table>\n",
              "</div>"
            ],
            "text/plain": [
              "       YEAR   STATE  POP DEBT\n",
              "ONE    2000    Ohio  1.5  NaN\n",
              "two    2001    Ohio  1.7  NaN\n",
              "THREE  2002    Ohio  3.6  NaN\n",
              "four   2001  Nevada  2.4  NaN\n",
              "five   2002  Nevada  2.9  NaN\n",
              "six    2003  Nevada  3.2  NaN\n",
              "seven  2002      NY  8.3  NaN\n",
              "eight  2003      NY  8.4  NaN\n",
              "nine   2004      NY  8.5  NaN"
            ]
          },
          "execution_count": 119,
          "metadata": {},
          "output_type": "execute_result"
        }
      ],
      "source": [
        "frame2_renamed = frame2.rename(index={'one':'ONE', 'three':'THREE'},\n",
        "                             columns={'year':'YEAR', 'state':'STATE', 'pop':'POP', 'debt':'DEBT'})\n",
        "frame2_renamed"
      ]
    },
    {
      "cell_type": "markdown",
      "metadata": {
        "id": "k1g885-CatZU"
      },
      "source": [
        "**`in` 연산자**"
      ]
    },
    {
      "cell_type": "markdown",
      "metadata": {
        "id": "L33HDH9batZU"
      },
      "source": [
        "인덱스와 열에 대한 특정 이름의 사용 여부는 `in` 연산자를 이용하여 확인한다."
      ]
    },
    {
      "cell_type": "code",
      "execution_count": 120,
      "metadata": {
        "id": "G6zX03ypatZU",
        "outputId": "80383b01-6304-47c4-b6cd-3ce03c4beb8b"
      },
      "outputs": [
        {
          "data": {
            "text/plain": [
              "True"
            ]
          },
          "execution_count": 120,
          "metadata": {},
          "output_type": "execute_result"
        }
      ],
      "source": [
        "'year' in frame2.columns"
      ]
    },
    {
      "cell_type": "code",
      "execution_count": 121,
      "metadata": {
        "id": "WlMrK1fOatZU",
        "outputId": "659f9929-de8a-475a-eb33-431927edd3e5"
      },
      "outputs": [
        {
          "data": {
            "text/plain": [
              "False"
            ]
          },
          "execution_count": 121,
          "metadata": {},
          "output_type": "execute_result"
        }
      ],
      "source": [
        "'ten' in frame2.index"
      ]
    },
    {
      "cell_type": "markdown",
      "metadata": {
        "id": "IjfVy2KeatZU"
      },
      "source": [
        "**`Index` 객체**"
      ]
    },
    {
      "cell_type": "markdown",
      "metadata": {
        "id": "YPQ00cjDatZU"
      },
      "source": [
        "시리즈와 데이터프레임의 `index` 와 `columns` 속성에\n",
        "저장된 값은 `Index` 객체다."
      ]
    },
    {
      "cell_type": "code",
      "execution_count": 122,
      "metadata": {
        "id": "LV7nufJ8atZU",
        "outputId": "6cd2272a-aee9-4c43-ac1c-f44398fc4542"
      },
      "outputs": [
        {
          "data": {
            "text/plain": [
              "Index(['a', 'b', 'c'], dtype='object')"
            ]
          },
          "execution_count": 122,
          "metadata": {},
          "output_type": "execute_result"
        }
      ],
      "source": [
        "obj = pd.Series(range(3), index=['a', 'b', 'c'])\n",
        "index = obj.index\n",
        "index"
      ]
    },
    {
      "cell_type": "code",
      "execution_count": 123,
      "metadata": {
        "id": "rC-DxEgOatZU",
        "outputId": "4d67a370-c19a-4e83-843f-da23e2739608"
      },
      "outputs": [
        {
          "data": {
            "text/plain": [
              "Index(['Nevada', 'Ohio'], dtype='object', name='state')"
            ]
          },
          "execution_count": 123,
          "metadata": {},
          "output_type": "execute_result"
        }
      ],
      "source": [
        "frame3.columns"
      ]
    },
    {
      "cell_type": "markdown",
      "metadata": {
        "id": "l7fr998KatZU"
      },
      "source": [
        "### 데이터프레임 리인덱싱"
      ]
    },
    {
      "cell_type": "markdown",
      "metadata": {
        "id": "jdngQeSlatZU"
      },
      "source": [
        "`reindex()` 메서드를 이용하여 주어진 데이터프레임의 `index`와 `columns`속성을\n",
        "이용하여 새로운 `Index` 객체를 행과 열의 인덱스로 갖는 새로운 데이터프레임을 생성한다.\n",
        "설명을 위해 아래 데이터프레임을 이용한다."
      ]
    },
    {
      "cell_type": "code",
      "execution_count": 124,
      "metadata": {
        "id": "YxW0-bRVatZU",
        "outputId": "0e9a3c75-da97-4c14-f6ed-dc1953fedac2"
      },
      "outputs": [
        {
          "data": {
            "text/html": [
              "<div>\n",
              "<style scoped>\n",
              "    .dataframe tbody tr th:only-of-type {\n",
              "        vertical-align: middle;\n",
              "    }\n",
              "\n",
              "    .dataframe tbody tr th {\n",
              "        vertical-align: top;\n",
              "    }\n",
              "\n",
              "    .dataframe thead th {\n",
              "        text-align: right;\n",
              "    }\n",
              "</style>\n",
              "<table border=\"1\" class=\"dataframe\">\n",
              "  <thead>\n",
              "    <tr style=\"text-align: right;\">\n",
              "      <th></th>\n",
              "      <th>Ohio</th>\n",
              "      <th>Texas</th>\n",
              "      <th>California</th>\n",
              "    </tr>\n",
              "  </thead>\n",
              "  <tbody>\n",
              "    <tr>\n",
              "      <th>a</th>\n",
              "      <td>0</td>\n",
              "      <td>1</td>\n",
              "      <td>2</td>\n",
              "    </tr>\n",
              "    <tr>\n",
              "      <th>c</th>\n",
              "      <td>3</td>\n",
              "      <td>4</td>\n",
              "      <td>5</td>\n",
              "    </tr>\n",
              "    <tr>\n",
              "      <th>d</th>\n",
              "      <td>6</td>\n",
              "      <td>7</td>\n",
              "      <td>8</td>\n",
              "    </tr>\n",
              "  </tbody>\n",
              "</table>\n",
              "</div>"
            ],
            "text/plain": [
              "   Ohio  Texas  California\n",
              "a     0      1           2\n",
              "c     3      4           5\n",
              "d     6      7           8"
            ]
          },
          "execution_count": 124,
          "metadata": {},
          "output_type": "execute_result"
        }
      ],
      "source": [
        "frame4= pd.DataFrame(np.arange(9).reshape((3, 3)),\n",
        "                     index=['a', 'c', 'd'],\n",
        "                     columns=['Ohio', 'Texas', 'California'])\n",
        "frame4"
      ]
    },
    {
      "cell_type": "markdown",
      "metadata": {
        "id": "fgIbAfeyatZU"
      },
      "source": [
        "`reindex()` 메서드는 기본적으로 행의 `index` 에 대해 작동한다."
      ]
    },
    {
      "cell_type": "code",
      "execution_count": 125,
      "metadata": {
        "id": "V9pwxCUQatZU",
        "outputId": "0999a289-cfe1-46e3-e292-ff52af944723"
      },
      "outputs": [
        {
          "data": {
            "text/html": [
              "<div>\n",
              "<style scoped>\n",
              "    .dataframe tbody tr th:only-of-type {\n",
              "        vertical-align: middle;\n",
              "    }\n",
              "\n",
              "    .dataframe tbody tr th {\n",
              "        vertical-align: top;\n",
              "    }\n",
              "\n",
              "    .dataframe thead th {\n",
              "        text-align: right;\n",
              "    }\n",
              "</style>\n",
              "<table border=\"1\" class=\"dataframe\">\n",
              "  <thead>\n",
              "    <tr style=\"text-align: right;\">\n",
              "      <th></th>\n",
              "      <th>Ohio</th>\n",
              "      <th>Texas</th>\n",
              "      <th>California</th>\n",
              "    </tr>\n",
              "  </thead>\n",
              "  <tbody>\n",
              "    <tr>\n",
              "      <th>a</th>\n",
              "      <td>0.0</td>\n",
              "      <td>1.0</td>\n",
              "      <td>2.0</td>\n",
              "    </tr>\n",
              "    <tr>\n",
              "      <th>b</th>\n",
              "      <td>NaN</td>\n",
              "      <td>NaN</td>\n",
              "      <td>NaN</td>\n",
              "    </tr>\n",
              "    <tr>\n",
              "      <th>c</th>\n",
              "      <td>3.0</td>\n",
              "      <td>4.0</td>\n",
              "      <td>5.0</td>\n",
              "    </tr>\n",
              "    <tr>\n",
              "      <th>d</th>\n",
              "      <td>6.0</td>\n",
              "      <td>7.0</td>\n",
              "      <td>8.0</td>\n",
              "    </tr>\n",
              "  </tbody>\n",
              "</table>\n",
              "</div>"
            ],
            "text/plain": [
              "   Ohio  Texas  California\n",
              "a   0.0    1.0         2.0\n",
              "b   NaN    NaN         NaN\n",
              "c   3.0    4.0         5.0\n",
              "d   6.0    7.0         8.0"
            ]
          },
          "execution_count": 125,
          "metadata": {},
          "output_type": "execute_result"
        }
      ],
      "source": [
        "frame5 = frame4.reindex(['a', 'b', 'c', 'd'])\n",
        "frame5"
      ]
    },
    {
      "cell_type": "markdown",
      "metadata": {
        "id": "oX4iZgciatZU"
      },
      "source": [
        "열의 `columns`에 대해서는 `columns` 키워드 인자를 활용한다."
      ]
    },
    {
      "cell_type": "code",
      "execution_count": 126,
      "metadata": {
        "id": "NmUxyZXYatZU",
        "outputId": "48bb63be-e32f-4a35-8554-197114e7b47b"
      },
      "outputs": [
        {
          "data": {
            "text/html": [
              "<div>\n",
              "<style scoped>\n",
              "    .dataframe tbody tr th:only-of-type {\n",
              "        vertical-align: middle;\n",
              "    }\n",
              "\n",
              "    .dataframe tbody tr th {\n",
              "        vertical-align: top;\n",
              "    }\n",
              "\n",
              "    .dataframe thead th {\n",
              "        text-align: right;\n",
              "    }\n",
              "</style>\n",
              "<table border=\"1\" class=\"dataframe\">\n",
              "  <thead>\n",
              "    <tr style=\"text-align: right;\">\n",
              "      <th></th>\n",
              "      <th>Texas</th>\n",
              "      <th>Utah</th>\n",
              "      <th>California</th>\n",
              "    </tr>\n",
              "  </thead>\n",
              "  <tbody>\n",
              "    <tr>\n",
              "      <th>a</th>\n",
              "      <td>1</td>\n",
              "      <td>NaN</td>\n",
              "      <td>2</td>\n",
              "    </tr>\n",
              "    <tr>\n",
              "      <th>c</th>\n",
              "      <td>4</td>\n",
              "      <td>NaN</td>\n",
              "      <td>5</td>\n",
              "    </tr>\n",
              "    <tr>\n",
              "      <th>d</th>\n",
              "      <td>7</td>\n",
              "      <td>NaN</td>\n",
              "      <td>8</td>\n",
              "    </tr>\n",
              "  </tbody>\n",
              "</table>\n",
              "</div>"
            ],
            "text/plain": [
              "   Texas  Utah  California\n",
              "a      1   NaN           2\n",
              "c      4   NaN           5\n",
              "d      7   NaN           8"
            ]
          },
          "execution_count": 126,
          "metadata": {},
          "output_type": "execute_result"
        }
      ],
      "source": [
        "states = ['Texas', 'Utah', 'California']\n",
        "frame6= frame4.reindex(columns=states)\n",
        "frame6"
      ]
    },
    {
      "cell_type": "markdown",
      "metadata": {
        "id": "KqsSPjjuatZU"
      },
      "source": [
        "행과 열 모두 중복 인덱스 사용이 가능하다."
      ]
    },
    {
      "cell_type": "code",
      "execution_count": 127,
      "metadata": {
        "id": "w4LnHrDnatZU",
        "outputId": "f5f22f95-edb6-4a91-e1bf-db62bc5b6534"
      },
      "outputs": [
        {
          "data": {
            "text/html": [
              "<div>\n",
              "<style scoped>\n",
              "    .dataframe tbody tr th:only-of-type {\n",
              "        vertical-align: middle;\n",
              "    }\n",
              "\n",
              "    .dataframe tbody tr th {\n",
              "        vertical-align: top;\n",
              "    }\n",
              "\n",
              "    .dataframe thead th {\n",
              "        text-align: right;\n",
              "    }\n",
              "</style>\n",
              "<table border=\"1\" class=\"dataframe\">\n",
              "  <thead>\n",
              "    <tr style=\"text-align: right;\">\n",
              "      <th></th>\n",
              "      <th>Ohio</th>\n",
              "      <th>Texas</th>\n",
              "      <th>California</th>\n",
              "    </tr>\n",
              "  </thead>\n",
              "  <tbody>\n",
              "    <tr>\n",
              "      <th>a</th>\n",
              "      <td>0.0</td>\n",
              "      <td>1.0</td>\n",
              "      <td>2.0</td>\n",
              "    </tr>\n",
              "    <tr>\n",
              "      <th>a</th>\n",
              "      <td>0.0</td>\n",
              "      <td>1.0</td>\n",
              "      <td>2.0</td>\n",
              "    </tr>\n",
              "    <tr>\n",
              "      <th>b</th>\n",
              "      <td>NaN</td>\n",
              "      <td>NaN</td>\n",
              "      <td>NaN</td>\n",
              "    </tr>\n",
              "    <tr>\n",
              "      <th>c</th>\n",
              "      <td>3.0</td>\n",
              "      <td>4.0</td>\n",
              "      <td>5.0</td>\n",
              "    </tr>\n",
              "    <tr>\n",
              "      <th>d</th>\n",
              "      <td>6.0</td>\n",
              "      <td>7.0</td>\n",
              "      <td>8.0</td>\n",
              "    </tr>\n",
              "  </tbody>\n",
              "</table>\n",
              "</div>"
            ],
            "text/plain": [
              "   Ohio  Texas  California\n",
              "a   0.0    1.0         2.0\n",
              "a   0.0    1.0         2.0\n",
              "b   NaN    NaN         NaN\n",
              "c   3.0    4.0         5.0\n",
              "d   6.0    7.0         8.0"
            ]
          },
          "execution_count": 127,
          "metadata": {},
          "output_type": "execute_result"
        }
      ],
      "source": [
        "frame7 = frame4.reindex(['a', 'a', 'b', 'c', 'd'])\n",
        "frame7"
      ]
    },
    {
      "cell_type": "code",
      "execution_count": 128,
      "metadata": {
        "id": "wAzLcuJ3atZU",
        "outputId": "8c0d3ddb-6366-446f-d635-f8beaa8098fc"
      },
      "outputs": [
        {
          "data": {
            "text/html": [
              "<div>\n",
              "<style scoped>\n",
              "    .dataframe tbody tr th:only-of-type {\n",
              "        vertical-align: middle;\n",
              "    }\n",
              "\n",
              "    .dataframe tbody tr th {\n",
              "        vertical-align: top;\n",
              "    }\n",
              "\n",
              "    .dataframe thead th {\n",
              "        text-align: right;\n",
              "    }\n",
              "</style>\n",
              "<table border=\"1\" class=\"dataframe\">\n",
              "  <thead>\n",
              "    <tr style=\"text-align: right;\">\n",
              "      <th></th>\n",
              "      <th>Texas</th>\n",
              "      <th>Utah</th>\n",
              "      <th>California</th>\n",
              "      <th>California</th>\n",
              "    </tr>\n",
              "  </thead>\n",
              "  <tbody>\n",
              "    <tr>\n",
              "      <th>a</th>\n",
              "      <td>1.0</td>\n",
              "      <td>NaN</td>\n",
              "      <td>2.0</td>\n",
              "      <td>2.0</td>\n",
              "    </tr>\n",
              "    <tr>\n",
              "      <th>a</th>\n",
              "      <td>1.0</td>\n",
              "      <td>NaN</td>\n",
              "      <td>2.0</td>\n",
              "      <td>2.0</td>\n",
              "    </tr>\n",
              "    <tr>\n",
              "      <th>c</th>\n",
              "      <td>4.0</td>\n",
              "      <td>NaN</td>\n",
              "      <td>5.0</td>\n",
              "      <td>5.0</td>\n",
              "    </tr>\n",
              "    <tr>\n",
              "      <th>d</th>\n",
              "      <td>7.0</td>\n",
              "      <td>NaN</td>\n",
              "      <td>8.0</td>\n",
              "      <td>8.0</td>\n",
              "    </tr>\n",
              "  </tbody>\n",
              "</table>\n",
              "</div>"
            ],
            "text/plain": [
              "   Texas  Utah  California  California\n",
              "a    1.0   NaN         2.0         2.0\n",
              "a    1.0   NaN         2.0         2.0\n",
              "c    4.0   NaN         5.0         5.0\n",
              "d    7.0   NaN         8.0         8.0"
            ]
          },
          "execution_count": 128,
          "metadata": {},
          "output_type": "execute_result"
        }
      ],
      "source": [
        "states = ['Texas', 'Utah', 'California', 'California']\n",
        "frame8 = frame4.reindex(index=['a', 'a', 'c', 'd'], columns=states)\n",
        "frame8"
      ]
    },
    {
      "cell_type": "markdown",
      "metadata": {
        "id": "zQbyDGlTatZV"
      },
      "source": [
        "### 데이터프레임 리인덱싱과 결측치"
      ]
    },
    {
      "cell_type": "markdown",
      "metadata": {
        "id": "iaTi64pSatZV"
      },
      "source": [
        "시리즈 리인덱싱의 경우처럼 리인덱싱 과정에서 결측치가 발생할 경우\n",
        "`method` 또는 `fill_value` 키워드 인자를 이용하여 결측치를 지정한 방식 또는\n",
        "지정한 값으로 채울 수 있다.\n",
        "설명을 위해 `frame4`를 이용한다."
      ]
    },
    {
      "cell_type": "code",
      "execution_count": 129,
      "metadata": {
        "id": "KFVdlHgxatZV",
        "outputId": "665e2f23-0560-41f5-db6f-bf7802c338a7"
      },
      "outputs": [
        {
          "data": {
            "text/html": [
              "<div>\n",
              "<style scoped>\n",
              "    .dataframe tbody tr th:only-of-type {\n",
              "        vertical-align: middle;\n",
              "    }\n",
              "\n",
              "    .dataframe tbody tr th {\n",
              "        vertical-align: top;\n",
              "    }\n",
              "\n",
              "    .dataframe thead th {\n",
              "        text-align: right;\n",
              "    }\n",
              "</style>\n",
              "<table border=\"1\" class=\"dataframe\">\n",
              "  <thead>\n",
              "    <tr style=\"text-align: right;\">\n",
              "      <th></th>\n",
              "      <th>Ohio</th>\n",
              "      <th>Texas</th>\n",
              "      <th>California</th>\n",
              "    </tr>\n",
              "  </thead>\n",
              "  <tbody>\n",
              "    <tr>\n",
              "      <th>a</th>\n",
              "      <td>0</td>\n",
              "      <td>1</td>\n",
              "      <td>2</td>\n",
              "    </tr>\n",
              "    <tr>\n",
              "      <th>c</th>\n",
              "      <td>3</td>\n",
              "      <td>4</td>\n",
              "      <td>5</td>\n",
              "    </tr>\n",
              "    <tr>\n",
              "      <th>d</th>\n",
              "      <td>6</td>\n",
              "      <td>7</td>\n",
              "      <td>8</td>\n",
              "    </tr>\n",
              "  </tbody>\n",
              "</table>\n",
              "</div>"
            ],
            "text/plain": [
              "   Ohio  Texas  California\n",
              "a     0      1           2\n",
              "c     3      4           5\n",
              "d     6      7           8"
            ]
          },
          "execution_count": 129,
          "metadata": {},
          "output_type": "execute_result"
        }
      ],
      "source": [
        "frame4"
      ]
    },
    {
      "cell_type": "markdown",
      "metadata": {
        "id": "7UVfLvcKatZV"
      },
      "source": [
        "행 라벨이 정수형이 아니기에 아래 세 종류의 방법으로만 결측치를 채울 수 있음에 주의한다."
      ]
    },
    {
      "cell_type": "markdown",
      "metadata": {
        "id": "j0FrcoEyatZV"
      },
      "source": [
        "- `method=ffill` 활용"
      ]
    },
    {
      "cell_type": "code",
      "execution_count": 130,
      "metadata": {
        "id": "UccoocR4atZV",
        "outputId": "5fa334c7-974e-4acc-d808-a19d63705bd3"
      },
      "outputs": [
        {
          "data": {
            "text/html": [
              "<div>\n",
              "<style scoped>\n",
              "    .dataframe tbody tr th:only-of-type {\n",
              "        vertical-align: middle;\n",
              "    }\n",
              "\n",
              "    .dataframe tbody tr th {\n",
              "        vertical-align: top;\n",
              "    }\n",
              "\n",
              "    .dataframe thead th {\n",
              "        text-align: right;\n",
              "    }\n",
              "</style>\n",
              "<table border=\"1\" class=\"dataframe\">\n",
              "  <thead>\n",
              "    <tr style=\"text-align: right;\">\n",
              "      <th></th>\n",
              "      <th>Ohio</th>\n",
              "      <th>Texas</th>\n",
              "      <th>California</th>\n",
              "    </tr>\n",
              "  </thead>\n",
              "  <tbody>\n",
              "    <tr>\n",
              "      <th>a</th>\n",
              "      <td>0</td>\n",
              "      <td>1</td>\n",
              "      <td>2</td>\n",
              "    </tr>\n",
              "    <tr>\n",
              "      <th>b</th>\n",
              "      <td>0</td>\n",
              "      <td>1</td>\n",
              "      <td>2</td>\n",
              "    </tr>\n",
              "    <tr>\n",
              "      <th>c</th>\n",
              "      <td>3</td>\n",
              "      <td>4</td>\n",
              "      <td>5</td>\n",
              "    </tr>\n",
              "    <tr>\n",
              "      <th>d</th>\n",
              "      <td>6</td>\n",
              "      <td>7</td>\n",
              "      <td>8</td>\n",
              "    </tr>\n",
              "  </tbody>\n",
              "</table>\n",
              "</div>"
            ],
            "text/plain": [
              "   Ohio  Texas  California\n",
              "a     0      1           2\n",
              "b     0      1           2\n",
              "c     3      4           5\n",
              "d     6      7           8"
            ]
          },
          "execution_count": 130,
          "metadata": {},
          "output_type": "execute_result"
        }
      ],
      "source": [
        "frame5 = frame4.reindex(['a', 'b', 'c', 'd'], method='ffill')\n",
        "frame5"
      ]
    },
    {
      "cell_type": "markdown",
      "metadata": {
        "id": "fqAeOp2fatZV"
      },
      "source": [
        "- `method=bfill` 활용"
      ]
    },
    {
      "cell_type": "code",
      "execution_count": 131,
      "metadata": {
        "id": "y1gjXiJQatZV",
        "outputId": "4876dc28-8933-46cc-9c46-8dda20b23436"
      },
      "outputs": [
        {
          "data": {
            "text/html": [
              "<div>\n",
              "<style scoped>\n",
              "    .dataframe tbody tr th:only-of-type {\n",
              "        vertical-align: middle;\n",
              "    }\n",
              "\n",
              "    .dataframe tbody tr th {\n",
              "        vertical-align: top;\n",
              "    }\n",
              "\n",
              "    .dataframe thead th {\n",
              "        text-align: right;\n",
              "    }\n",
              "</style>\n",
              "<table border=\"1\" class=\"dataframe\">\n",
              "  <thead>\n",
              "    <tr style=\"text-align: right;\">\n",
              "      <th></th>\n",
              "      <th>Ohio</th>\n",
              "      <th>Texas</th>\n",
              "      <th>California</th>\n",
              "    </tr>\n",
              "  </thead>\n",
              "  <tbody>\n",
              "    <tr>\n",
              "      <th>a</th>\n",
              "      <td>0</td>\n",
              "      <td>1</td>\n",
              "      <td>2</td>\n",
              "    </tr>\n",
              "    <tr>\n",
              "      <th>b</th>\n",
              "      <td>3</td>\n",
              "      <td>4</td>\n",
              "      <td>5</td>\n",
              "    </tr>\n",
              "    <tr>\n",
              "      <th>c</th>\n",
              "      <td>3</td>\n",
              "      <td>4</td>\n",
              "      <td>5</td>\n",
              "    </tr>\n",
              "    <tr>\n",
              "      <th>d</th>\n",
              "      <td>6</td>\n",
              "      <td>7</td>\n",
              "      <td>8</td>\n",
              "    </tr>\n",
              "  </tbody>\n",
              "</table>\n",
              "</div>"
            ],
            "text/plain": [
              "   Ohio  Texas  California\n",
              "a     0      1           2\n",
              "b     3      4           5\n",
              "c     3      4           5\n",
              "d     6      7           8"
            ]
          },
          "execution_count": 131,
          "metadata": {},
          "output_type": "execute_result"
        }
      ],
      "source": [
        "frame5 = frame4.reindex(['a', 'b', 'c', 'd'], method='bfill')\n",
        "frame5"
      ]
    },
    {
      "cell_type": "markdown",
      "metadata": {
        "id": "lusl4wQUatZV"
      },
      "source": [
        "- `fill_value` 키워드 인자 활용"
      ]
    },
    {
      "cell_type": "code",
      "execution_count": 132,
      "metadata": {
        "id": "PphTC3YAatZV",
        "outputId": "cc2db222-4f50-4f9f-d85e-c9a7031c26d5"
      },
      "outputs": [
        {
          "data": {
            "text/html": [
              "<div>\n",
              "<style scoped>\n",
              "    .dataframe tbody tr th:only-of-type {\n",
              "        vertical-align: middle;\n",
              "    }\n",
              "\n",
              "    .dataframe tbody tr th {\n",
              "        vertical-align: top;\n",
              "    }\n",
              "\n",
              "    .dataframe thead th {\n",
              "        text-align: right;\n",
              "    }\n",
              "</style>\n",
              "<table border=\"1\" class=\"dataframe\">\n",
              "  <thead>\n",
              "    <tr style=\"text-align: right;\">\n",
              "      <th></th>\n",
              "      <th>Texas</th>\n",
              "      <th>Utah</th>\n",
              "      <th>California</th>\n",
              "    </tr>\n",
              "  </thead>\n",
              "  <tbody>\n",
              "    <tr>\n",
              "      <th>a</th>\n",
              "      <td>1</td>\n",
              "      <td>No Info</td>\n",
              "      <td>2</td>\n",
              "    </tr>\n",
              "    <tr>\n",
              "      <th>c</th>\n",
              "      <td>4</td>\n",
              "      <td>No Info</td>\n",
              "      <td>5</td>\n",
              "    </tr>\n",
              "    <tr>\n",
              "      <th>d</th>\n",
              "      <td>7</td>\n",
              "      <td>No Info</td>\n",
              "      <td>8</td>\n",
              "    </tr>\n",
              "  </tbody>\n",
              "</table>\n",
              "</div>"
            ],
            "text/plain": [
              "   Texas     Utah  California\n",
              "a      1  No Info           2\n",
              "c      4  No Info           5\n",
              "d      7  No Info           8"
            ]
          },
          "execution_count": 132,
          "metadata": {},
          "output_type": "execute_result"
        }
      ],
      "source": [
        "states = ['Texas', 'Utah', 'California']\n",
        "frame6= frame4.reindex(columns=states, fill_value=\"No Info\")\n",
        "frame6"
      ]
    },
    {
      "cell_type": "markdown",
      "metadata": {
        "id": "VZqsO3_HatZV"
      },
      "source": [
        "### 인덱스 초기화: `reset_index()` 메서드"
      ]
    },
    {
      "cell_type": "markdown",
      "metadata": {
        "id": "o2E_ZzXjatZV"
      },
      "source": [
        "데이터프레임의 행을 삭제거나 정렬한 후에 인덱스를 재설정할 때 `reset_index()` 메서드를 활용한다.\n",
        "예를 들어 `frame4`는 `b` 라벨이 없다."
      ]
    },
    {
      "cell_type": "code",
      "execution_count": 133,
      "metadata": {
        "id": "r9tnoHsCatZV",
        "outputId": "fc319b2c-80d4-48d8-d1b4-cfef5f9e27f5"
      },
      "outputs": [
        {
          "data": {
            "text/html": [
              "<div>\n",
              "<style scoped>\n",
              "    .dataframe tbody tr th:only-of-type {\n",
              "        vertical-align: middle;\n",
              "    }\n",
              "\n",
              "    .dataframe tbody tr th {\n",
              "        vertical-align: top;\n",
              "    }\n",
              "\n",
              "    .dataframe thead th {\n",
              "        text-align: right;\n",
              "    }\n",
              "</style>\n",
              "<table border=\"1\" class=\"dataframe\">\n",
              "  <thead>\n",
              "    <tr style=\"text-align: right;\">\n",
              "      <th></th>\n",
              "      <th>Ohio</th>\n",
              "      <th>Texas</th>\n",
              "      <th>California</th>\n",
              "    </tr>\n",
              "  </thead>\n",
              "  <tbody>\n",
              "    <tr>\n",
              "      <th>a</th>\n",
              "      <td>0</td>\n",
              "      <td>1</td>\n",
              "      <td>2</td>\n",
              "    </tr>\n",
              "    <tr>\n",
              "      <th>c</th>\n",
              "      <td>3</td>\n",
              "      <td>4</td>\n",
              "      <td>5</td>\n",
              "    </tr>\n",
              "    <tr>\n",
              "      <th>d</th>\n",
              "      <td>6</td>\n",
              "      <td>7</td>\n",
              "      <td>8</td>\n",
              "    </tr>\n",
              "  </tbody>\n",
              "</table>\n",
              "</div>"
            ],
            "text/plain": [
              "   Ohio  Texas  California\n",
              "a     0      1           2\n",
              "c     3      4           5\n",
              "d     6      7           8"
            ]
          },
          "execution_count": 133,
          "metadata": {},
          "output_type": "execute_result"
        }
      ],
      "source": [
        "frame4"
      ]
    },
    {
      "cell_type": "markdown",
      "metadata": {
        "id": "YySwuRAgatZV"
      },
      "source": [
        "이런 경우 인덱스 라벨의 연속성을 위해 0, 1, 2 등으로 행의 순서를 정해줄 수도 있다.\n",
        "`reset_index()` 메서드를 적용하면 행의 라벨은 하나의 열로 지정된다."
      ]
    },
    {
      "cell_type": "code",
      "execution_count": 134,
      "metadata": {
        "id": "rdZwdcFwatZV",
        "outputId": "30b9ce3c-5225-40e0-fbb7-45b2261a2ac7"
      },
      "outputs": [
        {
          "data": {
            "text/html": [
              "<div>\n",
              "<style scoped>\n",
              "    .dataframe tbody tr th:only-of-type {\n",
              "        vertical-align: middle;\n",
              "    }\n",
              "\n",
              "    .dataframe tbody tr th {\n",
              "        vertical-align: top;\n",
              "    }\n",
              "\n",
              "    .dataframe thead th {\n",
              "        text-align: right;\n",
              "    }\n",
              "</style>\n",
              "<table border=\"1\" class=\"dataframe\">\n",
              "  <thead>\n",
              "    <tr style=\"text-align: right;\">\n",
              "      <th></th>\n",
              "      <th>index</th>\n",
              "      <th>Ohio</th>\n",
              "      <th>Texas</th>\n",
              "      <th>California</th>\n",
              "    </tr>\n",
              "  </thead>\n",
              "  <tbody>\n",
              "    <tr>\n",
              "      <th>0</th>\n",
              "      <td>a</td>\n",
              "      <td>0</td>\n",
              "      <td>1</td>\n",
              "      <td>2</td>\n",
              "    </tr>\n",
              "    <tr>\n",
              "      <th>1</th>\n",
              "      <td>c</td>\n",
              "      <td>3</td>\n",
              "      <td>4</td>\n",
              "      <td>5</td>\n",
              "    </tr>\n",
              "    <tr>\n",
              "      <th>2</th>\n",
              "      <td>d</td>\n",
              "      <td>6</td>\n",
              "      <td>7</td>\n",
              "      <td>8</td>\n",
              "    </tr>\n",
              "  </tbody>\n",
              "</table>\n",
              "</div>"
            ],
            "text/plain": [
              "  index  Ohio  Texas  California\n",
              "0     a     0      1           2\n",
              "1     c     3      4           5\n",
              "2     d     6      7           8"
            ]
          },
          "execution_count": 134,
          "metadata": {},
          "output_type": "execute_result"
        }
      ],
      "source": [
        "frame9 = frame4.reset_index()\n",
        "frame9"
      ]
    },
    {
      "cell_type": "markdown",
      "metadata": {
        "id": "xFQM8NxNatZV"
      },
      "source": [
        "`drop=True` 키워드 인자를 활용하면 사용되었던 행 라벨 인덱스를 버린다."
      ]
    },
    {
      "cell_type": "code",
      "execution_count": 135,
      "metadata": {
        "id": "tAH_co5qatZV",
        "outputId": "2c8940fc-0caf-4b3f-f2d6-72c0073fba46"
      },
      "outputs": [
        {
          "data": {
            "text/html": [
              "<div>\n",
              "<style scoped>\n",
              "    .dataframe tbody tr th:only-of-type {\n",
              "        vertical-align: middle;\n",
              "    }\n",
              "\n",
              "    .dataframe tbody tr th {\n",
              "        vertical-align: top;\n",
              "    }\n",
              "\n",
              "    .dataframe thead th {\n",
              "        text-align: right;\n",
              "    }\n",
              "</style>\n",
              "<table border=\"1\" class=\"dataframe\">\n",
              "  <thead>\n",
              "    <tr style=\"text-align: right;\">\n",
              "      <th></th>\n",
              "      <th>Ohio</th>\n",
              "      <th>Texas</th>\n",
              "      <th>California</th>\n",
              "    </tr>\n",
              "  </thead>\n",
              "  <tbody>\n",
              "    <tr>\n",
              "      <th>0</th>\n",
              "      <td>0</td>\n",
              "      <td>1</td>\n",
              "      <td>2</td>\n",
              "    </tr>\n",
              "    <tr>\n",
              "      <th>1</th>\n",
              "      <td>3</td>\n",
              "      <td>4</td>\n",
              "      <td>5</td>\n",
              "    </tr>\n",
              "    <tr>\n",
              "      <th>2</th>\n",
              "      <td>6</td>\n",
              "      <td>7</td>\n",
              "      <td>8</td>\n",
              "    </tr>\n",
              "  </tbody>\n",
              "</table>\n",
              "</div>"
            ],
            "text/plain": [
              "   Ohio  Texas  California\n",
              "0     0      1           2\n",
              "1     3      4           5\n",
              "2     6      7           8"
            ]
          },
          "execution_count": 135,
          "metadata": {},
          "output_type": "execute_result"
        }
      ],
      "source": [
        "frame10 = frame4.reset_index(drop=True)\n",
        "frame10"
      ]
    },
    {
      "cell_type": "markdown",
      "metadata": {
        "id": "_eNG0cphLtfN"
      },
      "source": [
        "## 문자열 메서드 활용"
      ]
    },
    {
      "cell_type": "markdown",
      "metadata": {
        "id": "t-RmuGbsatZV"
      },
      "source": [
        "시리즈와 `Index` 자료형은 `str` 속성을 이용하여 각각의 항목을 문자열로 변환하여 문자열 메서드를 적용해서\n",
        "새로운 시리즈와 `Index` 자료형을 생성하는 기능을 제공한다."
      ]
    },
    {
      "cell_type": "markdown",
      "metadata": {
        "id": "3n4Z8ZtOatZV"
      },
      "source": [
        "**시리즈에 문자열 메서드 적용**"
      ]
    },
    {
      "cell_type": "markdown",
      "metadata": {
        "id": "E-A3NH_gatZV"
      },
      "source": [
        "`str` 속성은 모든 항목을 문자열로 변환한 벡터를 가리킨다."
      ]
    },
    {
      "cell_type": "code",
      "execution_count": 136,
      "metadata": {
        "colab": {
          "base_uri": "https://localhost:8080/"
        },
        "id": "ci--jcmwL_na",
        "outputId": "2a0d2696-bc07-48ab-e5f6-06fcd886eee9"
      },
      "outputs": [
        {
          "data": {
            "text/plain": [
              "<pandas.core.strings.accessor.StringMethods at 0x10b35fca0>"
            ]
          },
          "execution_count": 136,
          "metadata": {},
          "output_type": "execute_result"
        }
      ],
      "source": [
        "s = pd.Series([\"A\", \"B\", \"C\", \"Aaba\", \"Baca\", np.nan, \"CABA\", \"dog\", \"cat\"])\n",
        "s.str"
      ]
    },
    {
      "cell_type": "markdown",
      "metadata": {
        "id": "_SFjTtaxatZW"
      },
      "source": [
        "변환된 벡터에 문자열 메서드를 적용하면 새로운 시리즈가 생성된다."
      ]
    },
    {
      "cell_type": "code",
      "execution_count": 137,
      "metadata": {
        "colab": {
          "base_uri": "https://localhost:8080/"
        },
        "id": "fYO3LVwnatZW",
        "outputId": "2a0d2696-bc07-48ab-e5f6-06fcd886eee9"
      },
      "outputs": [
        {
          "data": {
            "text/plain": [
              "0       a\n",
              "1       b\n",
              "2       c\n",
              "3    aaba\n",
              "4    baca\n",
              "5     NaN\n",
              "6    caba\n",
              "7     dog\n",
              "8     cat\n",
              "dtype: object"
            ]
          },
          "execution_count": 137,
          "metadata": {},
          "output_type": "execute_result"
        }
      ],
      "source": [
        "s.str.lower()"
      ]
    },
    {
      "cell_type": "markdown",
      "metadata": {
        "id": "r3m_YNfPatZW"
      },
      "source": [
        "**`Index` 자료형에 문자열 메서드 적용**"
      ]
    },
    {
      "cell_type": "markdown",
      "metadata": {
        "id": "8AzgWdXMatZW"
      },
      "source": [
        "아래 데이터프레임을 이용한다."
      ]
    },
    {
      "cell_type": "code",
      "execution_count": 138,
      "metadata": {
        "id": "286V2eEeatZW",
        "outputId": "edd61a09-4c08-4890-f444-2dca5ef1ec01"
      },
      "outputs": [
        {
          "data": {
            "text/html": [
              "<div>\n",
              "<style scoped>\n",
              "    .dataframe tbody tr th:only-of-type {\n",
              "        vertical-align: middle;\n",
              "    }\n",
              "\n",
              "    .dataframe tbody tr th {\n",
              "        vertical-align: top;\n",
              "    }\n",
              "\n",
              "    .dataframe thead th {\n",
              "        text-align: right;\n",
              "    }\n",
              "</style>\n",
              "<table border=\"1\" class=\"dataframe\">\n",
              "  <thead>\n",
              "    <tr style=\"text-align: right;\">\n",
              "      <th></th>\n",
              "      <th>Column A</th>\n",
              "      <th>Column B</th>\n",
              "    </tr>\n",
              "  </thead>\n",
              "  <tbody>\n",
              "    <tr>\n",
              "      <th>0</th>\n",
              "      <td>-0.204708</td>\n",
              "      <td>0.478943</td>\n",
              "    </tr>\n",
              "    <tr>\n",
              "      <th>1</th>\n",
              "      <td>-0.519439</td>\n",
              "      <td>-0.555730</td>\n",
              "    </tr>\n",
              "    <tr>\n",
              "      <th>2</th>\n",
              "      <td>1.965781</td>\n",
              "      <td>1.393406</td>\n",
              "    </tr>\n",
              "  </tbody>\n",
              "</table>\n",
              "</div>"
            ],
            "text/plain": [
              "   Column A   Column B \n",
              "0  -0.204708   0.478943\n",
              "1  -0.519439  -0.555730\n",
              "2   1.965781   1.393406"
            ]
          },
          "execution_count": 138,
          "metadata": {},
          "output_type": "execute_result"
        }
      ],
      "source": [
        "df = pd.DataFrame(np.random.randn(3, 2), columns=[\" Column A \", \" Column B \"], index=range(3))\n",
        "df"
      ]
    },
    {
      "cell_type": "markdown",
      "metadata": {
        "id": "WuLFPKMUatZW"
      },
      "source": [
        "열 라벨 인덱스에 대해 문자열 메서드를 적용해보자."
      ]
    },
    {
      "cell_type": "markdown",
      "metadata": {
        "id": "RGUnclXRatZW"
      },
      "source": [
        "- 소문자화"
      ]
    },
    {
      "cell_type": "code",
      "execution_count": 139,
      "metadata": {
        "id": "OSYYaYrIatZW",
        "outputId": "50e9be26-9f8e-42fb-9a31-da293c6af163"
      },
      "outputs": [
        {
          "data": {
            "text/plain": [
              "Index([' column a ', ' column b '], dtype='object')"
            ]
          },
          "execution_count": 139,
          "metadata": {},
          "output_type": "execute_result"
        }
      ],
      "source": [
        "df.columns.str.lower()"
      ]
    },
    {
      "cell_type": "markdown",
      "metadata": {
        "id": "AR-7-66DatZW"
      },
      "source": [
        "- 양끝의 공백 제거"
      ]
    },
    {
      "cell_type": "code",
      "execution_count": 140,
      "metadata": {
        "id": "lxTgFmSXatZW",
        "outputId": "a817fe23-a51b-4f78-e555-c30d179ae875"
      },
      "outputs": [
        {
          "data": {
            "text/plain": [
              "Index(['column a', 'column b'], dtype='object')"
            ]
          },
          "execution_count": 140,
          "metadata": {},
          "output_type": "execute_result"
        }
      ],
      "source": [
        "df.columns.str.lower().str.strip()"
      ]
    },
    {
      "cell_type": "markdown",
      "metadata": {
        "id": "nX6aCFivatZW"
      },
      "source": [
        "- 중간에 위치한 공백을 밑줄(underscore)로 대체"
      ]
    },
    {
      "cell_type": "code",
      "execution_count": 141,
      "metadata": {
        "id": "j6vBVLVtatZW",
        "outputId": "979a5c37-395b-4fb9-c03a-5045f957b421"
      },
      "outputs": [
        {
          "data": {
            "text/plain": [
              "Index(['column_a', 'column_b'], dtype='object')"
            ]
          },
          "execution_count": 141,
          "metadata": {},
          "output_type": "execute_result"
        }
      ],
      "source": [
        "df.columns.str.strip().str.lower().str.replace(\" \", \"_\")"
      ]
    },
    {
      "cell_type": "markdown",
      "metadata": {
        "id": "U0Fcp5oAatZW"
      },
      "source": [
        "열 라벨을 소문자로는 변경하지 않으면서 모든 공백을 제거해보자."
      ]
    },
    {
      "cell_type": "code",
      "execution_count": 142,
      "metadata": {
        "id": "tzPVtJ5NatZW",
        "outputId": "3ee7bc4e-aa30-4a19-f5f6-7680e762a584"
      },
      "outputs": [
        {
          "data": {
            "text/plain": [
              "Index(['Column_A', 'Column_B'], dtype='object')"
            ]
          },
          "execution_count": 142,
          "metadata": {},
          "output_type": "execute_result"
        }
      ],
      "source": [
        "columns1 = df.columns.str.strip().str.replace(\" \", \"_\")\n",
        "columns1"
      ]
    },
    {
      "cell_type": "code",
      "execution_count": 143,
      "metadata": {
        "id": "HfTuFJz6atZW",
        "outputId": "a8ce2546-2c15-4f01-c5ec-9bb429027ca0"
      },
      "outputs": [
        {
          "data": {
            "text/html": [
              "<div>\n",
              "<style scoped>\n",
              "    .dataframe tbody tr th:only-of-type {\n",
              "        vertical-align: middle;\n",
              "    }\n",
              "\n",
              "    .dataframe tbody tr th {\n",
              "        vertical-align: top;\n",
              "    }\n",
              "\n",
              "    .dataframe thead th {\n",
              "        text-align: right;\n",
              "    }\n",
              "</style>\n",
              "<table border=\"1\" class=\"dataframe\">\n",
              "  <thead>\n",
              "    <tr style=\"text-align: right;\">\n",
              "      <th></th>\n",
              "      <th>Column_A</th>\n",
              "      <th>Column_B</th>\n",
              "    </tr>\n",
              "  </thead>\n",
              "  <tbody>\n",
              "    <tr>\n",
              "      <th>0</th>\n",
              "      <td>-0.204708</td>\n",
              "      <td>0.478943</td>\n",
              "    </tr>\n",
              "    <tr>\n",
              "      <th>1</th>\n",
              "      <td>-0.519439</td>\n",
              "      <td>-0.555730</td>\n",
              "    </tr>\n",
              "    <tr>\n",
              "      <th>2</th>\n",
              "      <td>1.965781</td>\n",
              "      <td>1.393406</td>\n",
              "    </tr>\n",
              "  </tbody>\n",
              "</table>\n",
              "</div>"
            ],
            "text/plain": [
              "   Column_A  Column_B\n",
              "0 -0.204708  0.478943\n",
              "1 -0.519439 -0.555730\n",
              "2  1.965781  1.393406"
            ]
          },
          "execution_count": 143,
          "metadata": {},
          "output_type": "execute_result"
        }
      ],
      "source": [
        "df.columns=columns1\n",
        "df"
      ]
    },
    {
      "cell_type": "markdown",
      "metadata": {
        "id": "AqN2l5fZ8My7"
      },
      "source": [
        "## 데이터셋 불러오기와 저장하기"
      ]
    },
    {
      "cell_type": "markdown",
      "metadata": {
        "id": "Wf4VLZVv8RXZ"
      },
      "source": [
        "**csv 파일로 저장하기**"
      ]
    },
    {
      "cell_type": "code",
      "execution_count": 144,
      "metadata": {
        "id": "cVJnX0hl8enJ"
      },
      "outputs": [],
      "source": [
        "frame2.to_csv(\"frame2.csv\")"
      ]
    },
    {
      "cell_type": "markdown",
      "metadata": {
        "id": "TMCr17-zatZW"
      },
      "source": [
        "**csv 파일 불러오기**"
      ]
    },
    {
      "cell_type": "code",
      "execution_count": 145,
      "metadata": {
        "colab": {
          "base_uri": "https://localhost:8080/",
          "height": 424
        },
        "id": "CQIQtl8g8xWx",
        "outputId": "f9b04636-f01e-4ebd-fbfd-47f520794a89"
      },
      "outputs": [
        {
          "data": {
            "text/html": [
              "<div>\n",
              "<style scoped>\n",
              "    .dataframe tbody tr th:only-of-type {\n",
              "        vertical-align: middle;\n",
              "    }\n",
              "\n",
              "    .dataframe tbody tr th {\n",
              "        vertical-align: top;\n",
              "    }\n",
              "\n",
              "    .dataframe thead th {\n",
              "        text-align: right;\n",
              "    }\n",
              "</style>\n",
              "<table border=\"1\" class=\"dataframe\">\n",
              "  <thead>\n",
              "    <tr style=\"text-align: right;\">\n",
              "      <th></th>\n",
              "      <th>Unnamed: 0</th>\n",
              "      <th>year</th>\n",
              "      <th>state</th>\n",
              "      <th>pop</th>\n",
              "      <th>debt</th>\n",
              "    </tr>\n",
              "  </thead>\n",
              "  <tbody>\n",
              "    <tr>\n",
              "      <th>0</th>\n",
              "      <td>one</td>\n",
              "      <td>2000</td>\n",
              "      <td>Ohio</td>\n",
              "      <td>1.5</td>\n",
              "      <td>NaN</td>\n",
              "    </tr>\n",
              "    <tr>\n",
              "      <th>1</th>\n",
              "      <td>two</td>\n",
              "      <td>2001</td>\n",
              "      <td>Ohio</td>\n",
              "      <td>1.7</td>\n",
              "      <td>NaN</td>\n",
              "    </tr>\n",
              "    <tr>\n",
              "      <th>2</th>\n",
              "      <td>three</td>\n",
              "      <td>2002</td>\n",
              "      <td>Ohio</td>\n",
              "      <td>3.6</td>\n",
              "      <td>NaN</td>\n",
              "    </tr>\n",
              "    <tr>\n",
              "      <th>3</th>\n",
              "      <td>four</td>\n",
              "      <td>2001</td>\n",
              "      <td>Nevada</td>\n",
              "      <td>2.4</td>\n",
              "      <td>NaN</td>\n",
              "    </tr>\n",
              "    <tr>\n",
              "      <th>4</th>\n",
              "      <td>five</td>\n",
              "      <td>2002</td>\n",
              "      <td>Nevada</td>\n",
              "      <td>2.9</td>\n",
              "      <td>NaN</td>\n",
              "    </tr>\n",
              "    <tr>\n",
              "      <th>5</th>\n",
              "      <td>six</td>\n",
              "      <td>2003</td>\n",
              "      <td>Nevada</td>\n",
              "      <td>3.2</td>\n",
              "      <td>NaN</td>\n",
              "    </tr>\n",
              "    <tr>\n",
              "      <th>6</th>\n",
              "      <td>seven</td>\n",
              "      <td>2002</td>\n",
              "      <td>NY</td>\n",
              "      <td>8.3</td>\n",
              "      <td>NaN</td>\n",
              "    </tr>\n",
              "    <tr>\n",
              "      <th>7</th>\n",
              "      <td>eight</td>\n",
              "      <td>2003</td>\n",
              "      <td>NY</td>\n",
              "      <td>8.4</td>\n",
              "      <td>NaN</td>\n",
              "    </tr>\n",
              "    <tr>\n",
              "      <th>8</th>\n",
              "      <td>nine</td>\n",
              "      <td>2004</td>\n",
              "      <td>NY</td>\n",
              "      <td>8.5</td>\n",
              "      <td>NaN</td>\n",
              "    </tr>\n",
              "  </tbody>\n",
              "</table>\n",
              "</div>"
            ],
            "text/plain": [
              "  Unnamed: 0  year   state  pop  debt\n",
              "0        one  2000    Ohio  1.5   NaN\n",
              "1        two  2001    Ohio  1.7   NaN\n",
              "2      three  2002    Ohio  3.6   NaN\n",
              "3       four  2001  Nevada  2.4   NaN\n",
              "4       five  2002  Nevada  2.9   NaN\n",
              "5        six  2003  Nevada  3.2   NaN\n",
              "6      seven  2002      NY  8.3   NaN\n",
              "7      eight  2003      NY  8.4   NaN\n",
              "8       nine  2004      NY  8.5   NaN"
            ]
          },
          "execution_count": 145,
          "metadata": {},
          "output_type": "execute_result"
        }
      ],
      "source": [
        "pd.read_csv(\"frame2.csv\")"
      ]
    },
    {
      "cell_type": "markdown",
      "metadata": {
        "id": "Bcavnk7FatZW"
      },
      "source": [
        "**엑셀 파일로 저장하기**"
      ]
    },
    {
      "cell_type": "code",
      "execution_count": 147,
      "metadata": {},
      "outputs": [
        {
          "name": "stdout",
          "output_type": "stream",
          "text": [
            "Defaulting to user installation because normal site-packages is not writeable\n",
            "Collecting openpyxl\n",
            "  Downloading openpyxl-3.1.5-py2.py3-none-any.whl.metadata (2.5 kB)\n",
            "Collecting et-xmlfile (from openpyxl)\n",
            "  Downloading et_xmlfile-2.0.0-py3-none-any.whl.metadata (2.7 kB)\n",
            "Downloading openpyxl-3.1.5-py2.py3-none-any.whl (250 kB)\n",
            "Downloading et_xmlfile-2.0.0-py3-none-any.whl (18 kB)\n",
            "Installing collected packages: et-xmlfile, openpyxl\n",
            "Successfully installed et-xmlfile-2.0.0 openpyxl-3.1.5\n",
            "Note: you may need to restart the kernel to use updated packages.\n"
          ]
        }
      ],
      "source": [
        "%pip install openpyxl"
      ]
    },
    {
      "cell_type": "code",
      "execution_count": 148,
      "metadata": {
        "id": "O0jdwLa89meJ"
      },
      "outputs": [],
      "source": [
        "frame2.to_excel(\"frame2.xlsx\", sheet_name=\"Sheet1\")"
      ]
    },
    {
      "cell_type": "markdown",
      "metadata": {
        "id": "pet3eBkQatZW"
      },
      "source": [
        "**엑셀 파일 불러오기**"
      ]
    },
    {
      "cell_type": "code",
      "execution_count": 149,
      "metadata": {
        "colab": {
          "base_uri": "https://localhost:8080/",
          "height": 424
        },
        "id": "HGo5hOyf9wZA",
        "outputId": "64aac6e7-f11c-4c9e-fb82-5016a607c10f"
      },
      "outputs": [
        {
          "data": {
            "text/html": [
              "<div>\n",
              "<style scoped>\n",
              "    .dataframe tbody tr th:only-of-type {\n",
              "        vertical-align: middle;\n",
              "    }\n",
              "\n",
              "    .dataframe tbody tr th {\n",
              "        vertical-align: top;\n",
              "    }\n",
              "\n",
              "    .dataframe thead th {\n",
              "        text-align: right;\n",
              "    }\n",
              "</style>\n",
              "<table border=\"1\" class=\"dataframe\">\n",
              "  <thead>\n",
              "    <tr style=\"text-align: right;\">\n",
              "      <th></th>\n",
              "      <th>Unnamed: 0</th>\n",
              "      <th>year</th>\n",
              "      <th>state</th>\n",
              "      <th>pop</th>\n",
              "      <th>debt</th>\n",
              "    </tr>\n",
              "  </thead>\n",
              "  <tbody>\n",
              "    <tr>\n",
              "      <th>0</th>\n",
              "      <td>one</td>\n",
              "      <td>2000</td>\n",
              "      <td>Ohio</td>\n",
              "      <td>1.5</td>\n",
              "      <td>NaN</td>\n",
              "    </tr>\n",
              "    <tr>\n",
              "      <th>1</th>\n",
              "      <td>two</td>\n",
              "      <td>2001</td>\n",
              "      <td>Ohio</td>\n",
              "      <td>1.7</td>\n",
              "      <td>NaN</td>\n",
              "    </tr>\n",
              "    <tr>\n",
              "      <th>2</th>\n",
              "      <td>three</td>\n",
              "      <td>2002</td>\n",
              "      <td>Ohio</td>\n",
              "      <td>3.6</td>\n",
              "      <td>NaN</td>\n",
              "    </tr>\n",
              "    <tr>\n",
              "      <th>3</th>\n",
              "      <td>four</td>\n",
              "      <td>2001</td>\n",
              "      <td>Nevada</td>\n",
              "      <td>2.4</td>\n",
              "      <td>NaN</td>\n",
              "    </tr>\n",
              "    <tr>\n",
              "      <th>4</th>\n",
              "      <td>five</td>\n",
              "      <td>2002</td>\n",
              "      <td>Nevada</td>\n",
              "      <td>2.9</td>\n",
              "      <td>NaN</td>\n",
              "    </tr>\n",
              "    <tr>\n",
              "      <th>5</th>\n",
              "      <td>six</td>\n",
              "      <td>2003</td>\n",
              "      <td>Nevada</td>\n",
              "      <td>3.2</td>\n",
              "      <td>NaN</td>\n",
              "    </tr>\n",
              "    <tr>\n",
              "      <th>6</th>\n",
              "      <td>seven</td>\n",
              "      <td>2002</td>\n",
              "      <td>NY</td>\n",
              "      <td>8.3</td>\n",
              "      <td>NaN</td>\n",
              "    </tr>\n",
              "    <tr>\n",
              "      <th>7</th>\n",
              "      <td>eight</td>\n",
              "      <td>2003</td>\n",
              "      <td>NY</td>\n",
              "      <td>8.4</td>\n",
              "      <td>NaN</td>\n",
              "    </tr>\n",
              "    <tr>\n",
              "      <th>8</th>\n",
              "      <td>nine</td>\n",
              "      <td>2004</td>\n",
              "      <td>NY</td>\n",
              "      <td>8.5</td>\n",
              "      <td>NaN</td>\n",
              "    </tr>\n",
              "  </tbody>\n",
              "</table>\n",
              "</div>"
            ],
            "text/plain": [
              "  Unnamed: 0  year   state  pop  debt\n",
              "0        one  2000    Ohio  1.5   NaN\n",
              "1        two  2001    Ohio  1.7   NaN\n",
              "2      three  2002    Ohio  3.6   NaN\n",
              "3       four  2001  Nevada  2.4   NaN\n",
              "4       five  2002  Nevada  2.9   NaN\n",
              "5        six  2003  Nevada  3.2   NaN\n",
              "6      seven  2002      NY  8.3   NaN\n",
              "7      eight  2003      NY  8.4   NaN\n",
              "8       nine  2004      NY  8.5   NaN"
            ]
          },
          "execution_count": 149,
          "metadata": {},
          "output_type": "execute_result"
        }
      ],
      "source": [
        "pd.read_excel(\"frame2.xlsx\", \"Sheet1\", index_col=None, na_values=[\"NA\"])"
      ]
    },
    {
      "cell_type": "markdown",
      "metadata": {
        "id": "sJl_TImFatZX"
      },
      "source": [
        "## 연습문제"
      ]
    },
    {
      "cell_type": "markdown",
      "metadata": {
        "id": "aMVh6wXLatZX"
      },
      "source": [
        "참고: [(실습) 판다스 데이터프레임](https://colab.research.google.com/github/codingalzi/datapy/blob/master/practices/practice-pandas_1.ipynb)"
      ]
    }
  ],
  "metadata": {
    "colab": {
      "provenance": []
    },
    "kernelspec": {
      "display_name": "Python 3",
      "language": "python",
      "name": "python3"
    },
    "language_info": {
      "codemirror_mode": {
        "name": "ipython",
        "version": 3
      },
      "file_extension": ".py",
      "mimetype": "text/x-python",
      "name": "python",
      "nbconvert_exporter": "python",
      "pygments_lexer": "ipython3",
      "version": "3.9.6"
    }
  },
  "nbformat": 4,
  "nbformat_minor": 0
}
