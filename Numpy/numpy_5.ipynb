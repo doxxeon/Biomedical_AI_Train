{
  "cells": [
    {
      "cell_type": "markdown",
      "metadata": {
        "id": "KfgIbt1iRT6M"
      },
      "source": [
        "(sec:numpy_5)=\n",
        "# 실전 예제: 붓꽃 데이터 분석"
      ]
    },
    {
      "cell_type": "markdown",
      "metadata": {
        "id": "9U2ArohKRT6P"
      },
      "source": [
        "**주요 내용**\n",
        "\n",
        "- 예제: 그래프 배경색칠\n",
        "- 예제: 붓꽃 데이터셋 분석"
      ]
    },
    {
      "cell_type": "markdown",
      "metadata": {
        "id": "Q8UkBBEJRT6P"
      },
      "source": [
        "**기본 설정**\n",
        "\n",
        "`numpy` 모듈과 시각화 도구 모듈인 `matplotlib.pyplot`에 대한 기본 설정을 지정한다."
      ]
    },
    {
      "cell_type": "code",
      "execution_count": 21,
      "metadata": {
        "id": "wK3psUbjRT6Q"
      },
      "outputs": [],
      "source": [
        "# 넘파이\n",
        "import numpy as np\n",
        "\n",
        "# 램덤 시드\n",
        "np.random.seed(12345)\n",
        "\n",
        "# 어레이 사용되는 부동소수점들의 정확도 지정\n",
        "np.set_printoptions(precision=4, suppress=True)"
      ]
    },
    {
      "cell_type": "code",
      "execution_count": 22,
      "metadata": {
        "id": "EeBDsbYtRT6R"
      },
      "outputs": [],
      "source": [
        "# 파이플롯\n",
        "import matplotlib.pyplot as plt\n",
        "\n",
        "# # 도표 크기 지정\n",
        "# plt.rc('figure', figsize=(10, 6))"
      ]
    },
    {
      "cell_type": "markdown",
      "metadata": {
        "id": "L-f3rmcdRT6R"
      },
      "source": [
        "## 목표"
      ]
    },
    {
      "cell_type": "markdown",
      "metadata": {
        "id": "7awynZKHRT6R"
      },
      "source": [
        "최종적으로 아래와 같은 산점도를 그리려 한다.\n",
        "각각의 점들은 붓꽃(아이리스) 데이터셋에 포함된 150개의 데이터 샘플을 세 개의 품종에 따라 다른 색깔과 모양으로 보여준다.\n",
        "또한 품종을 구분하는 두 개의 직선을 경계로 배경색을 달리한다."
      ]
    },
    {
      "cell_type": "markdown",
      "metadata": {
        "id": "nnXDgiJdRT6R"
      },
      "source": [
        "<p><div align=\"center\"><img src=\"https://raw.githubusercontent.com/codingalzi/datapy/master/jupyter-book//images/iris-classification1.png\" style=\"width:90%;\"></div></p>"
      ]
    },
    {
      "cell_type": "markdown",
      "metadata": {
        "id": "sBT6RLO_RT6R"
      },
      "source": [
        "먼저 배경을 색칠하는 방법을 알아본다."
      ]
    },
    {
      "cell_type": "markdown",
      "metadata": {
        "id": "W6c97bWaRT6S"
      },
      "source": [
        "## 그래프 배경 색칠"
      ]
    },
    {
      "cell_type": "markdown",
      "metadata": {
        "id": "4BfBbdQQRT6S"
      },
      "source": [
        "그래프 배경으르 그리는 방법은 아래와 같은 격자 무늬에 사용되는 점들을\n",
        "2차원 어레이를 이용하여 사람의 눈으로 구분할 수 없을 정도로 촘촘하게 그리는 것이다."
      ]
    },
    {
      "cell_type": "markdown",
      "metadata": {
        "id": "YqglE7I5RT6S"
      },
      "source": [
        "### 2차원 격자 어레이"
      ]
    },
    {
      "cell_type": "markdown",
      "metadata": {
        "id": "3JOWmAGMRT6S"
      },
      "source": [
        "아래 모양의 회색 격자무늬를 그리기 위해 필요한 2차원 어레이를 생성하고자 한다.\n",
        "각 점의 좌표는 -1과 1사이의 값을 10개의 구간으로 균등하게 나눈 값들이다.\n",
        "즉, 가로 세로 모두 11개의 점으로 구성된다."
      ]
    },
    {
      "cell_type": "markdown",
      "metadata": {
        "id": "7AhAvs2ZRT6S"
      },
      "source": [
        "<div align=\"center\"><img src=\"https://raw.githubusercontent.com/codingalzi/datapy/master/jupyter-book//images/meshgrid10x10.png\" style=\"width:350px;\"></div>"
      ]
    },
    {
      "cell_type": "markdown",
      "metadata": {
        "id": "PGeIDtzVRT6S"
      },
      "source": [
        "먼저 `np.arange()` 함수를 이용하여 -1와 1 사이의 구간을 10개의 구간으로 균등하게\n",
        "나누는 어레이를 생성하려면\n",
        "아래에서 처럼 -1에서 1.01 이전까지 0.2 스텝으로 증가하는 값들로 이루어진 어레이를 생성하면 된다."
      ]
    },
    {
      "cell_type": "code",
      "execution_count": 23,
      "metadata": {
        "id": "hZzjgZ91RT6T",
        "outputId": "c6e3c945-50f4-4d7b-f5f6-0af56946098e"
      },
      "outputs": [
        {
          "data": {
            "text/plain": [
              "array([-1. , -0.8, -0.6, -0.4, -0.2, -0. ,  0.2,  0.4,  0.6,  0.8,  1. ])"
            ]
          },
          "execution_count": 23,
          "metadata": {},
          "output_type": "execute_result"
        }
      ],
      "source": [
        "points = np.arange(-1, 1.01, 0.2)\n",
        "\n",
        "points"
      ]
    },
    {
      "cell_type": "markdown",
      "metadata": {
        "id": "8UztA4BtRT6T"
      },
      "source": [
        "**`np.meshgrid()` 함수**"
      ]
    },
    {
      "cell_type": "markdown",
      "metadata": {
        "id": "K71fRT9DRT6T"
      },
      "source": [
        "예를 들어 `matplotlib.pyplot` 모듈의 `scatter()` 함수를 이용하여 위 그림에 있는 총 121(= 11 $\\times$ 11)개의 점을\n",
        "산점도로 그리려면 각각 121개의 x-좌표와 y-좌표를 담은 두 개의 리스트가 필요하다.\n",
        "`np.meshgrid()` 함수를 이용하면 손쉽게 두 리스트를 구할 수 있다.\n",
        "\n",
        "`np.meshgrid()` 함수는 지정된 1차원 어레이 두 개를 이용하여 그릴 수 있는 격자무늬의\n",
        "x-좌표 리스트와 y-좌표 리스트를 생성하며\n",
        "아래와 같이 실행한다."
      ]
    },
    {
      "cell_type": "code",
      "execution_count": 24,
      "metadata": {
        "id": "5sL_SNcCRT6T"
      },
      "outputs": [],
      "source": [
        "xs, ys = np.meshgrid(points, points)"
      ]
    },
    {
      "cell_type": "markdown",
      "metadata": {
        "id": "0EX7_l4qRT6U"
      },
      "source": [
        "`xs`는 행별x-좌표를 2차원 어레이로 담고 있다.\n",
        "행별로 x-좌표는 작은 값에서 큰 값으로,\n",
        "행의 순서 또한 작은 값에서 큰 값으로 변한다."
      ]
    },
    {
      "cell_type": "code",
      "execution_count": 25,
      "metadata": {
        "id": "3TpyFTs2RT6U",
        "outputId": "c74919f1-249f-44d3-c77e-f1a8b496e733"
      },
      "outputs": [
        {
          "data": {
            "text/plain": [
              "array([[-1. , -0.8, -0.6, -0.4, -0.2, -0. ,  0.2,  0.4,  0.6,  0.8,  1. ],\n",
              "       [-1. , -0.8, -0.6, -0.4, -0.2, -0. ,  0.2,  0.4,  0.6,  0.8,  1. ],\n",
              "       [-1. , -0.8, -0.6, -0.4, -0.2, -0. ,  0.2,  0.4,  0.6,  0.8,  1. ],\n",
              "       [-1. , -0.8, -0.6, -0.4, -0.2, -0. ,  0.2,  0.4,  0.6,  0.8,  1. ],\n",
              "       [-1. , -0.8, -0.6, -0.4, -0.2, -0. ,  0.2,  0.4,  0.6,  0.8,  1. ],\n",
              "       [-1. , -0.8, -0.6, -0.4, -0.2, -0. ,  0.2,  0.4,  0.6,  0.8,  1. ],\n",
              "       [-1. , -0.8, -0.6, -0.4, -0.2, -0. ,  0.2,  0.4,  0.6,  0.8,  1. ],\n",
              "       [-1. , -0.8, -0.6, -0.4, -0.2, -0. ,  0.2,  0.4,  0.6,  0.8,  1. ],\n",
              "       [-1. , -0.8, -0.6, -0.4, -0.2, -0. ,  0.2,  0.4,  0.6,  0.8,  1. ],\n",
              "       [-1. , -0.8, -0.6, -0.4, -0.2, -0. ,  0.2,  0.4,  0.6,  0.8,  1. ],\n",
              "       [-1. , -0.8, -0.6, -0.4, -0.2, -0. ,  0.2,  0.4,  0.6,  0.8,  1. ]])"
            ]
          },
          "execution_count": 25,
          "metadata": {},
          "output_type": "execute_result"
        }
      ],
      "source": [
        "xs"
      ]
    },
    {
      "cell_type": "markdown",
      "metadata": {
        "id": "Kg2ei6w9RT6U"
      },
      "source": [
        "`ys`는 행별 y-좌표를 2차원 어레이로 담고 있다.\n",
        "행별로 x-좌표는 작은 값에서 큰 값으로,\n",
        "행의 순서 또한 작은 값에서 큰 값으로 변한다."
      ]
    },
    {
      "cell_type": "code",
      "execution_count": 26,
      "metadata": {
        "id": "7zkQu_C_RT6U",
        "outputId": "9b6e07f2-8c69-4fed-a084-5ff01646a015"
      },
      "outputs": [
        {
          "data": {
            "text/plain": [
              "array([[-1. , -1. , -1. , -1. , -1. , -1. , -1. , -1. , -1. , -1. , -1. ],\n",
              "       [-0.8, -0.8, -0.8, -0.8, -0.8, -0.8, -0.8, -0.8, -0.8, -0.8, -0.8],\n",
              "       [-0.6, -0.6, -0.6, -0.6, -0.6, -0.6, -0.6, -0.6, -0.6, -0.6, -0.6],\n",
              "       [-0.4, -0.4, -0.4, -0.4, -0.4, -0.4, -0.4, -0.4, -0.4, -0.4, -0.4],\n",
              "       [-0.2, -0.2, -0.2, -0.2, -0.2, -0.2, -0.2, -0.2, -0.2, -0.2, -0.2],\n",
              "       [-0. , -0. , -0. , -0. , -0. , -0. , -0. , -0. , -0. , -0. , -0. ],\n",
              "       [ 0.2,  0.2,  0.2,  0.2,  0.2,  0.2,  0.2,  0.2,  0.2,  0.2,  0.2],\n",
              "       [ 0.4,  0.4,  0.4,  0.4,  0.4,  0.4,  0.4,  0.4,  0.4,  0.4,  0.4],\n",
              "       [ 0.6,  0.6,  0.6,  0.6,  0.6,  0.6,  0.6,  0.6,  0.6,  0.6,  0.6],\n",
              "       [ 0.8,  0.8,  0.8,  0.8,  0.8,  0.8,  0.8,  0.8,  0.8,  0.8,  0.8],\n",
              "       [ 1. ,  1. ,  1. ,  1. ,  1. ,  1. ,  1. ,  1. ,  1. ,  1. ,  1. ]])"
            ]
          },
          "execution_count": 26,
          "metadata": {},
          "output_type": "execute_result"
        }
      ],
      "source": [
        "ys"
      ]
    },
    {
      "cell_type": "markdown",
      "metadata": {
        "id": "WmDzL1E6RT6U"
      },
      "source": [
        "xs와 ys를 이용하여 산점도를 그리면 원하는 격자무늬가 얻어진다.\n",
        "\n",
        "- `c='darkgray'` 또는 `color='darkgray'`: 산점도에 사용되는 점들의 색상 지정.\n",
        "    여기서는 darkgray 사용.\n",
        "    보다 다양한 색상 정보는 [Matplotlib Scatter](https://www.w3schools.com/python/matplotlib_scatter.asp) 참고."
      ]
    },
    {
      "cell_type": "code",
      "execution_count": 27,
      "metadata": {
        "id": "sNzP3LKIRT6U",
        "outputId": "ce78a49b-0f60-4e8c-9863-b2089a88360a"
      },
      "outputs": [
        {
          "data": {
            "image/png": "[encoded data removed]",
            "text/plain": [
              "<Figure size 500x500 with 1 Axes>"
            ]
          },
          "metadata": {},
          "output_type": "display_data"
        }
      ],
      "source": [
        "# 도표 크기 지정\n",
        "plt.rc('figure', figsize=(5, 5))\n",
        "\n",
        "# 산점도 그리기\n",
        "plt.scatter(xs, ys, c='darkgray')\n",
        "plt.show()"
      ]
    },
    {
      "cell_type": "markdown",
      "metadata": {
        "id": "O75QI6zpRT6V"
      },
      "source": [
        "### 배경색칠"
      ]
    },
    {
      "cell_type": "markdown",
      "metadata": {
        "id": "ViBevzgMRT6V"
      },
      "source": [
        "예를 들어 회색 배경을 얻고자 한다면 보다 점을 보다 촘촘히 찍으면 된다.\n",
        "예를 들어, -1부터 1사이의 구간은 0.02 크기로 총 100개의 구간으로 구성한 다음에 동일한 그래프를 그리면 훨씬 더\n",
        "섬세한 사진을 얻는다."
      ]
    },
    {
      "cell_type": "code",
      "execution_count": 28,
      "metadata": {
        "id": "5CyQ9PZORT6V"
      },
      "outputs": [],
      "source": [
        "points = np.arange(-1, 1.01, 0.02)"
      ]
    },
    {
      "cell_type": "markdown",
      "metadata": {
        "id": "Mwfsv6N0RT6V"
      },
      "source": [
        "`meshgrid()` 함수를 이용하여 메쉬 생성에 필요한 x 좌표와 y 좌표 모음을 만든다."
      ]
    },
    {
      "cell_type": "code",
      "execution_count": 29,
      "metadata": {
        "id": "vmVWea1dRT6V"
      },
      "outputs": [],
      "source": [
        "xs, ys = np.meshgrid(points, points)"
      ]
    },
    {
      "cell_type": "markdown",
      "metadata": {
        "id": "KUpahmpdRT6V"
      },
      "source": [
        "`xs` 와 `ys` 각각 (101, 101) 모양의 2차원 어레이다."
      ]
    },
    {
      "cell_type": "code",
      "execution_count": 30,
      "metadata": {
        "id": "GIAH1GOMRT6V",
        "outputId": "abaf70d5-f9bc-4f34-b629-ae41cc1e7e6c"
      },
      "outputs": [
        {
          "data": {
            "text/plain": [
              "(101, 101)"
            ]
          },
          "execution_count": 30,
          "metadata": {},
          "output_type": "execute_result"
        }
      ],
      "source": [
        "xs.shape"
      ]
    },
    {
      "cell_type": "code",
      "execution_count": 31,
      "metadata": {
        "id": "LyvuSFbwRT6W",
        "outputId": "03c29fd9-eb86-4bf4-8248-fc63f53bf3f6"
      },
      "outputs": [
        {
          "data": {
            "text/plain": [
              "(101, 101)"
            ]
          },
          "execution_count": 31,
          "metadata": {},
          "output_type": "execute_result"
        }
      ],
      "source": [
        "ys.shape"
      ]
    },
    {
      "cell_type": "markdown",
      "metadata": {
        "id": "AhmZm_kTRT6W"
      },
      "source": [
        "xs와 ys를 이용하여 산점도를 그리면 한 장의 회색 색종이를 얻는다.\n",
        "이유는 픽셀이 촘촘하기 때문이다."
      ]
    },
    {
      "cell_type": "code",
      "execution_count": 32,
      "metadata": {
        "id": "FuPu35t_RT6W",
        "outputId": "c9a7f310-3dbc-4e7d-ccb8-4e2c7e0234af"
      },
      "outputs": [
        {
          "data": {
            "image/png": "[encoded data removed]",
            "text/plain": [
              "<Figure size 600x600 with 1 Axes>"
            ]
          },
          "metadata": {},
          "output_type": "display_data"
        }
      ],
      "source": [
        "# 도표 크기 지정\n",
        "plt.rc('figure', figsize=(6, 6))\n",
        "\n",
        "# 산점도 그리기\n",
        "plt.scatter(xs, ys, c='darkgray')\n",
        "plt.show()"
      ]
    },
    {
      "cell_type": "markdown",
      "metadata": {
        "id": "aosLvv5nRT6W"
      },
      "source": [
        "배경색은 `c`의 키워드 인자를 변경하면 된다.\n",
        "예를 들어, 연노랑 배경을 원하면 `c='lightyello'` 옵션을 지정한다."
      ]
    },
    {
      "cell_type": "code",
      "execution_count": 33,
      "metadata": {
        "id": "g5KmJe6VRT6X",
        "outputId": "36fac74d-8722-483a-f1e9-e05c6bac6ffa"
      },
      "outputs": [
        {
          "data": {
            "image/png": "[encoded data removed]",
            "text/plain": [
              "<Figure size 600x600 with 1 Axes>"
            ]
          },
          "metadata": {},
          "output_type": "display_data"
        }
      ],
      "source": [
        "# 도표 크기 지정\n",
        "plt.rc('figure', figsize=(6, 6))\n",
        "\n",
        "# 산점도 그리기\n",
        "plt.scatter(xs, ys, c='lightyellow')\n",
        "plt.show()"
      ]
    },
    {
      "cell_type": "markdown",
      "metadata": {
        "id": "zMX3IDteRT6X"
      },
      "source": [
        "### 등고선"
      ]
    },
    {
      "cell_type": "markdown",
      "metadata": {
        "id": "DtYb-IP5RT6X"
      },
      "source": [
        "등고선 기능을 이용하여 배경색을 구역에 따라 다르게 할 수 있다.\n",
        "등고선을 그리려면 먼저 배경을 포함되는 각각의 점의 좌표에 따라\n",
        "값을 달리하는 방법을 지정해야 한다."
      ]
    },
    {
      "cell_type": "markdown",
      "metadata": {
        "id": "yg4WZrhdRT6X"
      },
      "source": [
        "예를 들어 원점으로부터 멀어질 수록 색을 달리하는 등고선을 그리기 위해\n",
        "`xs`와 `ys`에 대해 원의 방정식을 적용한다.\n",
        "참고로 원점을 중심으로 하고, 반지름이 $r$인 원에 포함되는 점들의 좌표 $(x, y)$는 다음 방정식을 만족해야 한다.\n",
        "\n",
        "$$\n",
        "x^2 + y^2 = r^2\n",
        "$$"
      ]
    },
    {
      "cell_type": "markdown",
      "metadata": {
        "id": "TOrvO_gZRT6Y"
      },
      "source": [
        "따라서 $\\sqrt{x^2 + y^2}$의 값에 따라 해당 점이 원점으로부터의 거리를 가리키며,\n",
        "이 성질을 이용하여 배경에 사용되는 각 점의 원점으로부터의 거리에 따라 배경색을 달리할 수 있다."
      ]
    },
    {
      "cell_type": "markdown",
      "metadata": {
        "id": "Fa2GfzqRRT6Y"
      },
      "source": [
        "아래 코드가 배경에 사용되는 각각의 점에 대해 원점으로부터의 거리를 계산한다."
      ]
    },
    {
      "cell_type": "code",
      "execution_count": 34,
      "metadata": {
        "id": "Bwxnu0b4RT6Y"
      },
      "outputs": [],
      "source": [
        "z = np.sqrt(xs ** 2 + ys ** 2)"
      ]
    },
    {
      "cell_type": "code",
      "execution_count": 35,
      "metadata": {
        "id": "OoWWAGGIRT6Y",
        "outputId": "d6dc68b3-3848-4ef0-ae56-4ab4e4acaa6c"
      },
      "outputs": [
        {
          "data": {
            "text/plain": [
              "(101, 101)"
            ]
          },
          "execution_count": 35,
          "metadata": {},
          "output_type": "execute_result"
        }
      ],
      "source": [
        "z.shape"
      ]
    },
    {
      "cell_type": "markdown",
      "metadata": {
        "id": "YjrxspRgRT6Y"
      },
      "source": [
        "이제 `plt.contour()` 함수를 `z` 값을 기준으로 등고선을 흑백사진으로 그리게 하면 다음과 같다."
      ]
    },
    {
      "cell_type": "code",
      "execution_count": 36,
      "metadata": {
        "id": "myrZscFdRT6Y",
        "outputId": "276993fe-a817-40c6-ed58-b30abb36200b",
        "scrolled": false
      },
      "outputs": [
        {
          "data": {
            "image/png": "[encoded data removed]",
            "text/plain": [
              "<Figure size 600x600 with 1 Axes>"
            ]
          },
          "metadata": {},
          "output_type": "display_data"
        }
      ],
      "source": [
        "# 도표 크기 지정(기본값으로 되돌림)\n",
        "plt.rc('figure', figsize=(6, 6))\n",
        "\n",
        "plt.contour(xs, ys, z, cmap='gray')\n",
        "\n",
        "plt.show()"
      ]
    },
    {
      "cell_type": "markdown",
      "metadata": {
        "id": "JyfUdiQxRT6Y"
      },
      "source": [
        "`plt.contourf()` 함수는 등고선에 의해 구분된 영역을 `z` 값에 따른 색을 칠한다."
      ]
    },
    {
      "cell_type": "code",
      "execution_count": 37,
      "metadata": {
        "id": "nzLL71P0RT6Y",
        "outputId": "5642801d-138a-4bea-b1e0-bb2c68a86b6c",
        "scrolled": false
      },
      "outputs": [
        {
          "data": {
            "image/png": "[encoded data removed]",
            "text/plain": [
              "<Figure size 600x600 with 1 Axes>"
            ]
          },
          "metadata": {},
          "output_type": "display_data"
        }
      ],
      "source": [
        "plt.rc('figure', figsize=(6, 6))\n",
        "\n",
        "plt.contourf(xs, ys, z, cmap='gray')\n",
        "\n",
        "plt.show()"
      ]
    },
    {
      "cell_type": "markdown",
      "metadata": {
        "id": "tm4ms4KKRT6Y"
      },
      "source": [
        "다양한 [색지도](https://matplotlib.org/stable/tutorials/colors/colormaps.html)를\n",
        "이용하여 자신만의 색상으로 배경을 색칠할 수 있다.\n",
        "아래 코드는 예를 들어 파스텔 색지도인 `Pastel1`을 이용한다."
      ]
    },
    {
      "cell_type": "code",
      "execution_count": 38,
      "metadata": {
        "id": "y9ZZWjBWRT6Y",
        "outputId": "846f05a0-d93c-4cbc-a273-7c2b0c4e4058",
        "scrolled": false
      },
      "outputs": [
        {
          "data": {
            "image/png": "[encoded data removed]",
            "text/plain": [
              "<Figure size 600x600 with 1 Axes>"
            ]
          },
          "metadata": {},
          "output_type": "display_data"
        }
      ],
      "source": [
        "plt.rc('figure', figsize=(6, 6))\n",
        "\n",
        "plt.contourf(xs, ys, z, cmap='Pastel1')\n",
        "\n",
        "plt.show()"
      ]
    },
    {
      "cell_type": "markdown",
      "metadata": {
        "id": "aIbelcXyRT6Z"
      },
      "source": [
        "## 붓꽃 데이터 분석"
      ]
    },
    {
      "cell_type": "markdown",
      "metadata": {
        "id": "I38mrmD0RT6Z"
      },
      "source": [
        "### 데이터셋 불러오기"
      ]
    },
    {
      "cell_type": "markdown",
      "metadata": {
        "id": "5sND7PtDRT6Z"
      },
      "source": [
        "붓꽃(아이리스) 데이터를 이용하여 활용법을 살펴 보기 위해\n",
        "먼저 데이터를 인터넷 상에서 가져온다."
      ]
    },
    {
      "cell_type": "code",
      "execution_count": 39,
      "metadata": {
        "id": "UMlrSQKuRT6Z"
      },
      "outputs": [],
      "source": [
        "url = 'https://raw.githubusercontent.com/codingalzi/datapy/master/jupyter-book/data/iris_nan.data'\n",
        "# url = 'https://archive.ics.uci.edu/ml/machine-learning-databases/iris/iris.data'"
      ]
    },
    {
      "cell_type": "markdown",
      "metadata": {
        "id": "egdPLht-RT6Z"
      },
      "source": [
        "위 주소의 `iris.data` 파일을 `data`라는 하위 디렉토리에 저장한다."
      ]
    },
    {
      "cell_type": "code",
      "execution_count": 40,
      "metadata": {
        "id": "IP0G1aKFRT6Z",
        "outputId": "2bb31a8d-487d-4a5f-df57-d5eaecf7bf11"
      },
      "outputs": [
        {
          "data": {
            "text/plain": [
              "(PosixPath('data/iris.data'), <http.client.HTTPMessage at 0x10f50b580>)"
            ]
          },
          "execution_count": 40,
          "metadata": {},
          "output_type": "execute_result"
        }
      ],
      "source": [
        "from pathlib import Path\n",
        "import urllib.request\n",
        "\n",
        "data_path = Path() / \"data\"\n",
        "data_path.mkdir(parents=True, exist_ok=True)\n",
        "urllib.request.urlretrieve(url, data_path / 'iris.data')"
      ]
    },
    {
      "cell_type": "markdown",
      "metadata": {
        "id": "0hXx3f4RRT6Z"
      },
      "source": [
        "다운로드된 `iris.data` 파일에는 아래 형식의 데이터가 150개 들어 있다.\n",
        "\n",
        "```python\n",
        "5.1,3.5,1.4,0.2,Iris-setosa\n",
        "```\n",
        "\n",
        "하나의 데이터에 사용된 값들은 하나의 아이리스(붓꽃)에 대한 꽃잎, 꽃받침과 관련된 특성(features)과 품종을 나타내며,\n",
        "보다 구체적으로 아래 순서를 따른다.\n",
        "\n",
        "```\n",
        "꽃받침 길이, 꽃받침 너비, 꽃잎 길이, 꽃잎 너비, 품종\n",
        "```\n",
        "\n",
        "이 중에 마지막 품종 특성은 문자열이고 나머지 특성은 부동소수점, 즉 수치형 데이터이다.\n",
        "아래 사진은 붓꽃의 꽃받침<font size='2'>sepal</font>과 꽃잎<font size='2'>petal</font>의 길이와 너비를 측정하는 방법을 보여준다."
      ]
    },
    {
      "cell_type": "markdown",
      "metadata": {
        "id": "rpiZgchIRT6Z"
      },
      "source": [
        "<p><div align=\"center\"><img src=\"https://raw.githubusercontent.com/codingalzi/datapy/master/jupyter-book//images/iris_petal-sepal.png\" style=\"width:450px;\"></div></p>"
      ]
    },
    {
      "cell_type": "markdown",
      "metadata": {
        "id": "owSq1uTTRT6Z"
      },
      "source": [
        "여기서는 연습을 위해 수치형 데이터를 담고 있는 네 개의 특성만 가져온다.\n",
        "\n",
        "* `genfromtxt()` 함수: 인터넷 또는 컴퓨터에 파일로 저장된 데이터를 적절한 모양의 어레이로 불러오는 함수\n",
        "* `delimiter=','`: 쉼표를 특성값들을 구분하는 기준으로 지정\n",
        "* `dtype='float'`: 어레이의 항목을 부동소수점으로 지정\n",
        "* `usecols=[0,1,2,3]`: 리스트에 지정된 인덱스의 특성만 가져오기"
      ]
    },
    {
      "cell_type": "code",
      "execution_count": 41,
      "metadata": {
        "id": "Jbda7CeNRT6Z"
      },
      "outputs": [],
      "source": [
        "iris_features = np.genfromtxt(data_path / 'iris.data', delimiter=',', dtype='float', usecols=[0,1,2,3])"
      ]
    },
    {
      "cell_type": "markdown",
      "metadata": {
        "id": "fc8AIM1QRT6Z"
      },
      "source": [
        "어레이의 모양은 (150, 4)이다."
      ]
    },
    {
      "cell_type": "code",
      "execution_count": 42,
      "metadata": {
        "id": "1qvkvn8DRT6Z",
        "outputId": "059a39bf-923d-471c-8f6c-be61e4670ab8"
      },
      "outputs": [
        {
          "data": {
            "text/plain": [
              "(150, 4)"
            ]
          },
          "execution_count": 42,
          "metadata": {},
          "output_type": "execute_result"
        }
      ],
      "source": [
        "iris_features.shape"
      ]
    },
    {
      "cell_type": "markdown",
      "metadata": {
        "id": "WxkS9SdjRT6Z"
      },
      "source": [
        "처음 5개 샘플은 다음과 같다."
      ]
    },
    {
      "cell_type": "code",
      "execution_count": 43,
      "metadata": {
        "id": "ZGDch7ghRT6Z",
        "outputId": "e642668d-e227-486a-f7e4-4905378dac40"
      },
      "outputs": [
        {
          "data": {
            "text/plain": [
              "array([[5.1, 3.5, 1.4, 0.2],\n",
              "       [4.9, 3. , 1.4, 0.2],\n",
              "       [4.7, 3.2, 1.3, 0.2],\n",
              "       [4.6, 3.1, 1.5, 0.2],\n",
              "       [5. , 3.6, 1.4, 0.2]])"
            ]
          },
          "execution_count": 43,
          "metadata": {},
          "output_type": "execute_result"
        }
      ],
      "source": [
        "iris_features[:5]"
      ]
    },
    {
      "cell_type": "markdown",
      "metadata": {
        "id": "KhCOu1hMRT6Z"
      },
      "source": [
        "### 결측치 처리"
      ]
    },
    {
      "cell_type": "markdown",
      "metadata": {
        "id": "nAC-H71BRT6Z"
      },
      "source": [
        "붓꽃 데이터셋 안에 결측치가 포함되어 있다.\n",
        "결측치가 있는지 여부를 다음과 같이 확인한다.\n",
        "\n",
        "- `np.isnan()` 함수: 어레이의 각각의 항목이 결측치인지 여부를 확인하는 부울 어레이 반환\n",
        "- `any()` 어레이 메서드: 부울 어레이의 항목에 `True`가 하나라도 포함되어 있는지 여부 확인"
      ]
    },
    {
      "cell_type": "code",
      "execution_count": 44,
      "metadata": {
        "id": "CELPYX8CRT6a",
        "outputId": "efe8ffc8-11b3-4907-ec5e-d873cac7623b"
      },
      "outputs": [
        {
          "data": {
            "text/plain": [
              "np.True_"
            ]
          },
          "execution_count": 44,
          "metadata": {},
          "output_type": "execute_result"
        }
      ],
      "source": [
        "np.isnan(iris_features).any()"
      ]
    },
    {
      "cell_type": "markdown",
      "metadata": {
        "id": "mZe8JUIfRT6a"
      },
      "source": [
        "결측치가 특정 열에만 있는지를 확인하려면 축을 0으로 지정한다."
      ]
    },
    {
      "cell_type": "code",
      "execution_count": 45,
      "metadata": {
        "id": "npVDn22ZRT6a",
        "outputId": "cb314c46-798e-44b9-e3f8-957667ae49a1"
      },
      "outputs": [
        {
          "data": {
            "text/plain": [
              "array([False, False, False,  True])"
            ]
          },
          "execution_count": 45,
          "metadata": {},
          "output_type": "execute_result"
        }
      ],
      "source": [
        "np.isnan(iris_features).any(axis=0)"
      ]
    },
    {
      "cell_type": "markdown",
      "metadata": {
        "id": "g5n1X0kjRT6a"
      },
      "source": [
        "3번 열에만 결측치가 있음이 확인됐다."
      ]
    },
    {
      "cell_type": "markdown",
      "metadata": {
        "id": "gqC7ruDzRT6a"
      },
      "source": [
        "`sum()` 함수를 이용하여 3개의 결측치가 있음을 바로 확인할 수 있다.\n",
        "\n",
        "* `sum()` 어레이 메서드: `True`는 1, `False`는 0으로 처리한다."
      ]
    },
    {
      "cell_type": "code",
      "execution_count": 46,
      "metadata": {
        "id": "YTRwb7JGRT6a",
        "outputId": "81f35f6d-1e6c-43fe-a576-940d800cd770"
      },
      "outputs": [
        {
          "data": {
            "text/plain": [
              "np.int64(3)"
            ]
          },
          "execution_count": 46,
          "metadata": {},
          "output_type": "execute_result"
        }
      ],
      "source": [
        "np.isnan(iris_features).sum()"
      ]
    },
    {
      "cell_type": "markdown",
      "metadata": {
        "id": "nPj7zI7_RT6a"
      },
      "source": [
        "3번 열에만 결측치가 있기에 아래와 같이 결측치의 수를 확인할 수도 있다."
      ]
    },
    {
      "cell_type": "code",
      "execution_count": 47,
      "metadata": {
        "id": "yzOt79QtRT6a",
        "outputId": "9e2e3546-fce6-417b-87c1-67c8fcccc3dc"
      },
      "outputs": [
        {
          "data": {
            "text/plain": [
              "np.int64(3)"
            ]
          },
          "execution_count": 47,
          "metadata": {},
          "output_type": "execute_result"
        }
      ],
      "source": [
        "np.isnan(iris_features[:, 3]).sum()"
      ]
    },
    {
      "cell_type": "markdown",
      "metadata": {
        "id": "WlkEfv5DRT6a"
      },
      "source": [
        "부울 인덱싱을 활용하여 결측치가 없는 행만 추출할 수 있으며,\n",
        "결측치를 포함한 데이터 샘플 3개는 다음과 같다."
      ]
    },
    {
      "cell_type": "code",
      "execution_count": 48,
      "metadata": {
        "id": "KP2D5I4eRT6a",
        "outputId": "299bac72-058c-4b78-ddf8-4707a401f3c9"
      },
      "outputs": [
        {
          "data": {
            "text/plain": [
              "array([[5.4, 3.4, 1.7, nan],\n",
              "       [5. , 3.2, 1.2, nan],\n",
              "       [4.4, 3.2, 1.3, nan]])"
            ]
          },
          "execution_count": 48,
          "metadata": {},
          "output_type": "execute_result"
        }
      ],
      "source": [
        "mask = np.isnan(iris_features[:, 3])\n",
        "\n",
        "iris_features[mask]"
      ]
    },
    {
      "cell_type": "markdown",
      "metadata": {
        "id": "IhCzF4AxRT6a"
      },
      "source": [
        "`nan`은 결측치를 의미하는 값인 `np.nan`을 가리키는 기호다."
      ]
    },
    {
      "cell_type": "code",
      "execution_count": 49,
      "metadata": {
        "id": "HPBSkJlwRT6a",
        "outputId": "e1abcce2-b662-4a77-e528-c1505eb29ce4"
      },
      "outputs": [
        {
          "data": {
            "text/plain": [
              "nan"
            ]
          },
          "execution_count": 49,
          "metadata": {},
          "output_type": "execute_result"
        }
      ],
      "source": [
        "np.nan"
      ]
    },
    {
      "cell_type": "markdown",
      "metadata": {
        "id": "l9IgmDyORT6a"
      },
      "source": [
        "원본 `iris_nan.data` 파일에서 결측치는 아래와 같이 그냥 비워져 있다.\n",
        "\n",
        "```\n",
        "5.4, 3.4, 1.7,, Iris-setosa\n",
        "5. , 3.2, 1.2,, Iris-setosa\n",
        "4.4, 3.2, 1.3,, Iris-setosa\n",
        "```"
      ]
    },
    {
      "cell_type": "markdown",
      "metadata": {
        "id": "fTMRrJuKRT6a"
      },
      "source": [
        "그런데 3개의 결측치는 사실 일부러 만들어졌고 원래 모두 0.2였다.\n",
        "부울 인덱싱을 이용하여 결측치를 모두 0.2로 원상회복 시킨다."
      ]
    },
    {
      "cell_type": "code",
      "execution_count": 50,
      "metadata": {
        "id": "7eIU-MFnRT6a"
      },
      "outputs": [],
      "source": [
        "iris_features[:, 3][mask] = 0.2"
      ]
    },
    {
      "cell_type": "markdown",
      "metadata": {
        "id": "hqUpWwsFRT6a"
      },
      "source": [
        "결측치가 없음을 다음과 같이 확인한다."
      ]
    },
    {
      "cell_type": "code",
      "execution_count": 51,
      "metadata": {
        "id": "Xs1iEVUgRT6a",
        "outputId": "f73fa116-12a2-4f7b-8b5f-021423bebe36"
      },
      "outputs": [
        {
          "data": {
            "text/plain": [
              "np.False_"
            ]
          },
          "execution_count": 51,
          "metadata": {},
          "output_type": "execute_result"
        }
      ],
      "source": [
        "np.isnan(iris_features).any()"
      ]
    },
    {
      "cell_type": "markdown",
      "metadata": {
        "id": "hLVEGhoeRT6a"
      },
      "source": [
        "**품종 정보**\n",
        "\n",
        "iris_features 데이터셋에 사용된 붓꽃들의 품종은 아래 세 개이다.\n",
        "\n",
        "```\n",
        "'Iris-setosa', 'Iris-versicolor', 'Iris-virginica'\n",
        "```"
      ]
    },
    {
      "cell_type": "markdown",
      "metadata": {
        "id": "ZA4xUX1yRT6b"
      },
      "source": [
        "이 사실을 데이터셋에서 직접 확인할 수 있다.\n",
        "\n",
        "- `usecols=4`: 품종 정보를 담고 있는 열만 가져오기\n",
        "- `dtype='str`: 문자열로 처리"
      ]
    },
    {
      "cell_type": "code",
      "execution_count": 52,
      "metadata": {
        "id": "NX2sI1-dRT6b"
      },
      "outputs": [],
      "source": [
        "iris_labels = np.genfromtxt(data_path / 'iris.data', delimiter=',', dtype='str', usecols=4)"
      ]
    },
    {
      "cell_type": "markdown",
      "metadata": {
        "id": "FFDvp_HIRT6b"
      },
      "source": [
        "길이가 150인 1차원 어레이로 가져온다."
      ]
    },
    {
      "cell_type": "code",
      "execution_count": 53,
      "metadata": {
        "id": "rOY2VotbRT6b",
        "outputId": "5f92b102-8696-4c44-9a3b-360462592029"
      },
      "outputs": [
        {
          "data": {
            "text/plain": [
              "(150,)"
            ]
          },
          "execution_count": 53,
          "metadata": {},
          "output_type": "execute_result"
        }
      ],
      "source": [
        "iris_labels.shape"
      ]
    },
    {
      "cell_type": "markdown",
      "metadata": {
        "id": "W3-qapCcRT6b"
      },
      "source": [
        "사용되는 품종이 3가지임을 `np.unique()` 함수를 이용해서 확인한다."
      ]
    },
    {
      "cell_type": "code",
      "execution_count": 54,
      "metadata": {
        "id": "wdFF-g7ORT6b",
        "outputId": "f8b23159-8998-4f7e-b7f6-ecd90bd3940c"
      },
      "outputs": [
        {
          "data": {
            "text/plain": [
              "array(['Iris-setosa', 'Iris-versicolor', 'Iris-virginica'], dtype='<U15')"
            ]
          },
          "execution_count": 54,
          "metadata": {},
          "output_type": "execute_result"
        }
      ],
      "source": [
        "varieties = np.unique(iris_labels)\n",
        "varieties"
      ]
    },
    {
      "cell_type": "markdown",
      "metadata": {
        "id": "-5VGaS2pRT6b"
      },
      "source": [
        "품종별로 각각 50개의 샘플이 포함된다."
      ]
    },
    {
      "cell_type": "code",
      "execution_count": 55,
      "metadata": {
        "id": "I9o2Pq9RRT6b",
        "outputId": "d482f80a-a6aa-48b7-f157-94731bcedd86"
      },
      "outputs": [
        {
          "name": "stdout",
          "output_type": "stream",
          "text": [
            "Iris-setosa     샘플 수: 50\n",
            "Iris-versicolor 샘플 수: 50\n",
            "Iris-virginica  샘플 수: 50\n"
          ]
        }
      ],
      "source": [
        "for variety in varieties:\n",
        "    count = np.count_nonzero(iris_labels == variety)\n",
        "    print(f\"{variety:<15} 샘플 수: {count}\")"
      ]
    },
    {
      "cell_type": "markdown",
      "metadata": {
        "id": "2-sNorxJRT6b"
      },
      "source": [
        "### 산점도 그리기"
      ]
    },
    {
      "cell_type": "markdown",
      "metadata": {
        "id": "fsXTENsQRT6b"
      },
      "source": [
        "꽃잎의 길이(2번 열)와 너비 정보(3번 열)를 이용하여 산점도를 그린다.\n",
        "먼저 꽃잎 길이를 x-좌표값으로, 꽃잎 너비를 y-좌표 값으로 지정한다.\n",
        "이때 모든 x-좌표와 모든 y-좌표를 따로따로 지정한다."
      ]
    },
    {
      "cell_type": "code",
      "execution_count": 56,
      "metadata": {
        "id": "XvKD0ZBURT6b"
      },
      "outputs": [],
      "source": [
        "X = iris_features[:, 2] # 꽃잎 길이\n",
        "Y = iris_features[:, 3] # 꽃잎 너비"
      ]
    },
    {
      "cell_type": "markdown",
      "metadata": {
        "id": "xQzk-HRyRT6b"
      },
      "source": [
        "`plt.plot()` 함수를 이용하여 산점도를 그릴 수 있다.\n",
        "\n",
        "- 셋째 인자: `\"bo\"` 는 점의 색깔과 모양 지정. `b` 는 blue(파랑)를, `o` 는 동그라미 모양의 점.\n",
        "- `plt.plot(X, Y, \"bo\")`는 `plt.plot(X, Y, color='blue', marker='o', linesty;e='')`를 줄인 표현\n",
        "- `plt.axis([0.5, 7, 0, 3])`: x-축 구간은 0.5부터 7, y-축 구간은 0부터 3."
      ]
    },
    {
      "cell_type": "code",
      "execution_count": 57,
      "metadata": {
        "id": "7d_dseY7RT6b",
        "outputId": "18ae021c-913e-4964-a453-2d5bc11e9f71"
      },
      "outputs": [
        {
          "data": {
            "text/plain": [
              "(np.float64(0.5), np.float64(7.0), np.float64(0.0), np.float64(3.0))"
            ]
          },
          "execution_count": 57,
          "metadata": {},
          "output_type": "execute_result"
        },
        {
          "data": {
            "image/png": "[encoded data removed]",
            "text/plain": [
              "<Figure size 1000x500 with 1 Axes>"
            ]
          },
          "metadata": {},
          "output_type": "display_data"
        }
      ],
      "source": [
        "plt.figure(figsize=(10, 5))\n",
        "\n",
        "plt.plot(X, Y, 'bo')\n",
        "# plt.plot(X, Y, color='blue', marker='o', linestyle='')\n",
        "\n",
        "plt.axis([0.5, 7, 0, 3])"
      ]
    },
    {
      "cell_type": "markdown",
      "metadata": {
        "id": "yPfKUH0sRT6b"
      },
      "source": [
        "그런데 이렇게 하면 품종이 구별되지 않기에 품종 정보를 함께 활용해야 한다.\n",
        "예를 들어 세토사 품종 50개의 꽆잎의 길이는 다음과 같이 부울 마스크를 이용해서 구할 수 있다.\n",
        "\n",
        "- `plt.xlabel(\"Petal length\")`: x-축 레이블 지정\n",
        "- `plt.ylabel(\"Petal width\")`: y-축 레이블 지정\n",
        "- `plt.legend(loc=\"center left\")`: 범례 위치 지정\n",
        "- `plt.show()`: 여러 개의 그래프를 동시에 하나의 캔버스에 그리도록 함"
      ]
    },
    {
      "cell_type": "code",
      "execution_count": 58,
      "metadata": {
        "id": "vY3rjDIBRT6b",
        "outputId": "60333bf3-89c1-44bf-800d-77d5fd19b8c8"
      },
      "outputs": [
        {
          "data": {
            "image/png": "[encoded data removed]",
            "text/plain": [
              "<Figure size 1000x500 with 1 Axes>"
            ]
          },
          "metadata": {},
          "output_type": "display_data"
        }
      ],
      "source": [
        "plt.figure(figsize=(10, 5))\n",
        "\n",
        "# 세토사 품종 산점도: 노랑 동그라미\n",
        "plt.plot(X[iris_labels == 'Iris-setosa'], Y[iris_labels == 'Iris-setosa'], 'yo', label='Iris setosa')\n",
        "# 버시컬러 품종 산점도: 파랑 네모\n",
        "plt.plot(X[iris_labels == 'Iris-versicolor'], Y[iris_labels == 'Iris-versicolor'], 'bs', label='Iris versicolor')\n",
        "# 버지니카 품종 산점도: 초록 세모\n",
        "plt.plot(X[iris_labels == 'Iris-virginica'], Y[iris_labels == 'Iris-virginica'], 'g^',  label='Iris virginica')\n",
        "\n",
        "plt.xlabel(\"Petal length\")\n",
        "plt.ylabel(\"Petal width\")\n",
        "plt.legend(loc=\"center left\")\n",
        "\n",
        "plt.axis([0.5, 7, 0, 3.])\n",
        "plt.show()"
      ]
    },
    {
      "cell_type": "markdown",
      "metadata": {
        "id": "I9njIcLpRT6c"
      },
      "source": [
        "**격자 무늬**"
      ]
    },
    {
      "cell_type": "markdown",
      "metadata": {
        "id": "sJQxAahVRT6c"
      },
      "source": [
        "격자 무늬 배경도 넣을 수 있다.\n",
        "\n",
        "- `plt.grid()`: 격차 무늬 배경 추가"
      ]
    },
    {
      "cell_type": "code",
      "execution_count": 59,
      "metadata": {
        "id": "qVXvdDlZRT6c",
        "outputId": "32ef5f1b-ff5a-4ab6-e658-a27134e5bf88"
      },
      "outputs": [
        {
          "data": {
            "image/png": "[encoded data removed]",
            "text/plain": [
              "<Figure size 1000x500 with 1 Axes>"
            ]
          },
          "metadata": {},
          "output_type": "display_data"
        }
      ],
      "source": [
        "plt.figure(figsize=(10, 5))\n",
        "plt.plot(X[iris_labels == 'Iris-setosa'], Y[iris_labels == 'Iris-setosa'], 'yo', label='Iris setosa')\n",
        "plt.plot(X[iris_labels == 'Iris-versicolor'], Y[iris_labels == 'Iris-versicolor'], 'bs', label='Iris versicolor')\n",
        "plt.plot(X[iris_labels == 'Iris-virginica'], Y[iris_labels == 'Iris-virginica'], 'g^',  label='Iris virginica')\n",
        "\n",
        "plt.xlabel(\"Petal length\")\n",
        "plt.ylabel(\"Petal width\")\n",
        "plt.legend(loc=\"center left\")\n",
        "\n",
        "plt.axis([0.5, 7, 0, 3.])\n",
        "\n",
        "plt.grid()\n",
        "plt.show()"
      ]
    },
    {
      "cell_type": "markdown",
      "metadata": {
        "id": "WEvieLDVRT6c"
      },
      "source": [
        "### 배경 색칠"
      ]
    },
    {
      "cell_type": "markdown",
      "metadata": {
        "id": "ShW0HksJRT6c"
      },
      "source": [
        "`meshgrid()` 함수를 이용하여 배경의 색을 지정할 수 있다."
      ]
    },
    {
      "cell_type": "code",
      "execution_count": 60,
      "metadata": {
        "id": "eqxvUwa7RT6c"
      },
      "outputs": [],
      "source": [
        "points_x = np.arange(0, 7.01, 0.02)\n",
        "points_y = np.arange(0, 3.51, 0.02)\n",
        "xs, ys = np.meshgrid(points_x, points_y)"
      ]
    },
    {
      "cell_type": "code",
      "execution_count": 61,
      "metadata": {
        "id": "0bWExnlDRT6c",
        "outputId": "fcc74dfe-d70f-4310-d102-d2864af8be67"
      },
      "outputs": [
        {
          "data": {
            "image/png": "[encoded data removed]",
            "text/plain": [
              "<Figure size 1000x500 with 1 Axes>"
            ]
          },
          "metadata": {},
          "output_type": "display_data"
        }
      ],
      "source": [
        "plt.figure(figsize=(10, 5))\n",
        "\n",
        "# 배경\n",
        "plt.scatter(xs, ys, c= 'ivory') # 아이보리색\n",
        "\n",
        "# 붓꽃 데이터 산점도\n",
        "plt.plot(X[iris_labels == 'Iris-setosa'], Y[iris_labels == 'Iris-setosa'], 'yo', label='Iris setosa')\n",
        "plt.plot(X[iris_labels == 'Iris-versicolor'], Y[iris_labels == 'Iris-versicolor'], 'bs', label='Iris versicolor')\n",
        "plt.plot(X[iris_labels == 'Iris-virginica'], Y[iris_labels == 'Iris-virginica'], 'g^',  label='Iris virginica')\n",
        "\n",
        "plt.xlabel(\"Petal length\")\n",
        "plt.ylabel(\"Petal width\")\n",
        "plt.legend(loc=\"center left\")\n",
        "\n",
        "plt.axis([0.5, 7, 0, 3.])\n",
        "\n",
        "plt.grid()\n",
        "plt.show()"
      ]
    },
    {
      "cell_type": "markdown",
      "metadata": {
        "id": "bWcLd9wkRT6c"
      },
      "source": [
        "### 등고선과 품종 분류"
      ]
    },
    {
      "cell_type": "markdown",
      "metadata": {
        "id": "2S7XsRCeRT6c"
      },
      "source": [
        "품종의 분류를 색으로 구분하기 위해 `plt.contour()` 함수 또는 `plt.contourf()` 를 이용한다.\n",
        "적절한 등고선을 그리기 위해 `meshgrid()` 함수가 생성한 각 좌표에 해당하는 지점의\n",
        "값을 담고 있는 어레이 `Z`를 생성한다.\n",
        "단 x-좌표의 값에 따라 0, 1, 2를 항목으로 갖도록 한다.\n",
        "\n",
        "- 0: x-좌표가 2.5보다 작은 경우\n",
        "- 1: x-좌표가 2.5보다 같거나 크고 5보다 작은 경우\n",
        "- 2: x-좌표가 5보다 같거나 큰 경우\n",
        "\n",
        "먼저 `xs`, `ys`와 동일한 모양을 갖는 0-행렬로 `Z`를 생성한다."
      ]
    },
    {
      "cell_type": "code",
      "execution_count": 62,
      "metadata": {
        "id": "sfO5VSeORT6c"
      },
      "outputs": [],
      "source": [
        "Z = np.zeros(xs.shape)"
      ]
    },
    {
      "cell_type": "markdown",
      "metadata": {
        "id": "QrlbnSYeRT6c"
      },
      "source": [
        "이제 배경에 포함된 점들의 x-좌표값이 2.5와 5를 기준으로 `Z`의 항목에 해당하는 값을 각각 1과 2로 변경한다.\n",
        "아래 코드는 부울 마스크를 이용하여 이 과정을 처리한다."
      ]
    },
    {
      "cell_type": "code",
      "execution_count": 63,
      "metadata": {
        "id": "0Ifw6JbkRT6c"
      },
      "outputs": [],
      "source": [
        "Z[(2.5 <= xs) & (xs < 5)] = 1\n",
        "Z[(5. <= xs)] = 2"
      ]
    },
    {
      "cell_type": "code",
      "execution_count": 64,
      "metadata": {
        "id": "wLA878h_RT6c",
        "outputId": "2120a0f9-4500-4427-f0b7-06f0e1fadb19"
      },
      "outputs": [
        {
          "data": {
            "text/plain": [
              "array([[0., 0., 0., ..., 2., 2., 2.],\n",
              "       [0., 0., 0., ..., 2., 2., 2.],\n",
              "       [0., 0., 0., ..., 2., 2., 2.],\n",
              "       ...,\n",
              "       [0., 0., 0., ..., 2., 2., 2.],\n",
              "       [0., 0., 0., ..., 2., 2., 2.],\n",
              "       [0., 0., 0., ..., 2., 2., 2.]])"
            ]
          },
          "execution_count": 64,
          "metadata": {},
          "output_type": "execute_result"
        }
      ],
      "source": [
        "Z"
      ]
    },
    {
      "cell_type": "markdown",
      "metadata": {
        "id": "sav5tPGnRT6c"
      },
      "source": [
        "아래 코드는 다른 색의 등고선을 이용하여 자연스럽게 품종을 구분하는 배경과 함께 산점도를 그린다.\n",
        "배경을 먼저 그린 다음에 산점도를 그림에 주의한다.\n",
        "\n",
        "- `plt.contourf(xs, ys, Z, alpha=0.3, cmap='Wistia')`: 색으로 등고선 구분.\n",
        "- `alpha=0.3`: 투명도를 0.3으로 지정. 0에서 1사이의 값이며 클 수록 불투명해짐\n",
        "- `cmap='Wistia`: 등고선에 사용할 [색 지도](https://matplotlib.org/stable/tutorials/colors/colormaps.html) 지정"
      ]
    },
    {
      "cell_type": "code",
      "execution_count": 65,
      "metadata": {
        "id": "aTMxqcptRT6c",
        "outputId": "af7daa23-5ba8-4d31-97b2-237fafceca85"
      },
      "outputs": [
        {
          "data": {
            "image/png": "[encoded data removed]",
            "text/plain": [
              "<Figure size 1000x500 with 1 Axes>"
            ]
          },
          "metadata": {},
          "output_type": "display_data"
        }
      ],
      "source": [
        "plt.figure(figsize=(10, 5))\n",
        "\n",
        "# 등고선을 색으로 구분\n",
        "plt.contourf(xs, ys, Z, alpha=0.3, cmap='Wistia')\n",
        "\n",
        "# 붓꽃 데이터 산점도\n",
        "plt.plot(X[iris_labels == 'Iris-setosa'], Y[iris_labels == 'Iris-setosa'], 'yo', label='Iris setosa')\n",
        "plt.plot(X[iris_labels == 'Iris-versicolor'], Y[iris_labels == 'Iris-versicolor'], 'bs', label='Iris versicolor')\n",
        "plt.plot(X[iris_labels == 'Iris-virginica'], Y[iris_labels == 'Iris-virginica'], 'g^',  label='Iris virginica')\n",
        "\n",
        "plt.xlabel(\"Petal length\")\n",
        "plt.ylabel(\"Petal width\")\n",
        "plt.legend(loc=\"center left\")\n",
        "plt.axis([0.5, 7.0, 0, 3])\n",
        "\n",
        "# plt.grid()\n",
        "plt.show()"
      ]
    },
    {
      "cell_type": "markdown",
      "metadata": {
        "id": "4T1yAam6RT6c"
      },
      "source": [
        "## 연습문제"
      ]
    },
    {
      "cell_type": "markdown",
      "metadata": {
        "id": "A2d38WcCRT6c"
      },
      "source": [
        "참고: [(실습) 실전 예제: 어레이 활용](https://colab.research.google.com/github/codingalzi/datapy/blob/master/practices/practice-numpy_5.ipynb)"
      ]
    }
  ],
  "metadata": {
    "colab": {
      "provenance": []
    },
    "kernelspec": {
      "display_name": "Python 3",
      "language": "python",
      "name": "python3"
    },
    "language_info": {
      "codemirror_mode": {
        "name": "ipython",
        "version": 3
      },
      "file_extension": ".py",
      "mimetype": "text/x-python",
      "name": "python",
      "nbconvert_exporter": "python",
      "pygments_lexer": "ipython3",
      "version": "3.9.6"
    }
  },
  "nbformat": 4,
  "nbformat_minor": 0
}
