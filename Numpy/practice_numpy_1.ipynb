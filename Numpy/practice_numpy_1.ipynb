{
  "cells": [
    {
      "cell_type": "markdown",
      "metadata": {
        "id": "WawPk6cxNO4t"
      },
      "source": [
        "# (실습) 넘파이 어레이"
      ]
    },
    {
      "cell_type": "markdown",
      "metadata": {
        "id": "dt_QjaKoNO4u"
      },
      "source": [
        "**주의사항**\n",
        "\n",
        "- `None`은 적절한 표현식으로 대체한다.\n",
        "- `Pass`는 적절한 명령문으로 대체한다."
      ]
    },
    {
      "cell_type": "markdown",
      "metadata": {
        "id": "zQhKDxNjNO4u"
      },
      "source": [
        "## numpy 모듈"
      ]
    },
    {
      "cell_type": "markdown",
      "metadata": {
        "id": "juA83z_iNO4u"
      },
      "source": [
        "**문제 1**"
      ]
    },
    {
      "cell_type": "markdown",
      "metadata": {
        "id": "1Rk3MCirx-gA"
      },
      "source": [
        "아래 코드를 설명하라."
      ]
    },
    {
      "cell_type": "code",
      "execution_count": 1,
      "metadata": {
        "id": "J71Fcvihxzi9"
      },
      "outputs": [],
      "source": [
        "import numpy as np"
      ]
    },
    {
      "cell_type": "markdown",
      "metadata": {
        "id": "5bzeTBz5NO4v"
      },
      "source": [
        "`코드설명`: 파이썬 내장함수인 Numpy를 불러오고, 해당 함수를 불러올 때 np로 호출한다."
      ]
    },
    {
      "cell_type": "markdown",
      "metadata": {
        "id": "-kqW-VGBNO4v"
      },
      "source": [
        "아래 코드는 수정하지 마세요!!!"
      ]
    },
    {
      "cell_type": "code",
      "execution_count": 2,
      "metadata": {
        "id": "pXMIfvi9yHG5"
      },
      "outputs": [
        {
          "data": {
            "text/plain": [
              "'2.0.2'"
            ]
          },
          "execution_count": 2,
          "metadata": {},
          "output_type": "execute_result"
        }
      ],
      "source": [
        "np.__version__"
      ]
    },
    {
      "cell_type": "markdown",
      "metadata": {
        "id": "Wg2_0IkTNO4w"
      },
      "source": [
        "**문제 2**"
      ]
    },
    {
      "cell_type": "markdown",
      "metadata": {
        "id": "y3XwKxacNO4w"
      },
      "source": [
        "아래 코드의 기능을 설명하라"
      ]
    },
    {
      "cell_type": "code",
      "execution_count": 3,
      "metadata": {
        "id": "zleUdQJdNO4w"
      },
      "outputs": [],
      "source": [
        "np.random.seed(42)"
      ]
    },
    {
      "cell_type": "markdown",
      "metadata": {
        "id": "s3kleP1TNO4w"
      },
      "source": [
        "`코드설명`: 난수를 씨드번호 42번에 저장한다. 42번을 불러오게 되면 항상 난수가 출력된다."
      ]
    },
    {
      "cell_type": "markdown",
      "metadata": {
        "id": "5Ykv4TKINO4w"
      },
      "source": [
        "**문제 3**"
      ]
    },
    {
      "cell_type": "markdown",
      "metadata": {
        "id": "UobdonroNO4w"
      },
      "source": [
        "부동소수점으로 구성된 어레이의 항목은 기본적으로 소수점 이하 8자리까지 출력한다."
      ]
    },
    {
      "cell_type": "code",
      "execution_count": 4,
      "metadata": {
        "id": "gJPEYJ06NO4w"
      },
      "outputs": [
        {
          "data": {
            "text/plain": [
              "array([[0.37454012, 0.95071431, 0.73199394, ..., 0.09767211, 0.68423303,\n",
              "        0.44015249],\n",
              "       [0.12203823, 0.49517691, 0.03438852, ..., 0.07404465, 0.35846573,\n",
              "        0.11586906],\n",
              "       [0.86310343, 0.62329813, 0.33089802, ..., 0.18657006, 0.892559  ,\n",
              "        0.53934224],\n",
              "       ...,\n",
              "       [0.81783422, 0.12020906, 0.5444891 , ..., 0.89803055, 0.2434823 ,\n",
              "        0.92703454],\n",
              "       [0.06026739, 0.93443603, 0.35162269, ..., 0.41102847, 0.8398613 ,\n",
              "        0.90002312],\n",
              "       [0.35342138, 0.23687056, 0.78052552, ..., 0.07941937, 0.08565825,\n",
              "        0.89419087]])"
            ]
          },
          "execution_count": 4,
          "metadata": {},
          "output_type": "execute_result"
        }
      ],
      "source": [
        "Z = np.random.random((40,40))\n",
        "Z"
      ]
    },
    {
      "cell_type": "markdown",
      "metadata": {
        "id": "Eq4UvtqtNO4w"
      },
      "source": [
        "`np.set_printoptions()` 의 기능을 다음 두 개의 예를 이용하여 설명하라."
      ]
    },
    {
      "cell_type": "code",
      "execution_count": 5,
      "metadata": {
        "id": "vgvdNFDTNO4w"
      },
      "outputs": [],
      "source": [
        "np.set_printoptions(precision=4)"
      ]
    },
    {
      "cell_type": "code",
      "execution_count": 6,
      "metadata": {
        "id": "DixXtjzZNO4w"
      },
      "outputs": [
        {
          "data": {
            "text/plain": [
              "array([[0.3745, 0.9507, 0.732 , ..., 0.0977, 0.6842, 0.4402],\n",
              "       [0.122 , 0.4952, 0.0344, ..., 0.074 , 0.3585, 0.1159],\n",
              "       [0.8631, 0.6233, 0.3309, ..., 0.1866, 0.8926, 0.5393],\n",
              "       ...,\n",
              "       [0.8178, 0.1202, 0.5445, ..., 0.898 , 0.2435, 0.927 ],\n",
              "       [0.0603, 0.9344, 0.3516, ..., 0.411 , 0.8399, 0.9   ],\n",
              "       [0.3534, 0.2369, 0.7805, ..., 0.0794, 0.0857, 0.8942]])"
            ]
          },
          "execution_count": 6,
          "metadata": {},
          "output_type": "execute_result"
        }
      ],
      "source": [
        "Z"
      ]
    },
    {
      "cell_type": "code",
      "execution_count": 7,
      "metadata": {
        "id": "hepoMdsBNO4x"
      },
      "outputs": [],
      "source": [
        "np.set_printoptions(precision=6)"
      ]
    },
    {
      "cell_type": "code",
      "execution_count": 8,
      "metadata": {
        "id": "gr2jbjR6NO4x"
      },
      "outputs": [
        {
          "data": {
            "text/plain": [
              "array([[0.37454 , 0.950714, 0.731994, ..., 0.097672, 0.684233, 0.440152],\n",
              "       [0.122038, 0.495177, 0.034389, ..., 0.074045, 0.358466, 0.115869],\n",
              "       [0.863103, 0.623298, 0.330898, ..., 0.18657 , 0.892559, 0.539342],\n",
              "       ...,\n",
              "       [0.817834, 0.120209, 0.544489, ..., 0.898031, 0.243482, 0.927035],\n",
              "       [0.060267, 0.934436, 0.351623, ..., 0.411028, 0.839861, 0.900023],\n",
              "       [0.353421, 0.236871, 0.780526, ..., 0.079419, 0.085658, 0.894191]])"
            ]
          },
          "execution_count": 8,
          "metadata": {},
          "output_type": "execute_result"
        }
      ],
      "source": [
        "Z"
      ]
    },
    {
      "cell_type": "markdown",
      "metadata": {
        "id": "wjQ9DzyqNO4x"
      },
      "source": [
        "`코드설명`: 해당 함수의 기능은 소숫점 자리수를 표현한다. precision에 넣는 값이 소숫점 자리수가 된다."
      ]
    },
    {
      "cell_type": "markdown",
      "metadata": {
        "id": "7ELWDEOZNO4x"
      },
      "source": [
        "아래 코드는 기본 옵션값으로 되돌린다. 수정하지 마세요."
      ]
    },
    {
      "cell_type": "code",
      "execution_count": 9,
      "metadata": {
        "id": "F14qRmJLNO4x"
      },
      "outputs": [],
      "source": [
        "np.set_printoptions(precision=8)"
      ]
    },
    {
      "cell_type": "markdown",
      "metadata": {
        "id": "bzDb9aW3NO4x"
      },
      "source": [
        "## 1차원 어레이"
      ]
    },
    {
      "cell_type": "markdown",
      "metadata": {
        "id": "5cHPtM2ONO4x"
      },
      "source": [
        "**문제 1**"
      ]
    },
    {
      "cell_type": "markdown",
      "metadata": {
        "id": "D52rYqifyYtK"
      },
      "source": [
        "크기가 10이고 모든 항목이 0인 1차원 어레이를\n",
        "변수 `Z`가 가리키도록 하라.\n",
        "단, `np.zeros()` 함수를 반드시 이용한다."
      ]
    },
    {
      "cell_type": "code",
      "execution_count": 10,
      "metadata": {
        "id": "9a2qagIByT5-"
      },
      "outputs": [],
      "source": [
        "# None을 적절한 표현식으로 대체하라.\n",
        "Z = np.zeros(10)"
      ]
    },
    {
      "cell_type": "markdown",
      "metadata": {
        "id": "ne17c-NTNO4x"
      },
      "source": [
        "아래 코드는 수정하지 마세요!!!"
      ]
    },
    {
      "cell_type": "code",
      "execution_count": 11,
      "metadata": {
        "id": "GpF_hw_qNO4x"
      },
      "outputs": [],
      "source": [
        "assert (Z == np.array([0., 0., 0., 0., 0., 0., 0., 0., 0., 0.])).all()"
      ]
    },
    {
      "cell_type": "markdown",
      "metadata": {
        "id": "g_oRz5WGNO4x"
      },
      "source": [
        "**문제 2**"
      ]
    },
    {
      "cell_type": "markdown",
      "metadata": {
        "id": "Bly_H3ozyaSd"
      },
      "source": [
        "변수 `Z`가 10에서 49까지의 정수 중에서 짝수로만 구성된 1차원 어레이를 가리키도록 하라.\n",
        "단, `np.arange()` 함수를 반드시 이용한다."
      ]
    },
    {
      "cell_type": "code",
      "execution_count": 12,
      "metadata": {
        "id": "0VkfsWyPKvcE"
      },
      "outputs": [],
      "source": [
        "# None을 적절한 표현식으로 대체하라.\n",
        "Z = np.arange(10,49,2)"
      ]
    },
    {
      "cell_type": "markdown",
      "metadata": {
        "id": "AOnZBrxFNO4y"
      },
      "source": [
        "아래 코드는 수정하지 마세요!!!"
      ]
    },
    {
      "cell_type": "code",
      "execution_count": 13,
      "metadata": {
        "id": "hN4IrLTRNO4y"
      },
      "outputs": [],
      "source": [
        "assert (Z == np.array([10, 12, 14, 16, 18, 20, 22, 24, 26, 28, 30, 32, 34, 36, 38, 40, 42,\n",
        "                        44, 46, 48])).all()"
      ]
    },
    {
      "cell_type": "markdown",
      "metadata": {
        "id": "VeAG2p1sNO4y"
      },
      "source": [
        "**문제 3**"
      ]
    },
    {
      "cell_type": "markdown",
      "metadata": {
        "id": "6pBEowsGNO4y"
      },
      "source": [
        "변수 `Z`가 아래와 같이 선언되었다."
      ]
    },
    {
      "cell_type": "code",
      "execution_count": 14,
      "metadata": {
        "id": "qajNG5eVNO4y"
      },
      "outputs": [
        {
          "data": {
            "text/plain": [
              "array([2, 3, 1, 0, 4])"
            ]
          },
          "execution_count": 14,
          "metadata": {},
          "output_type": "execute_result"
        }
      ],
      "source": [
        "Z = np.array([2, 3, 1, 0, 4])\n",
        "Z"
      ]
    },
    {
      "cell_type": "markdown",
      "metadata": {
        "id": "sdSoYqjZNO4z"
      },
      "source": [
        "변수 `Z`의 항목을 정렬하라.\n",
        "단, sort() 메서드를 활용한다."
      ]
    },
    {
      "cell_type": "code",
      "execution_count": 15,
      "metadata": {
        "id": "y77RCn0qNO4z"
      },
      "outputs": [],
      "source": [
        "# None을 적절한 표현식으로 대체하라.\n",
        "Z = np.sort(Z)"
      ]
    },
    {
      "cell_type": "markdown",
      "metadata": {
        "id": "o09N3Sj9NO4z"
      },
      "source": [
        "아래 코드는 수정하지 마세요!!!"
      ]
    },
    {
      "cell_type": "code",
      "execution_count": 16,
      "metadata": {
        "id": "HHgdgQvuNO4z"
      },
      "outputs": [],
      "source": [
        "assert (Z == np.arange(5)).all()"
      ]
    },
    {
      "cell_type": "markdown",
      "metadata": {
        "id": "eU4PD0OGNO4z"
      },
      "source": [
        "**문제 4**"
      ]
    },
    {
      "cell_type": "markdown",
      "metadata": {
        "id": "Q-yTRT3UNO40"
      },
      "source": [
        "변수 `Z`가 크기 30이며 무작위로 생성된 1차원 어레이를 가리키도록 하라.\n",
        "또한 포함된 항목들의 평균값을 계산하라.\n",
        "단, 어레이의 항목은 0과 1 사이의 임의의 부동소수점으로 구성되어야 한다.\n",
        "`np.random.random()` 함수, `mean()` 어레이 메서드를 반드시 이용한다."
      ]
    },
    {
      "cell_type": "code",
      "execution_count": 17,
      "metadata": {
        "id": "nMOWvXZuNO40"
      },
      "outputs": [],
      "source": [
        "# None을 적절한 표현식으로 대체하라.\n",
        "Z = np.random.random(30)  # 0~1 사이의 난수 생성, 균등하게 분포\n",
        "Z_mean = Z.mean()"
      ]
    },
    {
      "cell_type": "markdown",
      "metadata": {
        "id": "ll8JirDWNO40"
      },
      "source": [
        "아래 코드는 수정하지 마세요!!!"
      ]
    },
    {
      "cell_type": "code",
      "execution_count": 18,
      "metadata": {
        "id": "_KRz9koWNO40"
      },
      "outputs": [
        {
          "name": "stdout",
          "output_type": "stream",
          "text": [
            "1차원 어레이 평균값: 0.4618868095723934\n"
          ]
        }
      ],
      "source": [
        "assert (Z.shape == (30,))\n",
        "print(f\"1차원 어레이 평균값: {Z_mean}\")"
      ]
    },
    {
      "cell_type": "markdown",
      "metadata": {
        "id": "lVecAjCeNO40"
      },
      "source": [
        "**문제 5**"
      ]
    },
    {
      "cell_type": "markdown",
      "metadata": {
        "id": "pocSZJSY-y56"
      },
      "source": [
        "1차원 어레이가 다음과 같이 주어졌다."
      ]
    },
    {
      "cell_type": "code",
      "execution_count": 19,
      "metadata": {
        "id": "vOkVvQfVNO40"
      },
      "outputs": [],
      "source": [
        "Z = np.arange(1, 4)"
      ]
    },
    {
      "cell_type": "markdown",
      "metadata": {
        "id": "vmEDnz4INO40"
      },
      "source": [
        "(1) 아래 표현식의 계산 결과를 설명하라."
      ]
    },
    {
      "cell_type": "code",
      "execution_count": 20,
      "metadata": {
        "id": "ZMAOCK-mZVbd"
      },
      "outputs": [
        {
          "data": {
            "text/plain": [
              "array([1, 4, 9])"
            ]
          },
          "execution_count": 20,
          "metadata": {},
          "output_type": "execute_result"
        }
      ],
      "source": [
        "Z*Z"
      ]
    },
    {
      "cell_type": "markdown",
      "metadata": {
        "id": "NpP3emODNO40"
      },
      "source": [
        "`코드설명`: 현재 Z = ([1,2,3]) 이고, Z*Z는 각 행과 열이 동일한 위치의 값끼리의 곱셈으로 나온다."
      ]
    },
    {
      "cell_type": "markdown",
      "metadata": {
        "id": "eeo96F-eNO40"
      },
      "source": [
        "(2) 아래 표현식의 계산 결과를 설명하라."
      ]
    },
    {
      "cell_type": "code",
      "execution_count": 21,
      "metadata": {
        "id": "-EP5tfQSNO40"
      },
      "outputs": [
        {
          "data": {
            "text/plain": [
              "array([ 1,  4, 27])"
            ]
          },
          "execution_count": 21,
          "metadata": {},
          "output_type": "execute_result"
        }
      ],
      "source": [
        "Z**Z"
      ]
    },
    {
      "cell_type": "markdown",
      "metadata": {
        "id": "uOIiKs4BNO40"
      },
      "source": [
        "`코드설명`: 현재 Z = ([1,2,3]) 이고, Z**Z는 각 행과 열이 동일한 위치의 값끼리의 제곱으로 나온다."
      ]
    },
    {
      "cell_type": "markdown",
      "metadata": {
        "id": "wbrd-cFsNO40"
      },
      "source": [
        "(3) 아래 표현식의 계산 결과를 설명하라."
      ]
    },
    {
      "cell_type": "code",
      "execution_count": 22,
      "metadata": {
        "id": "CJfJkqQ8ZhZI"
      },
      "outputs": [
        {
          "data": {
            "text/plain": [
              "array([False, False, False])"
            ]
          },
          "execution_count": 22,
          "metadata": {},
          "output_type": "execute_result"
        }
      ],
      "source": [
        "Z < -Z"
      ]
    },
    {
      "cell_type": "markdown",
      "metadata": {
        "id": "-YHFBHCwNO40"
      },
      "source": [
        "`코드설명`: 각 행과 열이 동일한 위치의 값을 비교한 결과를 반환한다."
      ]
    },
    {
      "cell_type": "markdown",
      "metadata": {
        "id": "0X6LlWH7NO40"
      },
      "source": [
        "(4) 아래 표현식의 계산 결과를 설명하라."
      ]
    },
    {
      "cell_type": "code",
      "execution_count": 23,
      "metadata": {
        "id": "wYc9wQ29ZoHt"
      },
      "outputs": [
        {
          "data": {
            "text/plain": [
              "array([1., 2., 3.])"
            ]
          },
          "execution_count": 23,
          "metadata": {},
          "output_type": "execute_result"
        }
      ],
      "source": [
        "Z/1/1"
      ]
    },
    {
      "cell_type": "markdown",
      "metadata": {
        "id": "cJdBwX9FNO41"
      },
      "source": [
        "`코드설명`: Z = ([1,2,3]) 이고 각 위치에 대해 1로 나눈 결과를 반환한다."
      ]
    },
    {
      "cell_type": "markdown",
      "metadata": {
        "id": "jW5tItipNO41"
      },
      "source": [
        "**문제 6**"
      ]
    },
    {
      "cell_type": "markdown",
      "metadata": {
        "id": "ywl8VvcjNO41"
      },
      "source": [
        "변수 `Z`가 아래 모양의 어레이를 가리키도록 하라.\n",
        "단, `np.linspace()` 함수와 `endpoint` 키워드 인자를 이용한다.\n",
        "\n",
        "```\n",
        "[0. , 0.1, 0.2, 0.3, 0.4, 0.5, 0.6, 0.7, 0.8, 0.9]\n",
        "```"
      ]
    },
    {
      "cell_type": "code",
      "execution_count": 24,
      "metadata": {
        "id": "tnw2Fca6NO41"
      },
      "outputs": [],
      "source": [
        "# None을 적절한 표현식으로 대체하라.\n",
        "Z = np.linspace(0, 1, 10, endpoint=False)\n",
        "\n",
        "# linspace는 시작과 끝을 포함하는데 endpoint=False로 설정하면 끝을 포함하지 않는다.\n",
        "# 보통 곡선 그래프를 그릴 때 사용한다"
      ]
    },
    {
      "cell_type": "markdown",
      "metadata": {
        "id": "YNVyVpTGNO41"
      },
      "source": [
        "아래 코드는 수정하지 마세요!!!"
      ]
    },
    {
      "cell_type": "code",
      "execution_count": 25,
      "metadata": {
        "id": "Q_tARHJ7NO41"
      },
      "outputs": [],
      "source": [
        "assert np.isclose(Z, np.array([0. , 0.1, 0.2, 0.3, 0.4, 0.5, 0.6, 0.7, 0.8, 0.9])).all()"
      ]
    },
    {
      "cell_type": "markdown",
      "metadata": {
        "id": "AQM4bGf6NO41"
      },
      "source": [
        "**문제 7**"
      ]
    },
    {
      "cell_type": "markdown",
      "metadata": {
        "id": "mnuxwG8oNO41",
        "lines_to_next_cell": 0
      },
      "source": [
        "아래 코드의 실행결과를 설명하라."
      ]
    },
    {
      "cell_type": "code",
      "execution_count": 26,
      "metadata": {
        "id": "N5jNffsvNO41"
      },
      "outputs": [
        {
          "name": "stdout",
          "output_type": "stream",
          "text": [
            "800 bytes\n"
          ]
        }
      ],
      "source": [
        "Z = np.zeros((10,10))\n",
        "print(\"%d bytes\" % (Z.size * Z.itemsize))"
      ]
    },
    {
      "cell_type": "markdown",
      "metadata": {
        "id": "WPTbpKyhNO41"
      },
      "source": [
        "`코드설명`: Z는 10열 10행이고 0의 값으로 채워져 있다. 따라서 Z 행렬의 크기는 10x10=100이고 np.zeros의 기본 dtype은 float(64)이기 때문에 64비트, 즉 8바이트의 크기를 가진다."
      ]
    },
    {
      "cell_type": "markdown",
      "metadata": {
        "id": "c0rQ52jENO41"
      },
      "source": [
        "**문제 8**"
      ]
    },
    {
      "cell_type": "markdown",
      "metadata": {
        "id": "cvzj0nPPNO41"
      },
      "source": [
        "다음 리스트에서 0이 아닌 항목들의 인덱스로 구성된 어레이를 한줄 코드로 생성하라.\n",
        "단. `np.nonzero()` 함수를 활용한다."
      ]
    },
    {
      "cell_type": "code",
      "execution_count": 27,
      "metadata": {
        "id": "mqV5mwWKNO41"
      },
      "outputs": [],
      "source": [
        "Z = [1, 2, 0, 0, 4, 0]"
      ]
    },
    {
      "cell_type": "code",
      "execution_count": 28,
      "metadata": {
        "id": "l-oKnoRUNO41"
      },
      "outputs": [],
      "source": [
        "# None을 적절한 표현식으로 대체하라.\n",
        "\n",
        "non_zeros = np.nonzero(Z)"
      ]
    },
    {
      "cell_type": "markdown",
      "metadata": {
        "id": "A-7KpGqKNO41"
      },
      "source": [
        "아래 코드는 수정하지 마세요!!!"
      ]
    },
    {
      "cell_type": "code",
      "execution_count": 29,
      "metadata": {
        "id": "KQG84paQNO41"
      },
      "outputs": [],
      "source": [
        "assert (non_zeros == np.array([0, 1, 4])).all()"
      ]
    },
    {
      "cell_type": "markdown",
      "metadata": {
        "id": "VeCVd0UCNO42"
      },
      "source": [
        "**문제 9**"
      ]
    },
    {
      "cell_type": "markdown",
      "metadata": {
        "id": "W37qJpeTNO42"
      },
      "source": [
        "두 개의 1차원 어레이가 다음과 같이 주어졌다."
      ]
    },
    {
      "cell_type": "code",
      "execution_count": 30,
      "metadata": {
        "id": "ljUFsc-VNO42"
      },
      "outputs": [],
      "source": [
        "A = np.ones(3)*1\n",
        "B = np.ones(3)*2"
      ]
    },
    {
      "cell_type": "markdown",
      "metadata": {
        "id": "bc_zVgsxNO42"
      },
      "source": [
        "아래 코드의 실행 결과를 설명하라."
      ]
    },
    {
      "cell_type": "code",
      "execution_count": 31,
      "metadata": {
        "id": "fUbwXZR8NO42"
      },
      "outputs": [
        {
          "data": {
            "text/plain": [
              "array([-1.5, -1.5, -1.5])"
            ]
          },
          "execution_count": 31,
          "metadata": {},
          "output_type": "execute_result"
        }
      ],
      "source": [
        "(A+B)*(-A/2)"
      ]
    },
    {
      "cell_type": "markdown",
      "metadata": {
        "id": "kQWcn6zjNO42"
      },
      "source": [
        "`코드설명`: A = ([1,1,1]), B = ([2,2,2]) 이기 때문에 (A+B)=([3,3,3]), (-A/2)=([-0.5,-0.5,-0.5]), (A+B)*(-A/2)=([-1.5, -1.5, -1.5]) 이다."
      ]
    },
    {
      "cell_type": "code",
      "execution_count": 32,
      "metadata": {
        "id": "9nHG4585NO42"
      },
      "outputs": [
        {
          "data": {
            "text/plain": [
              "array([3., 3., 3.])"
            ]
          },
          "execution_count": 32,
          "metadata": {},
          "output_type": "execute_result"
        }
      ],
      "source": [
        "np.add(A,B,out=B)"
      ]
    },
    {
      "cell_type": "markdown",
      "metadata": {
        "id": "pQ5HtwALNO42"
      },
      "source": [
        "`코드설명`: A + B 의 결괏값을 B에 저장"
      ]
    },
    {
      "cell_type": "code",
      "execution_count": 33,
      "metadata": {
        "id": "Gi1rtiuuNO42"
      },
      "outputs": [
        {
          "data": {
            "text/plain": [
              "array([0.5, 0.5, 0.5])"
            ]
          },
          "execution_count": 33,
          "metadata": {},
          "output_type": "execute_result"
        }
      ],
      "source": [
        "np.divide(A,2,out=A)"
      ]
    },
    {
      "cell_type": "markdown",
      "metadata": {
        "id": "tCGp2YNANO42"
      },
      "source": [
        "`코드설명`: A / 2 의 결괏값을 A에 저장"
      ]
    },
    {
      "cell_type": "code",
      "execution_count": 34,
      "metadata": {
        "id": "q5bSy7E2NO42"
      },
      "outputs": [
        {
          "data": {
            "text/plain": [
              "array([-0.5, -0.5, -0.5])"
            ]
          },
          "execution_count": 34,
          "metadata": {},
          "output_type": "execute_result"
        }
      ],
      "source": [
        "np.negative(A,out=A)"
      ]
    },
    {
      "cell_type": "markdown",
      "metadata": {
        "id": "D_CoSM7-NO42"
      },
      "source": [
        "`코드설명`: A의 모든 요소에 음수 연산을 적용 후 A에 저장 (지금 A에는 ([0.5, 0.5, 0.5])가 저장이 되어있다)"
      ]
    },
    {
      "cell_type": "code",
      "execution_count": 35,
      "metadata": {
        "id": "o7cNHvDNNO42"
      },
      "outputs": [
        {
          "data": {
            "text/plain": [
              "array([-1.5, -1.5, -1.5])"
            ]
          },
          "execution_count": 35,
          "metadata": {},
          "output_type": "execute_result"
        }
      ],
      "source": [
        "np.multiply(A,B,out=A)"
      ]
    },
    {
      "cell_type": "markdown",
      "metadata": {
        "id": "d5cWeyahNO42"
      },
      "source": [
        "`코드설명`: AxB의 결괏값을 A에 저장"
      ]
    },
    {
      "cell_type": "markdown",
      "metadata": {
        "id": "MKXHeqDXNO42"
      },
      "source": [
        "## 2차원 어레이"
      ]
    },
    {
      "cell_type": "markdown",
      "metadata": {
        "id": "i79zsCdkNO42"
      },
      "source": [
        "**문제 1**"
      ]
    },
    {
      "cell_type": "markdown",
      "metadata": {
        "id": "ytQvkzryNO42"
      },
      "source": [
        "변수 `Z`가 (5, 5) 모양의 2차원 어레이를 가리키도록 하라.\n",
        "단, 어레이의 항목은 0과 1 사이의 임의의 부동소수점으로 구성되어야 한다.\n",
        "또한 `np.random.random()` 함수를 이용한다."
      ]
    },
    {
      "cell_type": "code",
      "execution_count": 36,
      "metadata": {
        "id": "BFGSYk30NO42"
      },
      "outputs": [
        {
          "name": "stdout",
          "output_type": "stream",
          "text": [
            "[[0.75616333 0.34757152 0.66491172 0.79544996 0.92717782]\n",
            " [0.23464208 0.39931592 0.15241601 0.9924835  0.92700097]\n",
            " [0.53995713 0.84203329 0.52095798 0.62358569 0.08912443]\n",
            " [0.75527042 0.12771348 0.82606763 0.78202809 0.7087447 ]\n",
            " [0.03616038 0.30312836 0.26311257 0.36013641 0.08764275]]\n"
          ]
        }
      ],
      "source": [
        "# None을 적절한 표현식으로 대체하라.\n",
        "Z = np.random.random(25)\n",
        "Z = np.reshape(Z, (5,5))\n",
        "print(Z)"
      ]
    },
    {
      "cell_type": "markdown",
      "metadata": {
        "id": "Y0f6BkMGNO42"
      },
      "source": [
        "아래 코드는 수정하지 마세요!!!"
      ]
    },
    {
      "cell_type": "code",
      "execution_count": 37,
      "metadata": {
        "id": "UE3nA2tqNO43"
      },
      "outputs": [],
      "source": [
        "assert (Z.shape == (5, 5))\n",
        "assert (Z.dtype == np.float64)"
      ]
    },
    {
      "cell_type": "markdown",
      "metadata": {
        "id": "LaeAMLU9NO43"
      },
      "source": [
        "**문제 2**"
      ]
    },
    {
      "cell_type": "markdown",
      "metadata": {
        "id": "K3IRP0_yzg5h"
      },
      "source": [
        "변수 `Z`가 0에서 8까지의 정수로 이루어진 (3, 3) 모양의 2차원 어레이를 가리키도록 하라.\n",
        "단, `np.arange()` 함수와 `reshape()` 어레이 메서드를 반드시 이용한다."
      ]
    },
    {
      "cell_type": "code",
      "execution_count": 38,
      "metadata": {
        "id": "3TnVoMehK1vg"
      },
      "outputs": [
        {
          "name": "stdout",
          "output_type": "stream",
          "text": [
            "[[0 1 2]\n",
            " [3 4 5]\n",
            " [6 7 8]]\n"
          ]
        }
      ],
      "source": [
        "# None을 적절한 표현식으로 대체하라.\n",
        "Z = np.arange(9)\n",
        "Z = Z.reshape(3,3)\n",
        "print(Z)"
      ]
    },
    {
      "cell_type": "markdown",
      "metadata": {
        "id": "tI8s3-yONO43"
      },
      "source": [
        "아래 코드는 수정하지 마세요!!!"
      ]
    },
    {
      "cell_type": "code",
      "execution_count": 39,
      "metadata": {
        "id": "E1_WWY_5NO43"
      },
      "outputs": [],
      "source": [
        "assert (Z == np.array([[0, 1, 2],\n",
        "                       [3, 4, 5],\n",
        "                       [6, 7, 8]])).all()"
      ]
    },
    {
      "cell_type": "markdown",
      "metadata": {
        "id": "VbyIkL98NO43"
      },
      "source": [
        "**문제 3**"
      ]
    },
    {
      "cell_type": "markdown",
      "metadata": {
        "id": "b5ucuRvGNO43"
      },
      "source": [
        "변수 `Z`가 (3, 3) 모양의 2차원 어레이를 가리키도록 하라.\n",
        "단, 2차원 어레이의 대각선 상은 1이고 나머지는 0이어야 한다.\n",
        "또한 `np.eye()` 함수를 반드시 이용한다."
      ]
    },
    {
      "cell_type": "code",
      "execution_count": 40,
      "metadata": {
        "id": "hF_WIcFkLDEM"
      },
      "outputs": [
        {
          "name": "stdout",
          "output_type": "stream",
          "text": [
            "[[1. 0. 0.]\n",
            " [0. 1. 0.]\n",
            " [0. 0. 1.]]\n"
          ]
        }
      ],
      "source": [
        "# None을 적절한 표현식으로 대체하라.\n",
        "Z = np.eye(3)\n",
        "print(Z)"
      ]
    },
    {
      "cell_type": "markdown",
      "metadata": {
        "id": "BOybqamoNO43"
      },
      "source": [
        "아래 코드는 수정하지 마세요!!!"
      ]
    },
    {
      "cell_type": "code",
      "execution_count": 41,
      "metadata": {
        "id": "6Ecen6YVNO43"
      },
      "outputs": [],
      "source": [
        "assert (Z == np.array([[1., 0., 0.],\n",
        "                       [0., 1., 0.],\n",
        "                       [0., 0., 1.]])).all"
      ]
    },
    {
      "cell_type": "markdown",
      "metadata": {
        "id": "61WXAZxpNO43"
      },
      "source": [
        "**문제 4**"
      ]
    },
    {
      "cell_type": "markdown",
      "metadata": {
        "id": "CwKAFlZ9NO43"
      },
      "source": [
        "변수 `Z`가 아래와 같은 (5,5) 모양의 2차원 어레이를 가리키도록 하라.\n",
        "단, `np.arange()` 함수와 `np.diag()` 함수의 `k` 키워드 인자를 반드시 활용한다.\n",
        "\n",
        "```\n",
        "[[0 0 0 0 0]\n",
        " [1 0 0 0 0]\n",
        " [0 2 0 0 0]\n",
        " [0 0 3 0 0]\n",
        " [0 0 0 4 0]]\n",
        "```"
      ]
    },
    {
      "cell_type": "code",
      "execution_count": 42,
      "metadata": {
        "id": "yqe6rLXMMbiN"
      },
      "outputs": [
        {
          "name": "stdout",
          "output_type": "stream",
          "text": [
            "[[0 0 0 0 0]\n",
            " [1 0 0 0 0]\n",
            " [0 2 0 0 0]\n",
            " [0 0 3 0 0]\n",
            " [0 0 0 4 0]]\n"
          ]
        }
      ],
      "source": [
        "# None을 적절한 표현식으로 대체하라.\n",
        "Z = np.array(25)\n",
        "Z = np.diag(np.arange(1, 5), k=-1)\n",
        "print(Z)"
      ]
    },
    {
      "cell_type": "markdown",
      "metadata": {
        "id": "0liqVsdpNO43"
      },
      "source": [
        "아래 코드는 수정하지 마세요!!!"
      ]
    },
    {
      "cell_type": "code",
      "execution_count": 43,
      "metadata": {
        "id": "Sd57reTZNO43"
      },
      "outputs": [],
      "source": [
        "assert (Z == np.array([[0, 0, 0, 0, 0],\n",
        "                        [1, 0, 0, 0, 0],\n",
        "                        [0, 2, 0, 0, 0],\n",
        "                        [0, 0, 3, 0, 0],\n",
        "                        [0, 0, 0, 4, 0]])).all()"
      ]
    },
    {
      "cell_type": "markdown",
      "metadata": {
        "id": "Jj7x0rJoNO43"
      },
      "source": [
        "**문제 5**"
      ]
    },
    {
      "cell_type": "markdown",
      "metadata": {
        "id": "xuMS-uueNO43"
      },
      "source": [
        "변수 `Z`가 아래와 같은 (5, 5) 모양의 2차원 어레이를 가리키도록 하라.\n",
        "단, `np.zeros()` 함수, `np.arange()` 함수, 2차원 어레이 덧셈을 이용한다.\n",
        "\n",
        "```\n",
        "[[0. 1. 2. 3. 4.]\n",
        " [0. 1. 2. 3. 4.]\n",
        " [0. 1. 2. 3. 4.]\n",
        " [0. 1. 2. 3. 4.]\n",
        " [0. 1. 2. 3. 4.]]\n",
        "```"
      ]
    },
    {
      "cell_type": "code",
      "execution_count": 44,
      "metadata": {
        "id": "1eXRQS31czdk"
      },
      "outputs": [],
      "source": [
        "# None을 적절한 표현식으로 대체하라.\n",
        "Z = np.zeros((5,5)) + np.arange(5)"
      ]
    },
    {
      "cell_type": "markdown",
      "metadata": {
        "id": "NBiBDZktNO44"
      },
      "source": [
        "아래 코드는 수정하지 마세요!!!"
      ]
    },
    {
      "cell_type": "code",
      "execution_count": 45,
      "metadata": {
        "id": "fV96tAtRNO44"
      },
      "outputs": [],
      "source": [
        "assert (Z == np.array([[0., 1., 2., 3., 4.],\n",
        "                        [0., 1., 2., 3., 4.],\n",
        "                        [0., 1., 2., 3., 4.],\n",
        "                        [0., 1., 2., 3., 4.],\n",
        "                        [0., 1., 2., 3., 4.]])).all()"
      ]
    },
    {
      "cell_type": "markdown",
      "metadata": {
        "id": "VOaHv-5HNO44"
      },
      "source": [
        "**문제 6**"
      ]
    },
    {
      "cell_type": "markdown",
      "metadata": {
        "id": "_dMaSgjqNO44"
      },
      "source": [
        "아래 3x3 단위 행렬에 해당하는 2차원 어레이를 한줄 코드로 생성하라.\n",
        "단, `np.eye()` 함수를 이용한다.\n",
        "\n",
        "```\n",
        "[[1. 0. 0.]\n",
        " [0. 1. 0.]\n",
        " [0. 0. 1.]]\n",
        "```"
      ]
    },
    {
      "cell_type": "code",
      "execution_count": 46,
      "metadata": {
        "id": "O5nFUhN0NO44"
      },
      "outputs": [],
      "source": [
        "# None을 적절한 표현식으로 대체하라.\n",
        "Z = np.eye(3)"
      ]
    },
    {
      "cell_type": "markdown",
      "metadata": {
        "id": "RaQOn4fZNO44"
      },
      "source": [
        "아래 코드는 수정하지 마세요!!!"
      ]
    },
    {
      "cell_type": "code",
      "execution_count": 47,
      "metadata": {
        "id": "8NFnxIdfNO44"
      },
      "outputs": [],
      "source": [
        "assert (Z == np.array([[1., 0., 0.],\n",
        "                       [0., 1., 0.],\n",
        "                       [0., 0., 1.]])).all()"
      ]
    },
    {
      "cell_type": "markdown",
      "metadata": {
        "id": "G3ScNPPaNO44"
      },
      "source": [
        "**문제 7**"
      ]
    },
    {
      "cell_type": "markdown",
      "metadata": {
        "id": "fJ-lmvJJNO44"
      },
      "source": [
        "무작위 수로 구성된 (5, 5) 모양의 2차원 어레이가 다음과 같다."
      ]
    },
    {
      "cell_type": "code",
      "execution_count": 48,
      "metadata": {
        "id": "OtQ3_A3QNO44"
      },
      "outputs": [],
      "source": [
        "# 지정한 범위로 값을 조정하는 것: 정규화 (0~1 사이의 값으로 조정이 default)\n",
        "# 대원칙: 인공지능은 학습 전에 데이터 정규화가 되어있어야 한다.\n",
        "\n",
        "Z = np.random.random((5, 5))"
      ]
    },
    {
      "cell_type": "markdown",
      "metadata": {
        "id": "FIdXlzf9NO44"
      },
      "source": [
        "변수 `Z`가 가리키는 2차원 어레이에 대해 min-max 크기조정(정규화)을 적용하라.\n",
        "\n",
        "min-max 크기조정(정규화)은 항목의 모든 값을 아래 식을 통해 0과 1 사이의 부동소수점으로 변환한다. $max$와 $min$은 각각 최대 항목과 최소 항목을 가리킨다.\n",
        "\n",
        "$$\n",
        "\\frac{x-min}{max - min}\n",
        "$$"
      ]
    },
    {
      "cell_type": "code",
      "execution_count": 49,
      "metadata": {
        "id": "DFyK7l-zNO44"
      },
      "outputs": [],
      "source": [
        "# None을 적절한 표현식으로 대체하라.\n",
        "Z = (Z-Z.min())/(Z.max()-Z.min())"
      ]
    },
    {
      "cell_type": "markdown",
      "metadata": {
        "id": "AeSCi63YNO44"
      },
      "source": [
        "아래 코드는 수정하지 마세요!!!"
      ]
    },
    {
      "cell_type": "code",
      "execution_count": 50,
      "metadata": {
        "id": "yKfNHutKNO44"
      },
      "outputs": [],
      "source": [
        "assert (Z.max() == 1 and Z.min() == 0)"
      ]
    },
    {
      "cell_type": "markdown",
      "metadata": {
        "id": "Hkwd6X7XNO44"
      },
      "source": [
        "## 3차원 어레이"
      ]
    },
    {
      "cell_type": "markdown",
      "metadata": {
        "id": "NSHWjf5bNO44"
      },
      "source": [
        "**문제 1**"
      ]
    },
    {
      "cell_type": "markdown",
      "metadata": {
        "id": "N-W3Ozf3NO44"
      },
      "source": [
        "(1) 변수 `Z`가 (3, 3, 3) 모양의 3차원 어레이를 가리키도록 하라.\n",
        "단, 어레이의 항목은 0과 1 사이의 임의의 부동소수점으로 구성되어야 한다.\n",
        "또한 `np.random.random()` 함수를 이용한다."
      ]
    },
    {
      "cell_type": "code",
      "execution_count": 51,
      "metadata": {
        "id": "v-K8hejPLP11"
      },
      "outputs": [],
      "source": [
        "# None을 적절한 표현식으로 대체하라.\n",
        "Z = np.random.random((3,3,3))"
      ]
    },
    {
      "cell_type": "markdown",
      "metadata": {
        "id": "CWze2B7oNO44"
      },
      "source": [
        "아래 코드는 수정하지 마세요!!!"
      ]
    },
    {
      "cell_type": "code",
      "execution_count": 52,
      "metadata": {
        "id": "U3JsRxd_NO44"
      },
      "outputs": [],
      "source": [
        "assert (Z.shape == (3, 3, 3))\n",
        "assert (Z.dtype == 'f8')"
      ]
    },
    {
      "cell_type": "markdown",
      "metadata": {
        "id": "d7yiO_ueNO44"
      },
      "source": [
        "(2) `Z`에 포함된 항목들 중에서 최댓값과 최솟값의 차이를 구하라.\n",
        "단, `maximum`, `mininum` 두 변수가 각각 최댓값과 최솟값을 가리키도록 하며,\n",
        "`max()`와 `min()` 어레이 메서드를 이용한다."
      ]
    },
    {
      "cell_type": "code",
      "execution_count": 53,
      "metadata": {
        "id": "6wMtXJFoNO44"
      },
      "outputs": [],
      "source": [
        "# None을 적절한 표현식으로 대체하라.\n",
        "maximum = Z.max()\n",
        "minimum = Z.min()"
      ]
    },
    {
      "cell_type": "markdown",
      "metadata": {
        "id": "kBDK8-JzNO44"
      },
      "source": [
        "아래 코드는 수정하지 마세요!!!"
      ]
    },
    {
      "cell_type": "code",
      "execution_count": 54,
      "metadata": {
        "id": "6goDw_gNNO44"
      },
      "outputs": [
        {
          "name": "stdout",
          "output_type": "stream",
          "text": [
            "최댓값과 최솟값의 차이: 0.9497982939104279\n"
          ]
        }
      ],
      "source": [
        "print(f\"최댓값과 최솟값의 차이: {maximum - minimum}\")"
      ]
    },
    {
      "cell_type": "markdown",
      "metadata": {
        "id": "LIyFc8UCNO44"
      },
      "source": [
        "## `dtype` 종류"
      ]
    },
    {
      "cell_type": "markdown",
      "metadata": {
        "id": "CjIEnJLHNO44"
      },
      "source": [
        "**문제 1**"
      ]
    },
    {
      "cell_type": "markdown",
      "metadata": {
        "id": "cB1TJKKUNO44"
      },
      "source": [
        "아래 두 코드의 실행결과를 설명하라."
      ]
    },
    {
      "cell_type": "code",
      "execution_count": 55,
      "metadata": {
        "id": "z5WxojeWNO44"
      },
      "outputs": [
        {
          "name": "stdout",
          "output_type": "stream",
          "text": [
            "-128\n",
            "127\n",
            "-2147483648\n",
            "2147483647\n",
            "-9223372036854775808\n",
            "9223372036854775807\n"
          ]
        }
      ],
      "source": [
        "for dtype in [np.int8, np.int32, np.int64]:\n",
        "    print(np.iinfo(dtype).min)\n",
        "    print(np.iinfo(dtype).max)"
      ]
    },
    {
      "cell_type": "markdown",
      "metadata": {
        "id": "9-tOV_bqNO44"
      },
      "source": [
        "`코드설명`: 정수형 자료형에 허용되는 비트수에 따른 최소값과 최대값\n",
        "\n",
        "> 8비트 정수형 (np.int8): -128에서 127 사이의 정수\n",
        "> 16비트 정수형 (np.int32): -2147483648에서 2147483647 사이의 정수\n",
        "> 32비트 정수형 (np.int32): -9223372036854775808에서 9223372036854775808 사이의 정수"
      ]
    },
    {
      "cell_type": "code",
      "execution_count": 56,
      "metadata": {
        "id": "Mmwip-gVNO44"
      },
      "outputs": [
        {
          "name": "stdout",
          "output_type": "stream",
          "text": [
            "-3.4028235e+38\n",
            "3.4028235e+38\n",
            "1.1920929e-07\n",
            "-1.7976931348623157e+308\n",
            "1.7976931348623157e+308\n",
            "2.220446049250313e-16\n"
          ]
        }
      ],
      "source": [
        "for dtype in [np.float32, np.float64]:\n",
        "    print(np.finfo(dtype).min)\n",
        "    print(np.finfo(dtype).max)\n",
        "    print(np.finfo(dtype).eps)  # eps: 앱실론, 매우 작은 값"
      ]
    },
    {
      "cell_type": "markdown",
      "metadata": {
        "id": "7or0G8__NO45"
      },
      "source": [
        "`코드설명`: 부동소수점 자료형에 허용되는 비트수에 따른 최소값과 최대값"
      ]
    },
    {
      "cell_type": "markdown",
      "metadata": {
        "id": "5tq4Dc1UNO45"
      },
      "source": [
        "**문제 2**"
      ]
    },
    {
      "cell_type": "markdown",
      "metadata": {
        "id": "Xp8jDEWmNO45"
      },
      "source": [
        "부동소수점으로 구성된 1차원 어레이가 아래와 같이 주어졌다."
      ]
    },
    {
      "cell_type": "code",
      "execution_count": 57,
      "metadata": {
        "id": "AJErvY5yNO45"
      },
      "outputs": [
        {
          "data": {
            "text/plain": [
              "array([21.603819 , 61.958794 , 65.02011  , 15.202485 ,  6.1349626,\n",
              "       78.07616  , 45.98004  ,  5.8163795, 99.48663  ,  5.778056 ],\n",
              "      dtype=float32)"
            ]
          },
          "execution_count": 57,
          "metadata": {},
          "output_type": "execute_result"
        }
      ],
      "source": [
        "Z = (np.random.rand(10)*100).astype(np.float32)\n",
        "Z"
      ]
    },
    {
      "cell_type": "markdown",
      "metadata": {
        "id": "z0dfPcSTNO45"
      },
      "source": [
        "변수 `Y`가 변수 `Z`가 가리키는 1차원 어레이의 dtype이 `int32`로 형변환된 1차원 어레이를 가리키도록 하라.\n",
        "단, `astype()` 메서드를 이용한다."
      ]
    },
    {
      "cell_type": "code",
      "execution_count": 58,
      "metadata": {
        "id": "kRECXIbHNO45"
      },
      "outputs": [
        {
          "data": {
            "text/plain": [
              "array([21, 61, 65, 15,  6, 78, 45,  5, 99,  5], dtype=int32)"
            ]
          },
          "execution_count": 58,
          "metadata": {},
          "output_type": "execute_result"
        }
      ],
      "source": [
        "# None을 적절한 표현식으로 대체하라.\n",
        "Y = Z.astype(np.int32)\n",
        "Y"
      ]
    },
    {
      "cell_type": "markdown",
      "metadata": {
        "id": "UG1tes0GNO45"
      },
      "source": [
        "아래 코드는 수정하지 마세요!!!"
      ]
    },
    {
      "cell_type": "code",
      "execution_count": 59,
      "metadata": {
        "id": "hBLoHCTaNO45"
      },
      "outputs": [],
      "source": [
        "assert (Y.shape == (10,))\n",
        "assert (Y.dtype == np.int32)"
      ]
    },
    {
      "cell_type": "markdown",
      "metadata": {
        "id": "_k50C5_MNO45"
      },
      "source": [
        "**문제 3**"
      ]
    },
    {
      "cell_type": "markdown",
      "metadata": {
        "id": "feaEmfxaNO45"
      },
      "source": [
        "변수 `Z`가 아래와 같이 무작위로 생성된 길이가 10인 1차원 어레이를 가리킨다."
      ]
    },
    {
      "cell_type": "code",
      "execution_count": 60,
      "metadata": {
        "id": "nUj-z_HINO45"
      },
      "outputs": [
        {
          "data": {
            "text/plain": [
              "array([6.95035229, 9.83678925, 2.39180104, 1.42249369, 1.21384939,\n",
              "       3.03275148, 1.01045811, 6.92161342, 0.62291798, 5.09422128])"
            ]
          },
          "execution_count": 60,
          "metadata": {},
          "output_type": "execute_result"
        }
      ],
      "source": [
        "Z = np.random.uniform(0,10,10)\n",
        "Z"
      ]
    },
    {
      "cell_type": "markdown",
      "metadata": {
        "id": "JdoSef50NO45"
      },
      "source": [
        "(1) 나머지 연산자(`%`)를 이용하여 정수로만 구성된 어레이 `Y`를 생성하라."
      ]
    },
    {
      "cell_type": "code",
      "execution_count": 61,
      "metadata": {
        "id": "bKCz6KAdNO45"
      },
      "outputs": [
        {
          "data": {
            "text/plain": [
              "array([6., 9., 2., 1., 1., 3., 1., 6., 0., 5.])"
            ]
          },
          "execution_count": 61,
          "metadata": {},
          "output_type": "execute_result"
        }
      ],
      "source": [
        "# None을 적절한 표현식으로 대체하라.\n",
        "Y = Z - Z%1\n",
        "Y"
      ]
    },
    {
      "cell_type": "markdown",
      "metadata": {
        "id": "a5H_hiJtNO45"
      },
      "source": [
        "아래 코드는 수정하지 마세요!!!"
      ]
    },
    {
      "cell_type": "code",
      "execution_count": 62,
      "metadata": {
        "id": "SKUROBGwNO45"
      },
      "outputs": [],
      "source": [
        "assert (Y == Z.astype(np.int32)).all()"
      ]
    },
    {
      "cell_type": "markdown",
      "metadata": {
        "id": "D20hfF3uNO45"
      },
      "source": [
        "(2) 몫 연산자(`//`)를 이용하여 정수로만 구성된 어레이 `Y`를 생성하라."
      ]
    },
    {
      "cell_type": "code",
      "execution_count": 63,
      "metadata": {
        "id": "djTjuTeaNO45"
      },
      "outputs": [],
      "source": [
        "# None을 적절한 표현식으로 대체하라.\n",
        "Y = Z//1"
      ]
    },
    {
      "cell_type": "markdown",
      "metadata": {
        "id": "vqazn9pmNO45"
      },
      "source": [
        "아래 코드는 수정하지 마세요!!!"
      ]
    },
    {
      "cell_type": "code",
      "execution_count": 64,
      "metadata": {
        "id": "sjKRs_MNNO45"
      },
      "outputs": [],
      "source": [
        "assert (Y == Z.astype(np.int32)).all()"
      ]
    },
    {
      "cell_type": "markdown",
      "metadata": {
        "id": "kROBqrWcNO45"
      },
      "source": [
        "(3) 내림 함수 `np.floor()` 함수를 이용하여 정수로만 구성된 어레이 `Y`를 생성하라."
      ]
    },
    {
      "cell_type": "code",
      "execution_count": 65,
      "metadata": {
        "id": "MhQfDP3NNO45"
      },
      "outputs": [],
      "source": [
        "# None을 적절한 표현식으로 대체하라.\n",
        "Y = np.floor(Z)"
      ]
    },
    {
      "cell_type": "markdown",
      "metadata": {
        "id": "JsyLJgHvNO45"
      },
      "source": [
        "아래 코드는 수정하지 마세요!!!"
      ]
    },
    {
      "cell_type": "code",
      "execution_count": 66,
      "metadata": {
        "id": "UKcozOVMNO45"
      },
      "outputs": [],
      "source": [
        "assert (Y == Z.astype(np.int32)).all()"
      ]
    },
    {
      "cell_type": "markdown",
      "metadata": {
        "id": "2fEfbDATNO45"
      },
      "source": [
        "(4) `np.trunc()` 함수를 이용하여 정수로만 구성된 어레이 `Y`를 생성하라."
      ]
    },
    {
      "cell_type": "code",
      "execution_count": 67,
      "metadata": {
        "id": "zlVsn2i-NO45"
      },
      "outputs": [],
      "source": [
        "# None을 적절한 표현식으로 대체하라.\n",
        "Y = np.trunc(Z)"
      ]
    },
    {
      "cell_type": "markdown",
      "metadata": {
        "id": "zbZtMjhlNO45"
      },
      "source": [
        "아래 코드는 수정하지 마세요!!!"
      ]
    },
    {
      "cell_type": "code",
      "execution_count": 68,
      "metadata": {
        "id": "z98ZJGxJNO45"
      },
      "outputs": [],
      "source": [
        "assert (Y == Z.astype(np.int32)).all()"
      ]
    }
  ],
  "metadata": {
    "colab": {
      "provenance": []
    },
    "kernelspec": {
      "display_name": "Python 3",
      "language": "python",
      "name": "python3"
    },
    "language_info": {
      "codemirror_mode": {
        "name": "ipython",
        "version": 3
      },
      "file_extension": ".py",
      "mimetype": "text/x-python",
      "name": "python",
      "nbconvert_exporter": "python",
      "pygments_lexer": "ipython3",
      "version": "3.9.6"
    }
  },
  "nbformat": 4,
  "nbformat_minor": 0
}
