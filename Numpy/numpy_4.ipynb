{
  "cells": [
    {
      "cell_type": "markdown",
      "metadata": {
        "id": "88X5eaHlAFRv"
      },
      "source": [
        "(sec:numpy_4)=\n",
        "# 어레이 변형"
      ]
    },
    {
      "cell_type": "markdown",
      "metadata": {
        "id": "vJexocV0AFRx"
      },
      "source": [
        "어레이의 모양을 변형해서 새로운 어레이를 생성하는 다양한 방식을 살펴본다."
      ]
    },
    {
      "cell_type": "markdown",
      "metadata": {
        "id": "-fXuuTOwAFRy"
      },
      "source": [
        "**주요 내용**\n",
        "\n",
        "* 어레이 변형\n",
        "* 차원 추가와 삭제\n",
        "* 어레이 이어붙이기/쌓기\n",
        "* 브로드캐스팅"
      ]
    },
    {
      "cell_type": "markdown",
      "metadata": {
        "id": "53jKGVeyAFRy"
      },
      "source": [
        "**기본 설정**\n",
        "\n",
        "`numpy` 모듈과 시각화 도구 모듈인 `matplotlib.pyplot`에 대한 기본 설정을 지정한다."
      ]
    },
    {
      "cell_type": "code",
      "execution_count": 1,
      "metadata": {
        "id": "v5GRotwDAFRy"
      },
      "outputs": [],
      "source": [
        "# 넘파이\n",
        "import numpy as np\n",
        "\n",
        "# 램덤 시드\n",
        "np.random.seed(12345)\n",
        "\n",
        "# 어레이 사용되는 부동소수점들의 정확도 지정\n",
        "np.set_printoptions(precision=4, suppress=True)"
      ]
    },
    {
      "cell_type": "code",
      "execution_count": 2,
      "metadata": {
        "id": "Gc3oGmGOAFRz"
      },
      "outputs": [],
      "source": [
        "# 파이플롯\n",
        "import matplotlib.pyplot as plt\n",
        "\n",
        "# 도표 크기 지정\n",
        "plt.rc('figure', figsize=(10, 6))"
      ]
    },
    {
      "cell_type": "markdown",
      "metadata": {
        "id": "tpnOhmE9AFRz"
      },
      "source": [
        "## 차원 추가와 삭제"
      ]
    },
    {
      "cell_type": "markdown",
      "metadata": {
        "id": "TK4G6-aMAFRz"
      },
      "source": [
        "`reshape()` 메서드와 함께\n",
        "항목은 그대로 유지하면서 어레이의 모양만 변형시키는 방법으로\n",
        "차원 추가와 삭제 기법이 활용된다."
      ]
    },
    {
      "cell_type": "markdown",
      "metadata": {
        "id": "aukzjeOBAFRz"
      },
      "source": [
        "### 차원 추가"
      ]
    },
    {
      "cell_type": "markdown",
      "metadata": {
        "id": "pmHT3yp2AFR0"
      },
      "source": [
        "어레이에 임의의 축을 추가하는 방식으로 차원이 하나 더 추가된 어레이를 생성할 수 있다.\n",
        "어느 축을 추가하느냐에 따라 생성된 어레이의  모양은 달라진다."
      ]
    },
    {
      "cell_type": "markdown",
      "metadata": {
        "id": "VSbBeqKnAFR0"
      },
      "source": [
        "**예제**"
      ]
    },
    {
      "cell_type": "markdown",
      "metadata": {
        "id": "ys_mG5bwAFR0"
      },
      "source": [
        "다음 길이가 3인 1차원 어레이를 이용하자."
      ]
    },
    {
      "cell_type": "code",
      "execution_count": 8,
      "metadata": {
        "id": "XJj4bmkmAFR0",
        "outputId": "644d609f-d19a-43c0-8ab7-d680dcca22e5"
      },
      "outputs": [
        {
          "name": "stdout",
          "output_type": "stream",
          "text": [
            "[0.275  0.2289 1.3529]\n",
            "(3,)\n"
          ]
        }
      ],
      "source": [
        "arr_1d = np.random.normal(size=3)\n",
        "print(arr_1d)\n",
        "print(arr_1d.shape)"
      ]
    },
    {
      "cell_type": "markdown",
      "metadata": {
        "id": "x8XzWumTAFR0"
      },
      "source": [
        "`arr_1d`는 원래 0번 축 하나만 갖는데,\n",
        "아래 코드는 여기에 1번 축을 추가하여 2차원 어레이로 만든다."
      ]
    },
    {
      "cell_type": "code",
      "execution_count": 9,
      "metadata": {
        "id": "NQemyU01AFR1",
        "outputId": "87162f72-b67e-45bc-e714-68447f5e0c2c"
      },
      "outputs": [
        {
          "data": {
            "text/plain": [
              "array([[0.275 ],\n",
              "       [0.2289],\n",
              "       [1.3529]])"
            ]
          },
          "execution_count": 9,
          "metadata": {},
          "output_type": "execute_result"
        }
      ],
      "source": [
        "arr_1d[:, np.newaxis]"
      ]
    },
    {
      "cell_type": "markdown",
      "metadata": {
        "id": "dWrW9c3RAFR1"
      },
      "source": [
        "`reshape()` 메소드로도 동일한 결과를 얻을 수 있다."
      ]
    },
    {
      "cell_type": "code",
      "execution_count": 10,
      "metadata": {
        "id": "XuX1mNA6AFR1",
        "outputId": "bcea124f-9bc6-4f33-8268-7d45b23ba017"
      },
      "outputs": [
        {
          "data": {
            "text/plain": [
              "array([[0.275 ],\n",
              "       [0.2289],\n",
              "       [1.3529]])"
            ]
          },
          "execution_count": 10,
          "metadata": {},
          "output_type": "execute_result"
        }
      ],
      "source": [
        "arr_1d.reshape((3, 1))"
      ]
    },
    {
      "cell_type": "markdown",
      "metadata": {
        "id": "BrDaP8P-AFR1"
      },
      "source": [
        "아래 코드는 기존의 0번 축을 1번 축으로 바꾼다."
      ]
    },
    {
      "cell_type": "code",
      "execution_count": 11,
      "metadata": {
        "id": "q61bqTjIAFR1",
        "outputId": "6cb59aa6-b2fd-4424-a2bd-e30e3b7010e7"
      },
      "outputs": [
        {
          "data": {
            "text/plain": [
              "array([[0.275 , 0.2289, 1.3529]])"
            ]
          },
          "execution_count": 11,
          "metadata": {},
          "output_type": "execute_result"
        }
      ],
      "source": [
        "arr_1d[np.newaxis, :]"
      ]
    },
    {
      "cell_type": "markdown",
      "metadata": {
        "id": "0UdC0FxPAFR1"
      },
      "source": [
        "`reshape()` 메소드로도 동일한 결과를 얻을 수 있다."
      ]
    },
    {
      "cell_type": "code",
      "execution_count": 12,
      "metadata": {
        "id": "T2qrhkpnAFR2",
        "outputId": "104bd142-09e9-476f-c720-ebc49550a2f0"
      },
      "outputs": [
        {
          "data": {
            "text/plain": [
              "array([[0.275 , 0.2289, 1.3529]])"
            ]
          },
          "execution_count": 12,
          "metadata": {},
          "output_type": "execute_result"
        }
      ],
      "source": [
        "arr_1d.reshape((1,3))"
      ]
    },
    {
      "cell_type": "markdown",
      "metadata": {
        "id": "XreKz8ACAFR2"
      },
      "source": [
        "**예제**"
      ]
    },
    {
      "cell_type": "markdown",
      "metadata": {
        "id": "jTCQ-qJvAFR2"
      },
      "source": [
        "2차원 어레이에 축을 추가하면 3차원 어레이가 생성되며, 작동방식은 앞서와 동일하다."
      ]
    },
    {
      "cell_type": "code",
      "execution_count": 29,
      "metadata": {
        "id": "QI9PR61kAFR2",
        "outputId": "018e88b6-ff6b-4c20-8ad5-954d0ed028cc"
      },
      "outputs": [
        {
          "data": {
            "text/plain": [
              "array([[-0.153 , -0.7519, -0.1326],\n",
              "       [ 1.4573,  0.6095, -0.4938],\n",
              "       [ 1.24  , -0.1357,  1.43  ],\n",
              "       [-0.8469,  0.6033,  1.2636]])"
            ]
          },
          "execution_count": 29,
          "metadata": {},
          "output_type": "execute_result"
        }
      ],
      "source": [
        "arr = np.random.normal(size=(4, 3))\n",
        "arr"
      ]
    },
    {
      "cell_type": "code",
      "execution_count": 30,
      "metadata": {
        "id": "hft6A8XGAFR2",
        "outputId": "79549889-bd0a-4eb2-b9d3-c76b50b6750f"
      },
      "outputs": [
        {
          "data": {
            "text/plain": [
              "(4, 3, 1)"
            ]
          },
          "execution_count": 30,
          "metadata": {},
          "output_type": "execute_result"
        }
      ],
      "source": [
        "arr[:,:,np.newaxis].shape"
      ]
    },
    {
      "cell_type": "code",
      "execution_count": 31,
      "metadata": {
        "id": "VlW_b-mIAFR2",
        "outputId": "201d9a2c-7e96-4899-ebbb-abd08df8ae0b"
      },
      "outputs": [
        {
          "data": {
            "text/plain": [
              "array([[[-0.153 ],\n",
              "        [-0.7519],\n",
              "        [-0.1326]],\n",
              "\n",
              "       [[ 1.4573],\n",
              "        [ 0.6095],\n",
              "        [-0.4938]],\n",
              "\n",
              "       [[ 1.24  ],\n",
              "        [-0.1357],\n",
              "        [ 1.43  ]],\n",
              "\n",
              "       [[-0.8469],\n",
              "        [ 0.6033],\n",
              "        [ 1.2636]]])"
            ]
          },
          "execution_count": 31,
          "metadata": {},
          "output_type": "execute_result"
        }
      ],
      "source": [
        "arr[:,:,np.newaxis]  # 3행 1열"
      ]
    },
    {
      "cell_type": "code",
      "execution_count": 32,
      "metadata": {
        "id": "uu8kA9cOAFR2",
        "outputId": "f28fe80b-69b7-435a-dfcd-58d00fbbf8a3"
      },
      "outputs": [
        {
          "data": {
            "text/plain": [
              "(4, 1, 3)"
            ]
          },
          "execution_count": 32,
          "metadata": {},
          "output_type": "execute_result"
        }
      ],
      "source": [
        "arr[:,np.newaxis,:].shape"
      ]
    },
    {
      "cell_type": "code",
      "execution_count": 33,
      "metadata": {
        "id": "d9KraUUoAFR2",
        "outputId": "707c6d71-586a-44f0-c754-25123776986f"
      },
      "outputs": [
        {
          "data": {
            "text/plain": [
              "array([[[-0.153 , -0.7519, -0.1326]],\n",
              "\n",
              "       [[ 1.4573,  0.6095, -0.4938]],\n",
              "\n",
              "       [[ 1.24  , -0.1357,  1.43  ]],\n",
              "\n",
              "       [[-0.8469,  0.6033,  1.2636]]])"
            ]
          },
          "execution_count": 33,
          "metadata": {},
          "output_type": "execute_result"
        }
      ],
      "source": [
        "arr[:,np.newaxis,:]  # 1행 3열"
      ]
    },
    {
      "cell_type": "markdown",
      "metadata": {
        "id": "6yxdp_WQAFR2"
      },
      "source": [
        "### 차원 삭제"
      ]
    },
    {
      "cell_type": "markdown",
      "metadata": {
        "id": "0K3V-wr0AFR3"
      },
      "source": [
        "`ravel()` 메서드와 `flatten()` 메서드는 어레이를 1차원으로 변형한다.\n",
        "즉, 차원을 모두 없앤다.  \n",
        "인공지능에서 많이 사용함 ⭐️ (특히 flatten)"
      ]
    },
    {
      "cell_type": "code",
      "execution_count": 34,
      "metadata": {
        "id": "6ipAt4k2AFR3",
        "outputId": "25eda263-65d0-4722-f979-6977d794e9e1"
      },
      "outputs": [
        {
          "data": {
            "text/plain": [
              "array([[ 0,  1,  2],\n",
              "       [ 3,  4,  5],\n",
              "       [ 6,  7,  8],\n",
              "       [ 9, 10, 11],\n",
              "       [12, 13, 14]])"
            ]
          },
          "execution_count": 34,
          "metadata": {},
          "output_type": "execute_result"
        }
      ],
      "source": [
        "arr = np.arange(15).reshape((5, 3))\n",
        "arr"
      ]
    },
    {
      "cell_type": "code",
      "execution_count": 36,
      "metadata": {
        "id": "I-Wao1_3AFR3",
        "outputId": "0f35d05b-6531-4dd9-a92e-021736719183"
      },
      "outputs": [
        {
          "data": {
            "text/plain": [
              "array([ 0,  1,  2,  3,  4,  5,  6,  7,  8,  9, 10, 11, 12, 13, 14])"
            ]
          },
          "execution_count": 36,
          "metadata": {},
          "output_type": "execute_result"
        }
      ],
      "source": [
        "arr1 = arr.ravel()  \n",
        "arr1"
      ]
    },
    {
      "cell_type": "code",
      "execution_count": 37,
      "metadata": {
        "id": "mpq6AJlLAFR3",
        "outputId": "2a8583cb-c332-481b-c26d-bb0d6fb3263c"
      },
      "outputs": [
        {
          "data": {
            "text/plain": [
              "array([ 0,  1,  2,  3,  4,  5,  6,  7,  8,  9, 10, 11, 12, 13, 14])"
            ]
          },
          "execution_count": 37,
          "metadata": {},
          "output_type": "execute_result"
        }
      ],
      "source": [
        "arr2 = arr.flatten()\n",
        "arr2"
      ]
    },
    {
      "cell_type": "markdown",
      "metadata": {
        "id": "56RrkWjRAFR3"
      },
      "source": [
        "차이점은 `ravel()` 메서드는 뷰(view)를 사용하는 반면에 `flatten()` 메서드는 어레이를 새로 생성한다.\n",
        "예를 들어, 아래처럼 `arr1`의 항목을 변경하면 `arr`의 항목도 함께 변경된다."
      ]
    },
    {
      "cell_type": "code",
      "execution_count": 38,
      "metadata": {
        "id": "b-0PZJLoAFR3",
        "outputId": "876235e1-4b65-4680-f7ab-68f19beadb96"
      },
      "outputs": [
        {
          "data": {
            "text/plain": [
              "array([[-1,  1,  2],\n",
              "       [ 3,  4,  5],\n",
              "       [ 6,  7,  8],\n",
              "       [ 9, 10, 11],\n",
              "       [12, 13, 14]])"
            ]
          },
          "execution_count": 38,
          "metadata": {},
          "output_type": "execute_result"
        }
      ],
      "source": [
        "arr1[0] = -1\n",
        "arr"
      ]
    },
    {
      "cell_type": "markdown",
      "metadata": {
        "id": "NZ3PIHUHAFR4"
      },
      "source": [
        "`arr2`은 `arr`과 전혀 상관이 없다."
      ]
    },
    {
      "cell_type": "code",
      "execution_count": 39,
      "metadata": {
        "id": "D5Q-NXGsAFR4",
        "outputId": "e67dee71-87e9-4a2d-9e78-fb8ac235bf48"
      },
      "outputs": [
        {
          "data": {
            "text/plain": [
              "array([[-1,  1,  2],\n",
              "       [ 3,  4,  5],\n",
              "       [ 6,  7,  8],\n",
              "       [ 9, 10, 11],\n",
              "       [12, 13, 14]])"
            ]
          },
          "execution_count": 39,
          "metadata": {},
          "output_type": "execute_result"
        }
      ],
      "source": [
        "arr2[0] = -7  # arr2의 0번 인덱스 값을 바꿔도 arr 값은 바뀌지 않는다\n",
        "arr"
      ]
    },
    {
      "cell_type": "markdown",
      "metadata": {
        "id": "oGoRZXv2AFR4"
      },
      "source": [
        "## 어레이 쪼개기"
      ]
    },
    {
      "cell_type": "markdown",
      "metadata": {
        "id": "QgKoODQdAFR4"
      },
      "source": [
        "**`np.split()` 함수**"
      ]
    },
    {
      "cell_type": "markdown",
      "metadata": {
        "id": "KNa5MbShAFR5"
      },
      "source": [
        "어레이를 지정된 기준에 따라 여러 개의 어레이로 쪼갠다.\n",
        "반환값은 쪼개진 어레이들의 리스트다.\n",
        "\n",
        "아래 예제를 살펴보자."
      ]
    },
    {
      "cell_type": "code",
      "execution_count": 41,
      "metadata": {
        "id": "GV2hDAOOAFR5",
        "outputId": "0d721258-b92c-40a3-83b6-02a3e1b1adcd"
      },
      "outputs": [
        {
          "data": {
            "text/plain": [
              "array([[-0.3317,  1.3941, -1.0767, -0.1925, -0.8712],\n",
              "       [ 0.4209, -1.2114, -0.2589, -0.5816, -1.2604],\n",
              "       [ 0.4646, -1.0702,  0.8042, -0.1567,  2.0104],\n",
              "       [-0.8871, -0.9779, -0.2672,  0.4833, -0.4003],\n",
              "       [ 0.4499,  0.3996, -0.1516, -2.5579,  0.1608],\n",
              "       [ 0.0765, -0.2972, -1.2943, -0.8852, -0.1875]])"
            ]
          },
          "execution_count": 41,
          "metadata": {},
          "output_type": "execute_result"
        }
      ],
      "source": [
        "arr = np.random.randn(6, 5)\n",
        "arr"
      ]
    },
    {
      "cell_type": "markdown",
      "metadata": {
        "id": "5mTURl9OAFR5"
      },
      "source": [
        "`np.split()` 함수의 인자는 하나의 인덱스이거나 여러 인덱스들의 리스트가 사용된다.\n",
        "먼저, 정수 리스트가 들어오면 축이 정한 방향으로 리스트에 포함된 정수를 이용하여 여러 개의 구간으로 쪼갠다.\n",
        "\n",
        "아래 코드는 행을 기준으로 행의 인덱스를 0-1, 2, 3-5 세 개의 구간으로 쪼갠다.\n",
        "따라서 결과는 네 개의 어레이로 이루어진 리스트가 되며,\n",
        "각 어레의 모양은 다음과 같다.\n",
        "\n",
        "```python\n",
        "(2, 5), (1, 5), (3, 5)\n",
        "```"
      ]
    },
    {
      "cell_type": "code",
      "execution_count": 43,
      "metadata": {
        "id": "yW0M4hzzAFR5",
        "outputId": "59a427d7-95e8-4b84-e9a8-32be58db6364"
      },
      "outputs": [
        {
          "data": {
            "text/plain": [
              "[array([[-0.3317,  1.3941, -1.0767, -0.1925, -0.8712],\n",
              "        [ 0.4209, -1.2114, -0.2589, -0.5816, -1.2604]]),\n",
              " array([[ 0.4646, -1.0702,  0.8042, -0.1567,  2.0104]]),\n",
              " array([[-0.8871, -0.9779, -0.2672,  0.4833, -0.4003],\n",
              "        [ 0.4499,  0.3996, -0.1516, -2.5579,  0.1608],\n",
              "        [ 0.0765, -0.2972, -1.2943, -0.8852, -0.1875]])]"
            ]
          },
          "execution_count": 43,
          "metadata": {},
          "output_type": "execute_result"
        }
      ],
      "source": [
        "np.split(arr, [2, 3]) # np.split(arr, [2, 3],axis=0)"
      ]
    },
    {
      "cell_type": "markdown",
      "metadata": {
        "id": "t7X5Wy27AFR5"
      },
      "source": [
        "반면에 열을 기준으로 0, 1-2, 3-4 세 개의 구간으로 쪼개면 다음과 같으며,\n",
        "각 어레이의 모양은 다음과 같다.\n",
        "\n",
        "```python\n",
        "(7, 1) (7, 2), (7, 2)\n",
        "```"
      ]
    },
    {
      "cell_type": "code",
      "execution_count": 45,
      "metadata": {
        "id": "fPygpD3pAFR5",
        "outputId": "0c88d4cf-ab7b-4f8d-8e0d-83c70b7edd01"
      },
      "outputs": [
        {
          "data": {
            "text/plain": [
              "[array([[-0.3317],\n",
              "        [ 0.4209],\n",
              "        [ 0.4646],\n",
              "        [-0.8871],\n",
              "        [ 0.4499],\n",
              "        [ 0.0765]]),\n",
              " array([[ 1.3941, -1.0767],\n",
              "        [-1.2114, -0.2589],\n",
              "        [-1.0702,  0.8042],\n",
              "        [-0.9779, -0.2672],\n",
              "        [ 0.3996, -0.1516],\n",
              "        [-0.2972, -1.2943]]),\n",
              " array([[-0.1925, -0.8712],\n",
              "        [-0.5816, -1.2604],\n",
              "        [-0.1567,  2.0104],\n",
              "        [ 0.4833, -0.4003],\n",
              "        [-2.5579,  0.1608],\n",
              "        [-0.8852, -0.1875]])]"
            ]
          },
          "execution_count": 45,
          "metadata": {},
          "output_type": "execute_result"
        }
      ],
      "source": [
        "np.split(arr, [1, 3], axis=1)  # axis=1 ; 열 기준"
      ]
    },
    {
      "cell_type": "markdown",
      "metadata": {
        "id": "_wx1vYD2AFR5"
      },
      "source": [
        "둘째 인자로 하나의 정수를 사용하면 행 또는 열을 기준으로 등분한다.\n",
        "아래 코드는 6개의 행을 3등분 한다."
      ]
    },
    {
      "cell_type": "code",
      "execution_count": 46,
      "metadata": {
        "id": "EEWT_LqmAFR5",
        "outputId": "99f5bc3a-7957-4a97-e98a-187c1b2bb853"
      },
      "outputs": [
        {
          "data": {
            "text/plain": [
              "[array([[-0.3317,  1.3941, -1.0767, -0.1925, -0.8712],\n",
              "        [ 0.4209, -1.2114, -0.2589, -0.5816, -1.2604]]),\n",
              " array([[ 0.4646, -1.0702,  0.8042, -0.1567,  2.0104],\n",
              "        [-0.8871, -0.9779, -0.2672,  0.4833, -0.4003]]),\n",
              " array([[ 0.4499,  0.3996, -0.1516, -2.5579,  0.1608],\n",
              "        [ 0.0765, -0.2972, -1.2943, -0.8852, -0.1875]])]"
            ]
          },
          "execution_count": 46,
          "metadata": {},
          "output_type": "execute_result"
        }
      ],
      "source": [
        "np.split(arr, 3)  # axis의 defalut는 행 기준"
      ]
    },
    {
      "cell_type": "markdown",
      "metadata": {
        "id": "TErCH3B1AFR5"
      },
      "source": [
        "등분을 위해서는 행 또는 열의 약수만 둘째 인자로 사용할 수 있다. 그렇지 않으면 오류가 발생한다.\n",
        "예를 들어, 아래 코드처럼 열을 2등분 하려 하면 오류가 발생한다.\n",
        "이유는 5개의 열을 2등분 할 수 없기 때문이다."
      ]
    },
    {
      "cell_type": "markdown",
      "metadata": {
        "id": "9YAczG9OAFR5"
      },
      "source": [
        "```python\n",
        ">>> np.split(arr, 2, axis=1)\n",
        "---------------------------------------------------------------------------\n",
        "ValueError                                Traceback (most recent call last)\n",
        "Input In [16], in <module>\n",
        "----> 1 np.split(arr, 2, axis=1)\n",
        "\n",
        "File <__array_function__ internals>:180, in split(*args, **kwargs)\n",
        "\n",
        "File ~\\miniconda3\\envs\\homl3\\lib\\site-packages\\numpy\\lib\\shape_base.py:872, in split(ary, indices_or_sections, axis)\n",
        "    870     N = ary.shape[axis]\n",
        "    871     if N % sections:\n",
        "--> 872         raise ValueError(\n",
        "    873             'array split does not result in an equal division') from None\n",
        "    874 return array_split(ary, indices_or_sections, axis)\n",
        "\n",
        "ValueError: array split does not result in an equal division\n",
        "```"
      ]
    },
    {
      "cell_type": "markdown",
      "metadata": {
        "id": "CiIsDnLEAFR5"
      },
      "source": [
        "**`np.vsplit()`/`np.hsplit()` 함수**\n",
        "\n",
        "np.vsplit() // axis=0   \n",
        "np.hsplit() // axis=1"
      ]
    },
    {
      "cell_type": "markdown",
      "metadata": {
        "id": "pglQwWHgAFR5"
      },
      "source": [
        "두 함수는 `np.split()` 함수에 축을 각각 0과 1로 지정한 함수이다."
      ]
    },
    {
      "cell_type": "markdown",
      "metadata": {
        "id": "adNbnCufAFR5"
      },
      "source": [
        "* `np.vsplit(arr, z)` := `np.split(arr, z, axis=0)`"
      ]
    },
    {
      "cell_type": "code",
      "execution_count": 47,
      "metadata": {
        "id": "n6-pHWz4AFR5",
        "outputId": "5ad5d2c5-9c3c-48b2-9b90-44f371a8e6ad"
      },
      "outputs": [
        {
          "data": {
            "text/plain": [
              "[array([[-0.3317,  1.3941, -1.0767, -0.1925, -0.8712],\n",
              "        [ 0.4209, -1.2114, -0.2589, -0.5816, -1.2604]]),\n",
              " array([[ 0.4646, -1.0702,  0.8042, -0.1567,  2.0104]]),\n",
              " array([[-0.8871, -0.9779, -0.2672,  0.4833, -0.4003],\n",
              "        [ 0.4499,  0.3996, -0.1516, -2.5579,  0.1608]]),\n",
              " array([[ 0.0765, -0.2972, -1.2943, -0.8852, -0.1875]])]"
            ]
          },
          "execution_count": 47,
          "metadata": {},
          "output_type": "execute_result"
        }
      ],
      "source": [
        "np.vsplit(arr, [2, 3, 5])"
      ]
    },
    {
      "cell_type": "markdown",
      "metadata": {
        "id": "BB9Mbt1aAFR6"
      },
      "source": [
        "* `np.hsplit(arr, z)` := `np.split(arr, z, axis=1)`"
      ]
    },
    {
      "cell_type": "code",
      "execution_count": 48,
      "metadata": {
        "id": "-YRXIg92AFR6",
        "outputId": "691821c3-92b5-4865-9048-8f8459e4d235"
      },
      "outputs": [
        {
          "data": {
            "text/plain": [
              "[array([[-0.3317],\n",
              "        [ 0.4209],\n",
              "        [ 0.4646],\n",
              "        [-0.8871],\n",
              "        [ 0.4499],\n",
              "        [ 0.0765]]),\n",
              " array([[ 1.3941, -1.0767],\n",
              "        [-1.2114, -0.2589],\n",
              "        [-1.0702,  0.8042],\n",
              "        [-0.9779, -0.2672],\n",
              "        [ 0.3996, -0.1516],\n",
              "        [-0.2972, -1.2943]]),\n",
              " array([[-0.1925, -0.8712],\n",
              "        [-0.5816, -1.2604],\n",
              "        [-0.1567,  2.0104],\n",
              "        [ 0.4833, -0.4003],\n",
              "        [-2.5579,  0.1608],\n",
              "        [-0.8852, -0.1875]])]"
            ]
          },
          "execution_count": 48,
          "metadata": {},
          "output_type": "execute_result"
        }
      ],
      "source": [
        "np.hsplit(arr, [1, 3])"
      ]
    },
    {
      "cell_type": "markdown",
      "metadata": {
        "id": "pwgEk5qRAFR6"
      },
      "source": [
        "## 어레이 이어붙이기와 쌓기"
      ]
    },
    {
      "cell_type": "markdown",
      "metadata": {
        "id": "5S6L6qadAFR6"
      },
      "source": [
        "⭐️ **`np.concatenate()` 함수**"
      ]
    },
    {
      "cell_type": "markdown",
      "metadata": {
        "id": "fW1Cubn_AFR6"
      },
      "source": [
        "두 개의 어레이를 이어붙인다.\n",
        "지정되는 축에 따라 좌우로 또는 상하로 이어붙인다.\n",
        "아래 세 어레이를 이용하여 사용법을 설명한다."
      ]
    },
    {
      "cell_type": "code",
      "execution_count": 57,
      "metadata": {
        "id": "20_cxpgyAFR6",
        "outputId": "ad0e3b7e-b893-4211-e5aa-31c38be253c8"
      },
      "outputs": [
        {
          "data": {
            "text/plain": [
              "array([[1, 2, 3],\n",
              "       [4, 5, 6]])"
            ]
          },
          "execution_count": 57,
          "metadata": {},
          "output_type": "execute_result"
        }
      ],
      "source": [
        "arr1 = np.array([[1, 2, 3], [4, 5, 6]])\n",
        "arr1"
      ]
    },
    {
      "cell_type": "code",
      "execution_count": 58,
      "metadata": {
        "id": "SlNrlYu3AFR6",
        "outputId": "0a90b289-e848-4d3b-bb35-4f55a8829758"
      },
      "outputs": [
        {
          "data": {
            "text/plain": [
              "array([[ 7,  8,  9],\n",
              "       [10, 11, 12]])"
            ]
          },
          "execution_count": 58,
          "metadata": {},
          "output_type": "execute_result"
        }
      ],
      "source": [
        "arr2 = np.array([[7, 8, 9], [10, 11, 12]])\n",
        "arr2"
      ]
    },
    {
      "cell_type": "code",
      "execution_count": 59,
      "metadata": {
        "id": "Llpz1LQdAFR6",
        "outputId": "11cd3fe3-e402-4bd1-aae2-7b6b68f3f959"
      },
      "outputs": [
        {
          "data": {
            "text/plain": [
              "array([[13, 14, 15],\n",
              "       [16, 17, 18]])"
            ]
          },
          "execution_count": 59,
          "metadata": {},
          "output_type": "execute_result"
        }
      ],
      "source": [
        "arr3 = np.array([[13, 14, 15], [16, 17, 18]])\n",
        "arr3"
      ]
    },
    {
      "cell_type": "markdown",
      "metadata": {
        "id": "mWYw4nppAFR6"
      },
      "source": [
        "위아래로 이어붙이려면 축을 0으로 정한다.\n",
        "이어붙이 어레이로 이루어진 리스트 또는 튜플을 사용함에 주의한다."
      ]
    },
    {
      "cell_type": "code",
      "execution_count": 60,
      "metadata": {
        "id": "AhwclAj-AFR6",
        "outputId": "4d9f31af-c4aa-4332-afd1-bac5a015e3e9"
      },
      "outputs": [
        {
          "data": {
            "text/plain": [
              "array([[ 1,  2,  3],\n",
              "       [ 4,  5,  6],\n",
              "       [ 7,  8,  9],\n",
              "       [10, 11, 12],\n",
              "       [13, 14, 15],\n",
              "       [16, 17, 18]])"
            ]
          },
          "execution_count": 60,
          "metadata": {},
          "output_type": "execute_result"
        }
      ],
      "source": [
        "np.concatenate([arr1, arr2, arr3], axis=0)"
      ]
    },
    {
      "cell_type": "code",
      "execution_count": 61,
      "metadata": {
        "id": "MLhYfmLZAFR6",
        "outputId": "9dff5215-95fd-4e1c-9075-554961a15c28"
      },
      "outputs": [
        {
          "data": {
            "text/plain": [
              "array([[ 1,  2,  3],\n",
              "       [ 4,  5,  6],\n",
              "       [ 7,  8,  9],\n",
              "       [10, 11, 12],\n",
              "       [13, 14, 15],\n",
              "       [16, 17, 18]])"
            ]
          },
          "execution_count": 61,
          "metadata": {},
          "output_type": "execute_result"
        }
      ],
      "source": [
        "np.concatenate((arr1, arr2, arr3), axis=0)"
      ]
    },
    {
      "cell_type": "markdown",
      "metadata": {
        "id": "v_X14EU4AFR6"
      },
      "source": [
        "좌우로 이어붙이려면 축을 1로 정한다."
      ]
    },
    {
      "cell_type": "code",
      "execution_count": 62,
      "metadata": {
        "id": "xrUZlMK0AFR6",
        "outputId": "9121ddf6-266e-4e79-bb94-e4e1906ad5c0"
      },
      "outputs": [
        {
          "data": {
            "text/plain": [
              "array([[ 1,  2,  3,  7,  8,  9, 13, 14, 15],\n",
              "       [ 4,  5,  6, 10, 11, 12, 16, 17, 18]])"
            ]
          },
          "execution_count": 62,
          "metadata": {},
          "output_type": "execute_result"
        }
      ],
      "source": [
        "np.concatenate([arr1, arr2, arr3], axis=1)"
      ]
    },
    {
      "cell_type": "code",
      "execution_count": 63,
      "metadata": {
        "id": "KTv4fGxdAFR6",
        "outputId": "ae07d47a-ba90-42b1-8c9a-b7cdbbc68b7b"
      },
      "outputs": [
        {
          "data": {
            "text/plain": [
              "array([[ 1,  2,  3,  7,  8,  9, 13, 14, 15],\n",
              "       [ 4,  5,  6, 10, 11, 12, 16, 17, 18]])"
            ]
          },
          "execution_count": 63,
          "metadata": {},
          "output_type": "execute_result"
        }
      ],
      "source": [
        "np.concatenate((arr1, arr2, arr3), axis=1)"
      ]
    },
    {
      "cell_type": "markdown",
      "metadata": {
        "id": "lCMGumr5AFR6"
      },
      "source": [
        "**`np.vstack()`/`np.hstack()` 함수**"
      ]
    },
    {
      "cell_type": "markdown",
      "metadata": {
        "id": "RL9sP3EAAFR6"
      },
      "source": [
        "두 함수는 `np.concatenate()` 함수에 축을 각각 0과 1로 지정한 함수이다."
      ]
    },
    {
      "cell_type": "markdown",
      "metadata": {
        "id": "KgbOrnPPAFR6"
      },
      "source": [
        "* `np.vstack((x, y, ...))` := `np.concatenate((x, y, ...), axis=0)`"
      ]
    },
    {
      "cell_type": "code",
      "execution_count": 64,
      "metadata": {
        "id": "0GrJ58TXAFR6",
        "outputId": "98218e50-ed05-4a5c-8527-8101ddb926d8"
      },
      "outputs": [
        {
          "data": {
            "text/plain": [
              "array([[ 1,  2,  3],\n",
              "       [ 4,  5,  6],\n",
              "       [ 7,  8,  9],\n",
              "       [10, 11, 12],\n",
              "       [13, 14, 15],\n",
              "       [16, 17, 18]])"
            ]
          },
          "execution_count": 64,
          "metadata": {},
          "output_type": "execute_result"
        }
      ],
      "source": [
        "np.vstack((arr1, arr2, arr3))"
      ]
    },
    {
      "cell_type": "markdown",
      "metadata": {
        "id": "OyA_rXFcAFR7"
      },
      "source": [
        "* `np.hstack((x, y, ...))` := `np.concatenate((x, y, ...) axis=1)`"
      ]
    },
    {
      "cell_type": "code",
      "execution_count": 68,
      "metadata": {
        "id": "hYHXOg3xAFR7",
        "outputId": "0461ef25-0d3b-43cb-b596-78889f02185e"
      },
      "outputs": [
        {
          "data": {
            "text/plain": [
              "array([[ 1,  2,  3,  7,  8,  9, 13, 14, 15],\n",
              "       [ 4,  5,  6, 10, 11, 12, 16, 17, 18]])"
            ]
          },
          "execution_count": 68,
          "metadata": {},
          "output_type": "execute_result"
        }
      ],
      "source": [
        "np.hstack((arr1, arr2, arr3))"
      ]
    },
    {
      "cell_type": "markdown",
      "metadata": {
        "id": "6H6bP1xGAFR7"
      },
      "source": [
        "**`np.r_[]`/`np.c_[]` 객체**   \n",
        "np.r_[] // row (행)   \n",
        "np.c_[] // column (열)"
      ]
    },
    {
      "cell_type": "markdown",
      "metadata": {
        "id": "HNEzSKM_AFR7"
      },
      "source": [
        "`vstack()`/`hstack()` 과 동일한 기능을 수행하는 특수한 객체들이다."
      ]
    },
    {
      "cell_type": "markdown",
      "metadata": {
        "id": "urAjwzw5AFR7"
      },
      "source": [
        "- `np.r_[x, y, ...]` := `np.vstack((x, y, ...))`"
      ]
    },
    {
      "cell_type": "code",
      "execution_count": 66,
      "metadata": {
        "id": "srYb50yVAFR7",
        "outputId": "ad224e70-2259-41f4-dd00-0d32aa6880f1"
      },
      "outputs": [
        {
          "data": {
            "text/plain": [
              "array([[ 1,  2,  3],\n",
              "       [ 4,  5,  6],\n",
              "       [ 7,  8,  9],\n",
              "       [10, 11, 12],\n",
              "       [13, 14, 15],\n",
              "       [16, 17, 18]])"
            ]
          },
          "execution_count": 66,
          "metadata": {},
          "output_type": "execute_result"
        }
      ],
      "source": [
        "np.r_[arr1, arr2, arr3]"
      ]
    },
    {
      "cell_type": "markdown",
      "metadata": {
        "id": "EOxQs4hEAFR7"
      },
      "source": [
        "- `np.c_[x, y, ...]` := `np.hstack((x, y, ...))`"
      ]
    },
    {
      "cell_type": "code",
      "execution_count": 67,
      "metadata": {
        "id": "4Z12CcgeAFR7",
        "outputId": "af64d28d-12b5-4acc-b54b-a8ddd920f9aa"
      },
      "outputs": [
        {
          "data": {
            "text/plain": [
              "array([[ 1,  2,  3,  7,  8,  9, 13, 14, 15],\n",
              "       [ 4,  5,  6, 10, 11, 12, 16, 17, 18]])"
            ]
          },
          "execution_count": 67,
          "metadata": {},
          "output_type": "execute_result"
        }
      ],
      "source": [
        "np.c_[arr1, arr2, arr3]"
      ]
    },
    {
      "cell_type": "markdown",
      "metadata": {
        "id": "KTYR6m4UAFR7"
      },
      "source": [
        "## 브로드캐스팅"
      ]
    },
    {
      "cell_type": "markdown",
      "metadata": {
        "id": "V7c3GAbkAFR7"
      },
      "source": [
        "**브로드캐스팅**<font size='2'>broadcasting</font>\n",
        "모양이 서로 다른 두 어레이가 주어졌을 때 두 모양을 통일시킬 수 있다면 두 어레이의 연산이 가능하도록\n",
        "도와주는 기능이다.\n",
        "설명을 위해 하나의 어레이와 하나의 정수의 곱셈이 작동하는 과정을 살펴본다."
      ]
    },
    {
      "cell_type": "code",
      "execution_count": 69,
      "metadata": {
        "id": "BKaWvWjZAFR7",
        "outputId": "277d375c-6775-4290-9b78-c4a750c18561"
      },
      "outputs": [
        {
          "data": {
            "text/plain": [
              "array([[0, 1, 2],\n",
              "       [3, 4, 5]])"
            ]
          },
          "execution_count": 69,
          "metadata": {},
          "output_type": "execute_result"
        }
      ],
      "source": [
        "arr = np.arange(6).reshape((2,3))\n",
        "arr"
      ]
    },
    {
      "cell_type": "markdown",
      "metadata": {
        "id": "fEyvBfk5AFR7"
      },
      "source": [
        "위 어레이에 4를 곱한 결과는 다음과 같다."
      ]
    },
    {
      "cell_type": "code",
      "execution_count": 70,
      "metadata": {
        "id": "24d1hSIwAFR7",
        "outputId": "3d985533-14fd-451b-9564-82881111c145"
      },
      "outputs": [
        {
          "data": {
            "text/plain": [
              "array([[ 0,  4,  8],\n",
              "       [12, 16, 20]])"
            ]
          },
          "execution_count": 70,
          "metadata": {},
          "output_type": "execute_result"
        }
      ],
      "source": [
        "arr * 4"
      ]
    },
    {
      "cell_type": "markdown",
      "metadata": {
        "id": "36Dq7d9vAFR7"
      },
      "source": [
        "결과가 항목별로 곱해지는 이유는 `arr * 4` 가 아래 어레이의 곱셈과 동일하게 작동하기 때문이다.\n",
        "즉, 정수 4로 채워진 동일한 모양의 어레이를 먼저 생성한 후에 항목별 곱셈을 진행한다."
      ]
    },
    {
      "cell_type": "markdown",
      "metadata": {
        "id": "xtoVr7kgAFR7"
      },
      "source": [
        "<div align=\"center\"><img src=\"https://raw.githubusercontent.com/codingalzi/datapy/master/jupyter-book/images/broadcasting14.png?raw=true\" style=\"width:300px;\"></div>"
      ]
    },
    {
      "cell_type": "markdown",
      "metadata": {
        "id": "MCX8tXxvAFR7"
      },
      "source": [
        "이와 같이 어레이의 모양을 확장하여 항목별 연산이 가능해지도록 하는 기능은 두 어레이의 모야을\n",
        "통일시킬 수 있는 경우 항상 작동한다."
      ]
    },
    {
      "cell_type": "markdown",
      "metadata": {
        "id": "UfBNRVcoAFR7"
      },
      "source": [
        "### 브로드캐스팅과 연산"
      ]
    },
    {
      "cell_type": "markdown",
      "metadata": {
        "id": "GIWSCcf9AFR7"
      },
      "source": [
        "어레이 연산을 실행할 때 브로드캐스팅이 가능한 경우 자동 적용된다."
      ]
    },
    {
      "cell_type": "markdown",
      "metadata": {
        "id": "3ixWwvi8AFR8"
      },
      "source": [
        "**예제**"
      ]
    },
    {
      "cell_type": "markdown",
      "metadata": {
        "id": "cYHqi8vvAFR8"
      },
      "source": [
        "아래 코드는 1차원 어레이를 2차원 어레이로 확장하여 다른 어레이와 모양을 맞춘 후 연산을 실행한 결과를 보여준다."
      ]
    },
    {
      "cell_type": "code",
      "execution_count": 71,
      "metadata": {
        "id": "KMfytoAjAFR8",
        "outputId": "50770546-7abf-4c30-8f54-f8d28351f3a0"
      },
      "outputs": [
        {
          "data": {
            "text/plain": [
              "array([[0, 0, 0],\n",
              "       [1, 1, 1],\n",
              "       [2, 2, 2],\n",
              "       [3, 3, 3]])"
            ]
          },
          "execution_count": 71,
          "metadata": {},
          "output_type": "execute_result"
        }
      ],
      "source": [
        "arr2 = np.arange(4).reshape((4,1)).repeat(3,axis=1)\n",
        "arr2"
      ]
    },
    {
      "cell_type": "code",
      "execution_count": 72,
      "metadata": {
        "id": "HeC6qAdOAFR8",
        "outputId": "f66ea4fb-0a22-4eda-ba2f-5b95654f2219"
      },
      "outputs": [
        {
          "data": {
            "text/plain": [
              "array([1, 2, 3])"
            ]
          },
          "execution_count": 72,
          "metadata": {},
          "output_type": "execute_result"
        }
      ],
      "source": [
        "arr3 = np.arange(1, 4)\n",
        "arr3"
      ]
    },
    {
      "cell_type": "code",
      "execution_count": 73,
      "metadata": {
        "id": "_6Y1_2goAFR8",
        "outputId": "8dee12fa-7109-4dbd-bd03-6be341a2282d"
      },
      "outputs": [
        {
          "data": {
            "text/plain": [
              "array([[1, 2, 3],\n",
              "       [2, 3, 4],\n",
              "       [3, 4, 5],\n",
              "       [4, 5, 6]])"
            ]
          },
          "execution_count": 73,
          "metadata": {},
          "output_type": "execute_result"
        }
      ],
      "source": [
        "arr2 + arr3"
      ]
    },
    {
      "cell_type": "markdown",
      "metadata": {
        "id": "Vqh-WFkQAFR8"
      },
      "source": [
        "아래 그림이 위 연산이 작동하는 이유를 설명한다."
      ]
    },
    {
      "cell_type": "markdown",
      "metadata": {
        "id": "E8quTHynAFR8"
      },
      "source": [
        "<div align=\"center\"><img src=\"https://raw.githubusercontent.com/codingalzi/datapy/master/jupyter-book/images/broadcasting10.png?raw=true\" style=\"width:400px;\"></div>"
      ]
    },
    {
      "cell_type": "markdown",
      "metadata": {
        "id": "zKd9ZJ6rAFR8"
      },
      "source": [
        "동일한 이유로 다음 연산도 가능하다."
      ]
    },
    {
      "cell_type": "code",
      "execution_count": 74,
      "metadata": {
        "id": "nM6A14bZAFR8",
        "outputId": "4ce3700d-82c0-4ff7-b8a4-383de78a6720"
      },
      "outputs": [
        {
          "data": {
            "text/plain": [
              "array([[1, 2, 3]])"
            ]
          },
          "execution_count": 74,
          "metadata": {},
          "output_type": "execute_result"
        }
      ],
      "source": [
        "arr3_a = np.arange(1, 4)[np.newaxis, :]  # 1행 3열\n",
        "arr3_a"
      ]
    },
    {
      "cell_type": "code",
      "execution_count": 75,
      "metadata": {
        "id": "tISsvM7EAFR8",
        "outputId": "d2cf0030-ba64-404c-9133-e8df19dcf983"
      },
      "outputs": [
        {
          "data": {
            "text/plain": [
              "array([[1, 2, 3],\n",
              "       [2, 3, 4],\n",
              "       [3, 4, 5],\n",
              "       [4, 5, 6]])"
            ]
          },
          "execution_count": 75,
          "metadata": {},
          "output_type": "execute_result"
        }
      ],
      "source": [
        "arr2 + arr3_a"
      ]
    },
    {
      "cell_type": "markdown",
      "metadata": {
        "id": "IP9pFrMkAFR8"
      },
      "source": [
        "<div align=\"center\"><img src=\"https://raw.githubusercontent.com/codingalzi/datapy/master/jupyter-book/images/broadcasting10a.png?raw=true\" style=\"width:400px;\"></div>"
      ]
    },
    {
      "cell_type": "markdown",
      "metadata": {
        "id": "Ts35TXNfAFR8"
      },
      "source": [
        "**예제**"
      ]
    },
    {
      "cell_type": "markdown",
      "metadata": {
        "id": "mX3Zmq2gAFR8"
      },
      "source": [
        "아래 예제는 2차원 어레이의 칸을 복제하여 모양을 맞춘 후 연산을 실행한다."
      ]
    },
    {
      "cell_type": "code",
      "execution_count": 76,
      "metadata": {
        "id": "MdEN4gL_AFR8",
        "outputId": "9cf149cf-b8c6-455c-dc44-20fad9e534dd"
      },
      "outputs": [
        {
          "data": {
            "text/plain": [
              "array([[1],\n",
              "       [2],\n",
              "       [3],\n",
              "       [4]])"
            ]
          },
          "execution_count": 76,
          "metadata": {},
          "output_type": "execute_result"
        }
      ],
      "source": [
        "arr4 = np.arange(1, 5).reshape((4,1))\n",
        "arr4"
      ]
    },
    {
      "cell_type": "code",
      "execution_count": 77,
      "metadata": {
        "id": "3wCFb9QUAFR8",
        "outputId": "09020e5f-fc47-4136-a371-8af028b5f2f5"
      },
      "outputs": [
        {
          "data": {
            "text/plain": [
              "array([[1, 1, 1],\n",
              "       [3, 3, 3],\n",
              "       [5, 5, 5],\n",
              "       [7, 7, 7]])"
            ]
          },
          "execution_count": 77,
          "metadata": {},
          "output_type": "execute_result"
        }
      ],
      "source": [
        "arr2 + arr4"
      ]
    },
    {
      "cell_type": "markdown",
      "metadata": {
        "id": "zbfjJo3QAFR8"
      },
      "source": [
        "<div align=\"center\"><img src=\"https://raw.githubusercontent.com/codingalzi/datapy/master/jupyter-book/images/broadcasting11.png?raw=true\" style=\"width:400px;\"></div>"
      ]
    },
    {
      "cell_type": "markdown",
      "metadata": {
        "id": "x5zxXOVTAFR8"
      },
      "source": [
        "그런데 브로드캐스팅이 가능하지 않으면 오류가 발생한다.\n",
        "예를 아래 두 어레이의 덧셈은 불가능하다."
      ]
    },
    {
      "cell_type": "code",
      "execution_count": 80,
      "metadata": {
        "id": "_KYyNHXNAFR9",
        "outputId": "cd590d8c-3ab5-4d1a-9113-7786d4c0ae00"
      },
      "outputs": [
        {
          "data": {
            "text/plain": [
              "array([[ 0,  0,  0],\n",
              "       [10, 10, 10],\n",
              "       [20, 20, 20],\n",
              "       [30, 30, 30]])"
            ]
          },
          "execution_count": 80,
          "metadata": {},
          "output_type": "execute_result"
        }
      ],
      "source": [
        "x = np.arange(0, 31, 10)\n",
        "arr5 = np.c_[x, x, x]\n",
        "arr5"
      ]
    },
    {
      "cell_type": "code",
      "execution_count": 79,
      "metadata": {
        "id": "jsozD0iSAFR9",
        "outputId": "3e076ea7-18e4-4598-cae6-10f2f14290d7"
      },
      "outputs": [
        {
          "data": {
            "text/plain": [
              "array([1, 2, 3, 4])"
            ]
          },
          "execution_count": 79,
          "metadata": {},
          "output_type": "execute_result"
        }
      ],
      "source": [
        "arr4_a = arr4.flatten()\n",
        "arr4_a"
      ]
    },
    {
      "cell_type": "markdown",
      "metadata": {
        "id": "zEARXEjJAFR9"
      },
      "source": [
        "```python\n",
        ">>> arr5+ arr4_a\n",
        "---------------------------------------------------------------------------\n",
        "ValueError                                Traceback (most recent call last)\n",
        "Cell In [80], line 1\n",
        "----> 1 arr5+ arr4_a\n",
        "\n",
        "ValueError: operands could not be broadcast together with shapes (4,3) (4,)\n",
        "```"
      ]
    },
    {
      "cell_type": "markdown",
      "metadata": {
        "id": "vaMN7rfqAFR9"
      },
      "source": [
        "아래 그림이 이유를 설명한다."
      ]
    },
    {
      "cell_type": "markdown",
      "metadata": {
        "id": "85vYLT7HAFR9"
      },
      "source": [
        "<div align=\"center\"><img src=\"https://raw.githubusercontent.com/codingalzi/datapy/master/jupyter-book/images/broadcasting11a.png?raw=true\" style=\"width:380px;\"></div>\n",
        "\n",
        "<p><div style=\"text-align: center\">&lt;그림 출처: <a href=\"https://numpy.org/doc/stable/user/basics.broadcasting.html\">NumPy: Broadcasting</a>&gt;</div></p>"
      ]
    },
    {
      "cell_type": "markdown",
      "metadata": {
        "id": "T8klLXuUAFR9"
      },
      "source": [
        "**예제**"
      ]
    },
    {
      "cell_type": "markdown",
      "metadata": {
        "id": "cgpE813MAFR9"
      },
      "source": [
        "아래 예제는 2차원 어레이를 3차원으로 확장한 후에 연산을 진행하는 것을 보여준다."
      ]
    },
    {
      "cell_type": "code",
      "execution_count": 81,
      "metadata": {
        "id": "5Ym47EfWAFR9",
        "outputId": "ed1fccc8-eed2-4cb8-94ce-4256385956cb"
      },
      "outputs": [
        {
          "data": {
            "text/plain": [
              "array([[[ 0,  1],\n",
              "        [ 2,  3],\n",
              "        [ 4,  5],\n",
              "        [ 6,  7]],\n",
              "\n",
              "       [[ 8,  9],\n",
              "        [10, 11],\n",
              "        [12, 13],\n",
              "        [14, 15]],\n",
              "\n",
              "       [[16, 17],\n",
              "        [18, 19],\n",
              "        [20, 21],\n",
              "        [22, 23]]])"
            ]
          },
          "execution_count": 81,
          "metadata": {},
          "output_type": "execute_result"
        }
      ],
      "source": [
        "arr6 = np.arange(24).reshape((3, 4, 2))\n",
        "arr6"
      ]
    },
    {
      "cell_type": "code",
      "execution_count": 82,
      "metadata": {
        "id": "N63ZxP3fAFR9",
        "outputId": "22738be1-ac74-4888-d379-2c398f03d93d"
      },
      "outputs": [
        {
          "data": {
            "text/plain": [
              "array([[0, 1],\n",
              "       [2, 3],\n",
              "       [4, 5],\n",
              "       [6, 7]])"
            ]
          },
          "execution_count": 82,
          "metadata": {},
          "output_type": "execute_result"
        }
      ],
      "source": [
        "arr7 = np.arange(8).reshape((4, 2))\n",
        "arr7"
      ]
    },
    {
      "cell_type": "code",
      "execution_count": 83,
      "metadata": {
        "id": "MwWY8tA2AFR9",
        "outputId": "d3321204-9fe4-4a9b-c843-775455ffba52"
      },
      "outputs": [
        {
          "data": {
            "text/plain": [
              "array([[[ 0,  2],\n",
              "        [ 4,  6],\n",
              "        [ 8, 10],\n",
              "        [12, 14]],\n",
              "\n",
              "       [[ 8, 10],\n",
              "        [12, 14],\n",
              "        [16, 18],\n",
              "        [20, 22]],\n",
              "\n",
              "       [[16, 18],\n",
              "        [20, 22],\n",
              "        [24, 26],\n",
              "        [28, 30]]])"
            ]
          },
          "execution_count": 83,
          "metadata": {},
          "output_type": "execute_result"
        }
      ],
      "source": [
        "arr6 + arr7"
      ]
    },
    {
      "cell_type": "markdown",
      "metadata": {
        "id": "E2ikM4vRAFR9"
      },
      "source": [
        "<div align=\"center\"><img src=\"https://raw.githubusercontent.com/codingalzi/datapy/master/jupyter-book/images/broadcasting12.png?raw=true\" style=\"width:400px;\"></div>"
      ]
    },
    {
      "cell_type": "markdown",
      "metadata": {
        "id": "ZrH5sxiQAFR9"
      },
      "source": [
        "**예제**"
      ]
    },
    {
      "cell_type": "markdown",
      "metadata": {
        "id": "9x2g69S4AFR9"
      },
      "source": [
        "아래 코드는 어레이의 열별 평균값이 0이 되도록 하려 한다."
      ]
    },
    {
      "cell_type": "code",
      "execution_count": 84,
      "metadata": {
        "id": "xzzXyCmVAFR9",
        "outputId": "0dc2611f-2243-403a-a244-78fda47b1b0a"
      },
      "outputs": [
        {
          "data": {
            "text/plain": [
              "array([[-0.4936, -0.1154, -0.3507],\n",
              "       [ 0.0447, -0.8978,  0.8909],\n",
              "       [-1.1512, -2.6123,  1.1413],\n",
              "       [-0.8671,  0.3836, -0.437 ]])"
            ]
          },
          "execution_count": 84,
          "metadata": {},
          "output_type": "execute_result"
        }
      ],
      "source": [
        "arr = np.random.randn(4, 3)\n",
        "arr"
      ]
    },
    {
      "cell_type": "markdown",
      "metadata": {
        "id": "cPJ5WRrlAFR9"
      },
      "source": [
        "기존 어레이의 열별 평균값을 각각의 열에서 뺀다."
      ]
    },
    {
      "cell_type": "code",
      "execution_count": 85,
      "metadata": {
        "id": "wj6FwK6kAFR9",
        "outputId": "66a29e60-a72c-4b62-fb4b-47cd394e74d2"
      },
      "outputs": [
        {
          "data": {
            "text/plain": [
              "array([-0.6168, -0.8105,  0.3111])"
            ]
          },
          "execution_count": 85,
          "metadata": {},
          "output_type": "execute_result"
        }
      ],
      "source": [
        "arr.mean(0) # arr.mean(axis=0)"
      ]
    },
    {
      "cell_type": "code",
      "execution_count": 86,
      "metadata": {
        "id": "Ol6MIhliAFR9",
        "outputId": "b512c837-9240-4e8a-e4ec-3b027ac7ad3d"
      },
      "outputs": [
        {
          "data": {
            "text/plain": [
              "array([[ 0.1232,  0.6951, -0.6618],\n",
              "       [ 0.6615, -0.0873,  0.5798],\n",
              "       [-0.5344, -1.8018,  0.8302],\n",
              "       [-0.2503,  1.1941, -0.7481]])"
            ]
          },
          "execution_count": 86,
          "metadata": {},
          "output_type": "execute_result"
        }
      ],
      "source": [
        "demeaned = arr - arr.mean(0)\n",
        "demeaned"
      ]
    },
    {
      "cell_type": "markdown",
      "metadata": {
        "id": "WokMLOjKAFR9"
      },
      "source": [
        "이제 열별 평균값을 확인하면 0이 된다."
      ]
    },
    {
      "cell_type": "code",
      "execution_count": 87,
      "metadata": {
        "id": "NGkgL9-1AFR9",
        "outputId": "eeaa6d93-f947-4ba5-8c92-c21ac1e6fe84"
      },
      "outputs": [
        {
          "data": {
            "text/plain": [
              "array([-0.,  0.,  0.])"
            ]
          },
          "execution_count": 87,
          "metadata": {},
          "output_type": "execute_result"
        }
      ],
      "source": [
        "demeaned.mean(0)"
      ]
    },
    {
      "cell_type": "markdown",
      "metadata": {
        "id": "47ZEzPYJAFR9"
      },
      "source": [
        "**예제**"
      ]
    },
    {
      "cell_type": "markdown",
      "metadata": {
        "id": "aypAvmoBAFR9"
      },
      "source": [
        "아래 코드는 어레이의 행별 평균값이 0이 되도록 하려 한다."
      ]
    },
    {
      "cell_type": "code",
      "execution_count": 88,
      "metadata": {
        "id": "6UJ2FIvuAFR9",
        "outputId": "38065e88-165e-45b7-c9c7-e05059cf2983"
      },
      "outputs": [
        {
          "data": {
            "text/plain": [
              "array([[-0.4936, -0.1154, -0.3507],\n",
              "       [ 0.0447, -0.8978,  0.8909],\n",
              "       [-1.1512, -2.6123,  1.1413],\n",
              "       [-0.8671,  0.3836, -0.437 ]])"
            ]
          },
          "execution_count": 88,
          "metadata": {},
          "output_type": "execute_result"
        }
      ],
      "source": [
        "arr"
      ]
    },
    {
      "cell_type": "code",
      "execution_count": 89,
      "metadata": {
        "id": "jtTiSxKrAFR9",
        "outputId": "edee783f-fa81-495a-9fc1-90809f37de48"
      },
      "outputs": [
        {
          "data": {
            "text/plain": [
              "array([-0.3199,  0.0126, -0.8741, -0.3069])"
            ]
          },
          "execution_count": 89,
          "metadata": {},
          "output_type": "execute_result"
        }
      ],
      "source": [
        "row_means = arr.mean(1)\n",
        "row_means"
      ]
    },
    {
      "cell_type": "code",
      "execution_count": 90,
      "metadata": {
        "id": "rccJnf6tAFR-",
        "outputId": "1c30742d-f066-4be9-c69b-63e0febc8d22"
      },
      "outputs": [
        {
          "data": {
            "text/plain": [
              "array([[-0.3199],\n",
              "       [ 0.0126],\n",
              "       [-0.8741],\n",
              "       [-0.3069]])"
            ]
          },
          "execution_count": 90,
          "metadata": {},
          "output_type": "execute_result"
        }
      ],
      "source": [
        "row_means.reshape((4, 1))"
      ]
    },
    {
      "cell_type": "code",
      "execution_count": 91,
      "metadata": {
        "id": "BjytGVjhAFR-"
      },
      "outputs": [],
      "source": [
        "demeaned = arr - row_means.reshape((4, 1))"
      ]
    },
    {
      "cell_type": "code",
      "execution_count": 92,
      "metadata": {
        "id": "Fl2UmXn0AFR-",
        "outputId": "5c45dace-3950-4758-8077-af831296877d"
      },
      "outputs": [
        {
          "data": {
            "text/plain": [
              "array([0., 0., 0., 0.])"
            ]
          },
          "execution_count": 92,
          "metadata": {},
          "output_type": "execute_result"
        }
      ],
      "source": [
        "demeaned.mean(1)"
      ]
    },
    {
      "cell_type": "markdown",
      "metadata": {
        "id": "VmfcyEb0AFR-"
      },
      "source": [
        "### 브로드캐스팅과 항목 대체"
      ]
    },
    {
      "cell_type": "markdown",
      "metadata": {
        "id": "LTnKLflAAFR-"
      },
      "source": [
        "브로드캐스팅으로 어레이의 항목을 대체할 수 있다.\n",
        "설명을 위해 아래 어레이를 사용한다."
      ]
    },
    {
      "cell_type": "code",
      "execution_count": 93,
      "metadata": {
        "id": "ioFLFVeOAFR-",
        "outputId": "4374341a-a8f1-46c0-ae7c-c1d77aefe27f"
      },
      "outputs": [
        {
          "data": {
            "text/plain": [
              "array([[0., 0., 0.],\n",
              "       [0., 0., 0.],\n",
              "       [0., 0., 0.],\n",
              "       [0., 0., 0.]])"
            ]
          },
          "execution_count": 93,
          "metadata": {},
          "output_type": "execute_result"
        }
      ],
      "source": [
        "arr = np.zeros((4, 3))\n",
        "arr"
      ]
    },
    {
      "cell_type": "markdown",
      "metadata": {
        "id": "nEHTAEUyAFR-"
      },
      "source": [
        "**예제**"
      ]
    },
    {
      "cell_type": "markdown",
      "metadata": {
        "id": "HoNV8fjlAFR-"
      },
      "source": [
        "모든 항목을 5로 대체한다."
      ]
    },
    {
      "cell_type": "code",
      "execution_count": 94,
      "metadata": {
        "id": "_Bypl3cuAFR-",
        "outputId": "edefe8fd-d3f9-4466-b0e7-c4767dbc96be"
      },
      "outputs": [
        {
          "data": {
            "text/plain": [
              "array([[5., 5., 5.],\n",
              "       [5., 5., 5.],\n",
              "       [5., 5., 5.],\n",
              "       [5., 5., 5.]])"
            ]
          },
          "execution_count": 94,
          "metadata": {},
          "output_type": "execute_result"
        }
      ],
      "source": [
        "arr[:] = 5\n",
        "arr"
      ]
    },
    {
      "cell_type": "markdown",
      "metadata": {
        "id": "tf7shvSwAFR-"
      },
      "source": [
        "**예제**"
      ]
    },
    {
      "cell_type": "markdown",
      "metadata": {
        "id": "KLJE0TxVAFR-"
      },
      "source": [
        "모든 열을 지정된 열로 대체한다."
      ]
    },
    {
      "cell_type": "code",
      "execution_count": 95,
      "metadata": {
        "id": "knil0J1hAFR-",
        "outputId": "0b6282bb-5f37-4756-e0ab-ebb2ace2ec7b"
      },
      "outputs": [
        {
          "data": {
            "text/plain": [
              "array([[ 1.28],\n",
              "       [-0.42],\n",
              "       [ 0.44],\n",
              "       [ 1.6 ]])"
            ]
          },
          "execution_count": 95,
          "metadata": {},
          "output_type": "execute_result"
        }
      ],
      "source": [
        "col = np.array([1.28, -0.42, 0.44, 1.6])\n",
        "col[:, np.newaxis]"
      ]
    },
    {
      "cell_type": "code",
      "execution_count": 96,
      "metadata": {
        "id": "zAkxxb-cAFR-",
        "outputId": "3d052992-20b2-4154-fbbf-2f6da4b49e68"
      },
      "outputs": [
        {
          "data": {
            "text/plain": [
              "array([[ 1.28,  1.28,  1.28],\n",
              "       [-0.42, -0.42, -0.42],\n",
              "       [ 0.44,  0.44,  0.44],\n",
              "       [ 1.6 ,  1.6 ,  1.6 ]])"
            ]
          },
          "execution_count": 96,
          "metadata": {},
          "output_type": "execute_result"
        }
      ],
      "source": [
        "arr[:] = col[:, np.newaxis]\n",
        "arr"
      ]
    },
    {
      "cell_type": "markdown",
      "metadata": {
        "id": "DB9jchHBAFR-"
      },
      "source": [
        "**예제**"
      ]
    },
    {
      "cell_type": "markdown",
      "metadata": {
        "id": "1tYQg3TXAFR-"
      },
      "source": [
        "0번, 1번 행을 특정 값으로 대체한다."
      ]
    },
    {
      "cell_type": "code",
      "execution_count": 97,
      "metadata": {
        "id": "cKrPDtbDAFR-",
        "outputId": "d651d0c4-f7ec-4686-98d8-7cfd220441ab"
      },
      "outputs": [
        {
          "data": {
            "text/plain": [
              "array([[-1.37 , -1.37 , -1.37 ],\n",
              "       [ 0.509,  0.509,  0.509],\n",
              "       [ 0.44 ,  0.44 ,  0.44 ],\n",
              "       [ 1.6  ,  1.6  ,  1.6  ]])"
            ]
          },
          "execution_count": 97,
          "metadata": {},
          "output_type": "execute_result"
        }
      ],
      "source": [
        "arr[:2] = [[-1.37], [0.509]]\n",
        "arr"
      ]
    },
    {
      "cell_type": "markdown",
      "metadata": {
        "id": "Q8dicg-3AFR-"
      },
      "source": [
        "## 연습문제"
      ]
    },
    {
      "cell_type": "markdown",
      "metadata": {
        "id": "EdjYx2dmAFR-"
      },
      "source": [
        "참고: [(실습) 고급 넘파이](https://colab.research.google.com/github/codingalzi/datapy/blob/master/practices/practice-numpy_4.ipynb)"
      ]
    }
  ],
  "metadata": {
    "colab": {
      "provenance": []
    },
    "kernelspec": {
      "display_name": "Python 3",
      "language": "python",
      "name": "python3"
    },
    "language_info": {
      "codemirror_mode": {
        "name": "ipython",
        "version": 3
      },
      "file_extension": ".py",
      "mimetype": "text/x-python",
      "name": "python",
      "nbconvert_exporter": "python",
      "pygments_lexer": "ipython3",
      "version": "3.9.6"
    }
  },
  "nbformat": 4,
  "nbformat_minor": 0
}
