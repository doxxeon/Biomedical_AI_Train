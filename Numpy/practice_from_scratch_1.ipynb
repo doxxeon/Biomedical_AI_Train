{
  "cells": [
    {
      "cell_type": "markdown",
      "id": "63ac596b",
      "metadata": {
        "id": "63ac596b"
      },
      "source": [
        "# (실습) 선형대수 기초"
      ]
    },
    {
      "cell_type": "markdown",
      "id": "d7c15115",
      "metadata": {
        "id": "d7c15115"
      },
      "source": [
        "## 벡터 브로드캐스팅\n",
        "\n",
        "벡터 스칼라 곱셈 $2 \\ast [1, 2, 3]$은 $[2, 2, 2] \\ast [1, 2, 3]$처럼 작동한다.\n",
        "이렇게 연산에 사용된 하나의 인자를 다른 인자의 형태에 맞춘 후 연산을\n",
        "실행하는 것을 **브로드캐스팅**<font size='2'>broadcasting</font>이라 한다.\n",
        "보다 자세한 내용은 [고급 넘파이](https://codingalzi.github.io/datapy/numpy_4.html)에서 확인할 수 있다."
      ]
    },
    {
      "cell_type": "markdown",
      "id": "33bf0de6",
      "metadata": {
        "id": "33bf0de6"
      },
      "source": [
        "**문제 1**"
      ]
    },
    {
      "cell_type": "markdown",
      "id": "3ecedf59",
      "metadata": {
        "id": "3ecedf59"
      },
      "source": [
        "벡터 스칼라 곱셈을 실행하는 `scalar_multiplyV()` 함수의 첫째 인자는 스칼라, 둘째 인자는 벡터일 때\n",
        "실행된다.\n",
        "이제 첫째 인자가 벡터, 둘째 인자가 스칼라 일 때도 작동하도록 함수를 수정하라.\n",
        "\n",
        "$$\n",
        "c \\ast [u_1, \\cdots, u_n] = [c \\ast u_1, \\cdots, c \\ast u_n]\n",
        "$$\n",
        "\n",
        "$$\n",
        "[u_1, \\cdots, u_n] \\ast c = [u_1 \\ast c, \\cdots, u_n \\ast c]\n",
        "$$"
      ]
    },
    {
      "cell_type": "code",
      "execution_count": null,
      "id": "70c589d9",
      "metadata": {
        "id": "70c589d9"
      },
      "outputs": [],
      "source": [
        "# pass를 적절한 코드로 대체하라.\n",
        "\n",
        "def scalar_multiplyV(x, y):\n",
        "    return x"
      ]
    },
    {
      "cell_type": "markdown",
      "id": "5b686c2a",
      "metadata": {
        "id": "5b686c2a"
      },
      "source": [
        "아래 코드를 실행할 때 오류가 발생하지 않아야 한다.\n",
        "\n",
        "힌트: `isinstance()` 함수 활용"
      ]
    },
    {
      "cell_type": "code",
      "execution_count": null,
      "id": "db1befc4",
      "metadata": {
        "id": "db1befc4"
      },
      "outputs": [],
      "source": [
        "# 절대 수정하지 말것!\n",
        "assert scalar_multiplyV(2, [1, 2, 3]) == [2, 4, 6]\n",
        "assert scalar_multiplyV([1, 2, 3], 2) == [2, 4, 6]"
      ]
    },
    {
      "cell_type": "markdown",
      "id": "J85QRAxnDS2h",
      "metadata": {
        "id": "J85QRAxnDS2h"
      },
      "source": [
        "**문제 2**"
      ]
    },
    {
      "cell_type": "markdown",
      "id": "Y7g4pXpRDS2h",
      "metadata": {
        "id": "Y7g4pXpRDS2h"
      },
      "source": [
        "벡터 스칼라 곱셈과 유사하게 작동하는 벡터 스칼라 덧셈 함수 `scalar_addV()`을 구현하라.\n",
        "\n",
        "$$\n",
        "c + [u_1, \\cdots, u_n] = [c + u_1, \\cdots, c + u_n]\n",
        "$$\n",
        "\n",
        "$$\n",
        "[u_1, \\cdots, u_n] + c = [u_1 + c, \\cdots, u_n + c]\n",
        "$$"
      ]
    },
    {
      "cell_type": "code",
      "execution_count": null,
      "id": "D6pfmT3JDS2i",
      "metadata": {
        "id": "D6pfmT3JDS2i"
      },
      "outputs": [],
      "source": [
        "# pass를 적절한 코드로 대체하라.\n",
        "\n",
        "def scalar_addV(x, y):\n",
        "    pass"
      ]
    },
    {
      "cell_type": "markdown",
      "id": "aCeNn9lLDS2i",
      "metadata": {
        "id": "aCeNn9lLDS2i"
      },
      "source": [
        "아래 코드를 실행할 때 오류가 발생하지 않아야 한다.\n",
        "\n",
        "힌트: `isinstance()` 함수 활용"
      ]
    },
    {
      "cell_type": "code",
      "execution_count": null,
      "id": "4Z4eS9D9DS2i",
      "metadata": {
        "id": "4Z4eS9D9DS2i"
      },
      "outputs": [],
      "source": [
        "# 절대 수정하지 말것!\n",
        "assert scalar_addV(2, [1, 2, 3]) == [3, 4, 5]\n",
        "assert scalar_addV([1, 2, 3], 2) == [3, 4, 5]"
      ]
    },
    {
      "cell_type": "markdown",
      "id": "DIrMZhyODS2i",
      "metadata": {
        "id": "DIrMZhyODS2i"
      },
      "source": [
        "**문제 3**"
      ]
    },
    {
      "cell_type": "markdown",
      "id": "5cTJ6MSKDS2i",
      "metadata": {
        "id": "5cTJ6MSKDS2i"
      },
      "source": [
        "벡터 스칼라 덧셈과 유사하게 작동하는 벡터 스칼라 뺄셈 함수 `scalar_subtractV()`을 구현하라.\n",
        "\n",
        "$$\n",
        "c - [u_1, \\cdots, u_n] = [c - u_1, \\cdots, c - u_n]\n",
        "$$\n",
        "\n",
        "$$\n",
        "[u_1, \\cdots, u_n] - c = [u_1 - c, \\cdots, u_n - c]\n",
        "$$"
      ]
    },
    {
      "cell_type": "code",
      "execution_count": null,
      "id": "GQqhOI0LDS2i",
      "metadata": {
        "id": "GQqhOI0LDS2i"
      },
      "outputs": [],
      "source": [
        "# pass를 적절한 코드로 대체하라.\n",
        "\n",
        "def scalar_subtractV(x, y):\n",
        "    pass"
      ]
    },
    {
      "cell_type": "markdown",
      "id": "bDUS6cNVDS2i",
      "metadata": {
        "id": "bDUS6cNVDS2i"
      },
      "source": [
        "아래 코드를 실행할 때 오류가 발생하지 않아야 한다.\n",
        "\n",
        "힌트: `isinstance()` 함수 활용"
      ]
    },
    {
      "cell_type": "code",
      "execution_count": null,
      "id": "JO3b4rXtDS2i",
      "metadata": {
        "id": "JO3b4rXtDS2i"
      },
      "outputs": [],
      "source": [
        "# 절대 수정하지 말것!\n",
        "assert scalar_subtractV(2, [1, 2, 3]) == [1, 0, -1]\n",
        "assert scalar_subtractV([1, 2, 3], 2) == [-1, 0, 1]"
      ]
    },
    {
      "cell_type": "markdown",
      "id": "-r4K2gjNDS2i",
      "metadata": {
        "id": "-r4K2gjNDS2i"
      },
      "source": [
        "**문제 4**"
      ]
    },
    {
      "cell_type": "markdown",
      "id": "AaRci5jvDS2i",
      "metadata": {
        "id": "AaRci5jvDS2i"
      },
      "source": [
        "벡터 스칼라 곱셈과 유사하게 작동하는 벡터 스칼라 나눗셈 함수 `scalar_divideV()`을 구현하라.\n",
        "\n",
        "$$\n",
        "c / [u_1, \\cdots, u_n] = [c / u_1, \\cdots, c / u_n]\n",
        "$$\n",
        "\n",
        "$$\n",
        "[u_1, \\cdots, u_n] / c = [u_1 / c, \\cdots, u_n / c]\n",
        "$$"
      ]
    },
    {
      "cell_type": "code",
      "execution_count": null,
      "id": "fXl0LUZ5DS2i",
      "metadata": {
        "id": "fXl0LUZ5DS2i"
      },
      "outputs": [],
      "source": [
        "# pass를 적절한 코드로 대체하라.\n",
        "\n",
        "def scalar_divideV(x, y):\n",
        "    pass"
      ]
    },
    {
      "cell_type": "markdown",
      "id": "bt3ge1kBDS2i",
      "metadata": {
        "id": "bt3ge1kBDS2i"
      },
      "source": [
        "아래 코드를 실행할 때 오류가 발생하지 않아야 한다.\n",
        "\n",
        "힌트: `isinstance()` 함수 활용"
      ]
    },
    {
      "cell_type": "code",
      "execution_count": null,
      "id": "g6ULS_MiDS2j",
      "metadata": {
        "id": "g6ULS_MiDS2j"
      },
      "outputs": [],
      "source": [
        "# 절대 수정하지 말것!\n",
        "assert scalar_divideV(2, [1, 2, 4]) == [2.0, 1.0, 0.5]\n",
        "assert scalar_divideV([1, 2, 4], 2) == [0.5, 1.0, 2.0]"
      ]
    },
    {
      "cell_type": "markdown",
      "id": "005e7a40",
      "metadata": {
        "id": "005e7a40"
      },
      "source": [
        "## 행렬 항목별 연산"
      ]
    },
    {
      "cell_type": "markdown",
      "id": "4ncwViUvDS2j",
      "metadata": {
        "id": "4ncwViUvDS2j"
      },
      "source": [
        "**문제 1**"
      ]
    },
    {
      "cell_type": "markdown",
      "id": "cDj1et3xDS2j",
      "metadata": {
        "id": "cDj1et3xDS2j"
      },
      "source": [
        "행렬 항목별 덧셈과 유사하게 작동하는 행렬 항목별 곱셈 함수 `multiplyM()`을 구현하라.\n",
        "\n",
        "$$\n",
        "\\begin{align*}\n",
        "\\begin{bmatrix}2&3&7\\\\2&1&1\\end{bmatrix}\n",
        "\\ast \\begin{bmatrix}1&1&5\\\\4&5&1\\end{bmatrix}\n",
        "&= \\begin{bmatrix}2\\ast1&3\\ast1&7\\ast5\\\\2\\ast4&1\\ast5&1\\ast1\\end{bmatrix} \\\\[.5ex]\n",
        "&= \\begin{bmatrix}2&3&35\\\\8&5&1\\end{bmatrix}\n",
        "\\end{align*}\n",
        "$$"
      ]
    },
    {
      "cell_type": "code",
      "execution_count": null,
      "id": "L9lJhuQ5DS2j",
      "metadata": {
        "id": "L9lJhuQ5DS2j"
      },
      "outputs": [],
      "source": [
        "# pass를 적절한 코드로 대체하라.\n",
        "\n",
        "def multiplyM(x, y):\n",
        "    pass"
      ]
    },
    {
      "cell_type": "markdown",
      "id": "Z4oPzNJHDS2j",
      "metadata": {
        "id": "Z4oPzNJHDS2j"
      },
      "source": [
        "아래 코드를 실행할 때 오류가 발생하지 않아야 한다."
      ]
    },
    {
      "cell_type": "code",
      "execution_count": null,
      "id": "09213ae7",
      "metadata": {
        "id": "09213ae7"
      },
      "outputs": [],
      "source": [
        "# 절대 수정하지 말것!\n",
        "\n",
        "A = [[2, 3, 7],\n",
        "     [2, 1, 1]]\n",
        "\n",
        "B = [[1, 1, 5],\n",
        "     [4, 5, 1]]\n",
        "\n",
        "AB = [[2, 3, 35],\n",
        "      [8, 5, 1]]\n",
        "\n",
        "assert multiplyM(A, B) == AB"
      ]
    },
    {
      "cell_type": "markdown",
      "id": "1ROsPqfTDS2j",
      "metadata": {
        "id": "1ROsPqfTDS2j"
      },
      "source": [
        "**문제 2**"
      ]
    },
    {
      "cell_type": "markdown",
      "id": "kIS2dAl3DS2j",
      "metadata": {
        "id": "kIS2dAl3DS2j"
      },
      "source": [
        "행렬 항목별 곱셈과 유사하게 작동하는 행렬 항목별 나눗셈 함수 `divideM()`을 구현하라.\n",
        "\n",
        "$$\n",
        "\\begin{align*}\n",
        "\\begin{bmatrix}2&3&7\\\\2&1&1\\end{bmatrix}\n",
        "/ \\begin{bmatrix}1&1&5\\\\4&5&1\\end{bmatrix}\n",
        "&= \\begin{bmatrix}2/1&3/1&7/5\\\\2/4&1/5&1/1\\end{bmatrix} \\\\[.5ex]\n",
        "&= \\begin{bmatrix}2.0&3.0&1.4\\\\0.5&0.2&1.0\\end{bmatrix}\n",
        "\\end{align*}\n",
        "$$"
      ]
    },
    {
      "cell_type": "code",
      "execution_count": null,
      "id": "C-ucPkNXDS2j",
      "metadata": {
        "id": "C-ucPkNXDS2j"
      },
      "outputs": [],
      "source": [
        "# pass를 적절한 코드로 대체하라.\n",
        "\n",
        "def divideM(x, y):\n",
        "    pass"
      ]
    },
    {
      "cell_type": "markdown",
      "id": "pjKTzQOTDS2j",
      "metadata": {
        "id": "pjKTzQOTDS2j"
      },
      "source": [
        "아래 코드를 실행할 때 오류가 발생하지 않아야 한다."
      ]
    },
    {
      "cell_type": "code",
      "execution_count": null,
      "id": "94822bd3",
      "metadata": {
        "id": "94822bd3"
      },
      "outputs": [],
      "source": [
        "# 절대 수정하지 말것!\n",
        "\n",
        "A = [[2, 3, 7],\n",
        "     [2, 1, 1]]\n",
        "\n",
        "B = [[1, 1, 5],\n",
        "     [4, 5, 1]]\n",
        "\n",
        "AB = [[2.0, 3.0, 1.4],\n",
        "      [0.5, 0.2, 1.0]]\n",
        "\n",
        "assert divideM(A, B) == AB"
      ]
    },
    {
      "cell_type": "markdown",
      "id": "roaz-Pv7DS2k",
      "metadata": {
        "id": "roaz-Pv7DS2k"
      },
      "source": [
        "## 행렬 브로드캐스팅\n",
        "\n",
        "벡터 스칼라 연산에 사용된 브로드캐스팅이\n",
        "행렬 스칼라 연산에 동일하게 적용될 수 있다."
      ]
    },
    {
      "cell_type": "markdown",
      "id": "DOuhdz-eDS2k",
      "metadata": {
        "id": "DOuhdz-eDS2k"
      },
      "source": [
        "**문제 1**"
      ]
    },
    {
      "cell_type": "markdown",
      "id": "tSMa9pcYDS2k",
      "metadata": {
        "id": "tSMa9pcYDS2k"
      },
      "source": [
        "행렬 스칼라 곱셈을 실행하는 `scalar_multiplyM()` 함수의 첫째 인자는 스칼라, 둘째 인자는 행렬일 때\n",
        "실행된다.\n",
        "이제 첫째 인자가 행렬, 둘째 인자가 스칼라 일 때도 작동하도록 함수를 수정하라.\n",
        "\n",
        "$$\n",
        "2\\ast\n",
        "\\begin{bmatrix}1&8&-3\\\\4&-2&5\\end{bmatrix}\n",
        "= \\begin{bmatrix}2\\ast 1&2\\ast 8&2\\ast -3\\\\2\\ast 4&2\\ast -2&2\\ast 5\\end{bmatrix}\n",
        "= \\begin{bmatrix}2&16&-6\\\\8&-4&10\\end{bmatrix}\n",
        "$$\n",
        "\n",
        "$$\n",
        "\\begin{bmatrix}1&8&-3\\\\4&-2&5\\end{bmatrix}\n",
        "\\ast 2\n",
        "= \\begin{bmatrix}1\\ast 2&8\\ast 2&-3\\ast 2\\\\4\\ast 2&-2\\ast 2&5\\ast 2\\end{bmatrix}\n",
        "= \\begin{bmatrix}2&16&-6\\\\8&-4&10\\end{bmatrix}\n",
        "$$"
      ]
    },
    {
      "cell_type": "code",
      "execution_count": null,
      "id": "FSAdmjkGDS2k",
      "metadata": {
        "id": "FSAdmjkGDS2k"
      },
      "outputs": [],
      "source": [
        "# pass를 적절한 코드로 대체하라.\n",
        "\n",
        "def scalar_multiplyM(x, y):\n",
        "    pass"
      ]
    },
    {
      "cell_type": "markdown",
      "id": "bwO3m_JiDS2k",
      "metadata": {
        "id": "bwO3m_JiDS2k"
      },
      "source": [
        "아래 코드를 실행할 때 오류가 발생하지 않아야 한다.\n",
        "\n",
        "힌트: `isinstance()` 함수 활용"
      ]
    },
    {
      "cell_type": "code",
      "execution_count": null,
      "id": "ARjsHgnFDS2k",
      "metadata": {
        "id": "ARjsHgnFDS2k"
      },
      "outputs": [],
      "source": [
        "# 절대 수정하지 말것!\n",
        "\n",
        "A = [[1, 8, -3],\n",
        "     [4, -2, 5]]\n",
        "\n",
        "A2 = [[2, 16, -6],\n",
        "      [8, -4, 10]]\n",
        "\n",
        "assert scalar_multiplyM(2, A) == A2\n",
        "assert scalar_multiplyM(A, 2) == A2"
      ]
    },
    {
      "cell_type": "markdown",
      "id": "EWuL5bcBDS2k",
      "metadata": {
        "id": "EWuL5bcBDS2k"
      },
      "source": [
        "**문제 2**"
      ]
    },
    {
      "cell_type": "markdown",
      "id": "qLHJpzL8DS2l",
      "metadata": {
        "id": "qLHJpzL8DS2l"
      },
      "source": [
        "행렬 스칼라 곱셈과 유사하게 작동하는 행렬 스칼라 덧셈 함수 `scalar_addM()`를 구현하라.\n",
        "\n",
        "$$\n",
        "2 +\n",
        "\\begin{bmatrix}1&8&-3\\\\4&-2&5\\end{bmatrix}\n",
        "= \\begin{bmatrix}2 + 1&2 + 8&2 + -3\\\\2 + 4&2 + -2&2 + 5\\end{bmatrix}\n",
        "= \\begin{bmatrix}3&10&-1\\\\6&0&7\\end{bmatrix}\n",
        "$$\n",
        "\n",
        "$$\n",
        "\\begin{bmatrix}1&8&-3\\\\4&-2&5\\end{bmatrix}\n",
        " + 2\n",
        "= \\begin{bmatrix}1 + 2&8 + 2&-3 + 2\\\\4 + 2&-2 + 2&5 + 2\\end{bmatrix}\n",
        "= \\begin{bmatrix}3&10&-1\\\\6&0&7\\end{bmatrix}\n",
        "$$"
      ]
    },
    {
      "cell_type": "code",
      "execution_count": null,
      "id": "0B6phqOkDS2l",
      "metadata": {
        "id": "0B6phqOkDS2l"
      },
      "outputs": [],
      "source": [
        "# pass를 적절한 코드로 대체하라.\n",
        "\n",
        "def scalar_addM(x, y):\n",
        "    pass"
      ]
    },
    {
      "cell_type": "markdown",
      "id": "OluNOWWNDS2l",
      "metadata": {
        "id": "OluNOWWNDS2l"
      },
      "source": [
        "아래 코드를 실행할 때 오류가 발생하지 않아야 한다.\n",
        "\n",
        "힌트: `isinstance()` 함수 활용"
      ]
    },
    {
      "cell_type": "code",
      "execution_count": null,
      "id": "de31529d",
      "metadata": {
        "id": "de31529d"
      },
      "outputs": [],
      "source": [
        "# 절대 수정하지 말것!\n",
        "\n",
        "A = [[1, 8, -3],\n",
        "     [4, -2, 5]]\n",
        "\n",
        "A2 = [[3, 10, -1],\n",
        "      [6, 0, 7]]\n",
        "\n",
        "assert scalar_addM(2, A) == A2\n",
        "assert scalar_addM(A, 2) == A2"
      ]
    },
    {
      "cell_type": "markdown",
      "id": "zo7NAdN6DS2l",
      "metadata": {
        "id": "zo7NAdN6DS2l"
      },
      "source": [
        "**문제 3**"
      ]
    },
    {
      "cell_type": "markdown",
      "id": "r1omo-DSDS2l",
      "metadata": {
        "id": "r1omo-DSDS2l"
      },
      "source": [
        "행렬 스칼라 덧셈과 유사하게 작동하는 행렬 스칼라 뺄셈 함수 `scalar_substractM()`를 구현하라.\n",
        "\n",
        "$$\n",
        "2 -\n",
        "\\begin{bmatrix}1&8&-3\\\\4&-2&5\\end{bmatrix}\n",
        "= \\begin{bmatrix}2 - 1&2 - 8&2 - -3\\\\2 - 4&2 - -2&2 - 5\\end{bmatrix}\n",
        "= \\begin{bmatrix}1&-6&5\\\\-2&4&-3\\end{bmatrix}\n",
        "$$\n",
        "\n",
        "$$\n",
        "\\begin{bmatrix}1&8&-3\\\\4&-2&5\\end{bmatrix}\n",
        " - 2\n",
        "= \\begin{bmatrix}1 - 2&8 - 2&-3 - 2\\\\4 - 2&-2 - 2&5 - 2\\end{bmatrix}\n",
        "= \\begin{bmatrix}-1&6&-5\\\\2&-4&3\\end{bmatrix}\n",
        "$$"
      ]
    },
    {
      "cell_type": "code",
      "execution_count": null,
      "id": "I2mzAS1tDS2l",
      "metadata": {
        "id": "I2mzAS1tDS2l"
      },
      "outputs": [],
      "source": [
        "# pass를 적절한 코드로 대체하라.\n",
        "\n",
        "def scalar_subtractM(x, y):\n",
        "    pass"
      ]
    },
    {
      "cell_type": "markdown",
      "id": "Aq-XykjIDS2l",
      "metadata": {
        "id": "Aq-XykjIDS2l"
      },
      "source": [
        "아래 코드를 실행할 때 오류가 발생하지 않아야 한다.\n",
        "\n",
        "힌트: `isinstance()` 함수 활용"
      ]
    },
    {
      "cell_type": "code",
      "execution_count": null,
      "id": "4cIggIOODS2l",
      "metadata": {
        "id": "4cIggIOODS2l"
      },
      "outputs": [],
      "source": [
        "# 절대 수정하지 말것!\n",
        "\n",
        "A = [[1, 8, -3],\n",
        "     [4, -2, 5]]\n",
        "\n",
        "Am1 = [[1, -6, 5],\n",
        "      [-2, 4, -3]]\n",
        "\n",
        "Am2 = [[-1, 6, -5],\n",
        "      [2, -4, 3]]\n",
        "\n",
        "assert scalar_subtractM(2, A) == Am1\n",
        "assert scalar_subtractM(A, 2) == Am2"
      ]
    },
    {
      "cell_type": "markdown",
      "id": "I15Vs7NWDS2l",
      "metadata": {
        "id": "I15Vs7NWDS2l"
      },
      "source": [
        "**문제 4**"
      ]
    },
    {
      "cell_type": "markdown",
      "id": "ZjNJ3IdTDS2l",
      "metadata": {
        "id": "ZjNJ3IdTDS2l"
      },
      "source": [
        "행렬 스칼라 곱셈과 유사하게 작동하는 행렬 스칼라 나눗셈 함수 `scalar_divideM()`를 구현하라.\n",
        "\n",
        "$$\n",
        "2 /\n",
        "\\begin{bmatrix}1&8&-3\\\\4&-2&5\\end{bmatrix}\n",
        "= \\begin{bmatrix}2 / 1&2 / 8&2 / -3\\\\2 / 4&2 / -2&2 / 5\\end{bmatrix}\n",
        "= \\begin{bmatrix}2.0&0.25&-0.66667\\\\0.5&-1.0&0.4\\end{bmatrix}\n",
        "$$\n",
        "\n",
        "$$\n",
        "\\begin{bmatrix}1&8&-3\\\\4&-2&5\\end{bmatrix}\n",
        " / 2\n",
        "= \\begin{bmatrix}1 / 2&8 / 2&-3 / 2\\\\4 / 2&-2 / 2&5 / 2\\end{bmatrix}\n",
        "= \\begin{bmatrix}0.5&4.0&-1.5\\\\2.0&-1.0&2.5\\end{bmatrix}\n",
        "$$"
      ]
    },
    {
      "cell_type": "code",
      "execution_count": null,
      "id": "AlksDnDdDS2l",
      "metadata": {
        "id": "AlksDnDdDS2l"
      },
      "outputs": [],
      "source": [
        "# pass를 적절한 코드로 대체하라.\n",
        "\n",
        "def scalar_divideM(x, y):\n",
        "    pass"
      ]
    },
    {
      "cell_type": "markdown",
      "id": "0-zF4g2sDS2l",
      "metadata": {
        "id": "0-zF4g2sDS2l"
      },
      "source": [
        "아래 코드를 실행할 때 오류가 발생하지 않아야 한다.\n",
        "\n",
        "힌트: `isinstance()` 함수 활용"
      ]
    },
    {
      "cell_type": "code",
      "execution_count": null,
      "id": "4tfwWfARDS2l",
      "metadata": {
        "id": "4tfwWfARDS2l"
      },
      "outputs": [],
      "source": [
        "# 절대 수정하지 말것!\n",
        "\n",
        "A = [[1, 8, -3],\n",
        "     [4, -2, 5]]\n",
        "\n",
        "Am1 = [[2.0, 0.25, -2/3],\n",
        "      [0.5, -1.0, 0.4]]\n",
        "\n",
        "Am2 = [[0.5, 4.0, -1.5],\n",
        "      [2.0, -1.0, 2.5]]\n",
        "\n",
        "assert scalar_divideM(2, A) == Am1\n",
        "assert scalar_divideM(A, 2) == Am2"
      ]
    },
    {
      "cell_type": "markdown",
      "id": "bc58bca8",
      "metadata": {
        "id": "bc58bca8"
      },
      "source": [
        "## 행렬 활용"
      ]
    },
    {
      "cell_type": "markdown",
      "id": "fd05c165",
      "metadata": {
        "id": "fd05c165"
      },
      "source": [
        "**문제 1**"
      ]
    },
    {
      "cell_type": "markdown",
      "id": "9ce76291",
      "metadata": {
        "id": "9ce76291"
      },
      "source": [
        "어떤 동호회의 사용자 아이디 $i$와 $j$가 친구사이라는 사실을 $(i, j)$로 표시한다고 하자.\n",
        "그리고 열 명의 사용자 사이의 친구관계가 다음과 같다고 가정하자."
      ]
    },
    {
      "cell_type": "code",
      "execution_count": 4,
      "id": "f290f23d",
      "metadata": {},
      "outputs": [],
      "source": [
        "import numpy as np"
      ]
    },
    {
      "cell_type": "code",
      "execution_count": 5,
      "id": "3a4b8673",
      "metadata": {
        "id": "3a4b8673"
      },
      "outputs": [],
      "source": [
        "friendships = [(0, 1), (0, 2), (1, 2), (1, 3), (2, 3), (3, 4),\n",
        "               (4, 5), (5, 6), (5, 7), (6, 8), (7, 8), (8, 9)]"
      ]
    },
    {
      "cell_type": "markdown",
      "id": "5dcf464c",
      "metadata": {
        "id": "5dcf464c"
      },
      "source": [
        "그런데 이렇게 하면 사용자들 사이의 친구관계를 쉽게 파악하기 어렵다.\n",
        "반면에 아래와 같이 $10\\times 10$ 행렬로 표시하면 다르게 보인다."
      ]
    },
    {
      "cell_type": "markdown",
      "id": "ee17882d",
      "metadata": {
        "id": "ee17882d"
      },
      "source": [
        "$$\n",
        "F =\n",
        "\\begin{bmatrix}\n",
        "0&1&1&0&0&0&0&0&0&0\\\\\n",
        "1&0&1&1&0&0&0&0&0&0\\\\\n",
        "1&1&0&1&0&0&0&0&0&0\\\\\n",
        "0&1&1&0&1&0&0&0&0&0\\\\\n",
        "0&0&0&1&0&1&0&0&0&0\\\\\n",
        "0&0&0&0&1&0&1&1&0&0\\\\\n",
        "0&0&0&0&0&1&0&0&1&0\\\\\n",
        "0&0&0&0&0&1&0&0&1&0\\\\\n",
        "0&0&0&0&0&0&1&1&0&1\\\\\n",
        "0&0&0&0&0&0&0&0&1&0\n",
        "\\end{bmatrix}\n",
        "$$"
      ]
    },
    {
      "cell_type": "markdown",
      "id": "992502be",
      "metadata": {
        "id": "992502be"
      },
      "source": [
        "즉, 사용자 $i$와 사용자 $j$ 사이의 친구관계 성립여부는\n",
        "행렬 $F$의 $(i,j)$ 번째 항목이 1이면 친구관계이고, 0이면 아니라는 것을 바로 확인할 수 있다.\n",
        "즉, $F_{ij} = 1$인가를 확인만 하면 된다.\n",
        "\n",
        "위 행렬 $F$를 구현하는 (10, 10) 모양의 행렬를 가리키는 변수 `friend_matrix` 를 선언하라."
      ]
    },
    {
      "cell_type": "code",
      "execution_count": 12,
      "id": "be93515f",
      "metadata": {
        "id": "be93515f"
      },
      "outputs": [],
      "source": [
        "# None 을 적절한 표현식으로 대체하라.\n",
        "\n",
        "friend_matrix = np.zeros((10,10))\n",
        "\n",
        "for i,j in friendships:\n",
        "    friend_matrix[i][j]=1\n",
        "    friend_matrix[j][i]=1"
      ]
    },
    {
      "cell_type": "markdown",
      "id": "bf860aa1",
      "metadata": {
        "id": "bf860aa1"
      },
      "source": [
        "아이디 0번은 아이디 2번과 친구관계이다."
      ]
    },
    {
      "cell_type": "code",
      "execution_count": 13,
      "id": "b6266cf2",
      "metadata": {
        "id": "b6266cf2"
      },
      "outputs": [],
      "source": [
        "# 아래 주석을 해제하고 실행하라.\n",
        "\n",
        "assert friend_matrix[0][2] == 1"
      ]
    },
    {
      "cell_type": "markdown",
      "id": "fe930a05",
      "metadata": {
        "id": "fe930a05"
      },
      "source": [
        "아이디 8번은 아이디 0번과 친구관계가 아니다."
      ]
    },
    {
      "cell_type": "code",
      "execution_count": 14,
      "id": "032b6875",
      "metadata": {
        "id": "032b6875"
      },
      "outputs": [],
      "source": [
        "# 아래 주석을 해제하고 실행하라.\n",
        "\n",
        "assert friend_matrix[8][0] == 0"
      ]
    },
    {
      "cell_type": "markdown",
      "id": "7263e2ed",
      "metadata": {
        "id": "7263e2ed"
      },
      "source": [
        "아이디 5번과 친구사이인 아이디는 다음과 같다."
      ]
    },
    {
      "cell_type": "code",
      "execution_count": 15,
      "id": "18c155cc",
      "metadata": {
        "id": "18c155cc"
      },
      "outputs": [
        {
          "data": {
            "text/plain": [
              "[4, 6, 7]"
            ]
          },
          "execution_count": 15,
          "metadata": {},
          "output_type": "execute_result"
        }
      ],
      "source": [
        "# 아래 주석을 해제하고 실행하라.\n",
        "\n",
        "friends_of_five = [ i for i, is_friend in enumerate(friend_matrix[5]) if is_friend ]\n",
        "friends_of_five"
      ]
    }
  ],
  "metadata": {
    "colab": {
      "provenance": []
    },
    "kernelspec": {
      "display_name": "Python 3",
      "language": "python",
      "name": "python3"
    },
    "language_info": {
      "codemirror_mode": {
        "name": "ipython",
        "version": 3
      },
      "file_extension": ".py",
      "mimetype": "text/x-python",
      "name": "python",
      "nbconvert_exporter": "python",
      "pygments_lexer": "ipython3",
      "version": "3.9.6"
    }
  },
  "nbformat": 4,
  "nbformat_minor": 5
}
